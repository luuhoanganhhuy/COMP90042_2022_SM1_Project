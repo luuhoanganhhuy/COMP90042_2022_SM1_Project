{
  "nbformat": 4,
  "nbformat_minor": 0,
  "metadata": {
    "colab": {
      "name": "Untitled2.ipynb",
      "provenance": [],
      "collapsed_sections": []
    },
    "kernelspec": {
      "name": "python3",
      "display_name": "Python 3"
    },
    "language_info": {
      "name": "python"
    }
  },
  "cells": [
    {
      "cell_type": "code",
      "execution_count": null,
      "metadata": {
        "id": "BHV5SvJ1mhMR"
      },
      "outputs": [],
      "source": [
        "import pandas as pd\n",
        "import numpy as np\n",
        "import re\n",
        "import matplotlib.pyplot as plt\n",
        "import pickle\n",
        "import tweepy\n",
        "import configparser\n",
        "from collections import Counter"
      ]
    },
    {
      "cell_type": "code",
      "source": [
        "!pip install tweepy==4.9.0"
      ],
      "metadata": {
        "colab": {
          "base_uri": "https://localhost:8080/"
        },
        "id": "Kr1_bltio80y",
        "outputId": "387d4fba-1bb9-41f8-bd47-4edb417f1ec0"
      },
      "execution_count": null,
      "outputs": [
        {
          "output_type": "stream",
          "name": "stdout",
          "text": [
            "Requirement already satisfied: tweepy==4.9.0 in /usr/local/lib/python3.7/dist-packages (4.9.0)\n",
            "Requirement already satisfied: requests<3,>=2.27.0 in /usr/local/lib/python3.7/dist-packages (from tweepy==4.9.0) (2.27.1)\n",
            "Requirement already satisfied: oauthlib<4,>=3.2.0 in /usr/local/lib/python3.7/dist-packages (from tweepy==4.9.0) (3.2.0)\n",
            "Requirement already satisfied: requests-oauthlib<2,>=1.2.0 in /usr/local/lib/python3.7/dist-packages (from tweepy==4.9.0) (1.3.1)\n",
            "Requirement already satisfied: charset-normalizer~=2.0.0 in /usr/local/lib/python3.7/dist-packages (from requests<3,>=2.27.0->tweepy==4.9.0) (2.0.12)\n",
            "Requirement already satisfied: idna<4,>=2.5 in /usr/local/lib/python3.7/dist-packages (from requests<3,>=2.27.0->tweepy==4.9.0) (2.10)\n",
            "Requirement already satisfied: certifi>=2017.4.17 in /usr/local/lib/python3.7/dist-packages (from requests<3,>=2.27.0->tweepy==4.9.0) (2021.10.8)\n",
            "Requirement already satisfied: urllib3<1.27,>=1.21.1 in /usr/local/lib/python3.7/dist-packages (from requests<3,>=2.27.0->tweepy==4.9.0) (1.24.3)\n"
          ]
        }
      ]
    },
    {
      "cell_type": "code",
      "source": [
        "tweepy.__version__"
      ],
      "metadata": {
        "colab": {
          "base_uri": "https://localhost:8080/",
          "height": 35
        },
        "id": "PVyAKQTyox2E",
        "outputId": "cfcf8883-8a0c-48c3-90ca-0f6e7526c90c"
      },
      "execution_count": null,
      "outputs": [
        {
          "output_type": "execute_result",
          "data": {
            "text/plain": [
              "'4.9.0'"
            ],
            "application/vnd.google.colaboratory.intrinsic+json": {
              "type": "string"
            }
          },
          "metadata": {},
          "execution_count": 3
        }
      ]
    },
    {
      "cell_type": "code",
      "source": [
        "# read data \n",
        "covid_data_file = open('./covid.data.txt', 'r')\n",
        "covid_lines = covid_data_file.readlines()\n",
        "covid_events =[]\n",
        "# Strips the newline character\n",
        "for line in covid_lines:\n",
        "    covid_events.append(list(map(int,line.strip('\\n').split(','))))\n"
      ],
      "metadata": {
        "id": "_-LoHD8dnBzy"
      },
      "execution_count": null,
      "outputs": []
    },
    {
      "cell_type": "code",
      "source": [
        "len(covid_lines)"
      ],
      "metadata": {
        "colab": {
          "base_uri": "https://localhost:8080/"
        },
        "id": "pyQnfDrJFVff",
        "outputId": "b1a60e4f-9aa2-40d0-d005-2bf9f15607f3"
      },
      "execution_count": null,
      "outputs": [
        {
          "output_type": "execute_result",
          "data": {
            "text/plain": [
              "17458"
            ]
          },
          "metadata": {},
          "execution_count": 24
        }
      ]
    },
    {
      "cell_type": "code",
      "source": [
        "# config to access tweeter API\n",
        "config = configparser.ConfigParser()\n",
        "config.read('config.ini')\n",
        "\n",
        "consumer_key = config['twitter']['consumer_key']\n",
        "consumer_secret = config['twitter']['consumer_secret']\n",
        "\n",
        "access_token = config['twitter']['access_token']\n",
        "access_token_secret = config['twitter']['access_token_secret']"
      ],
      "metadata": {
        "id": "Hgk8QuO5nZc9"
      },
      "execution_count": null,
      "outputs": []
    },
    {
      "cell_type": "code",
      "source": [
        "# authentication\n",
        "client = tweepy.Client(consumer_key=consumer_key, consumer_secret=consumer_secret,\n",
        "                                   access_token=access_token, access_token_secret=access_token_secret,wait_on_rate_limit=True)"
      ],
      "metadata": {
        "id": "AnRCaab7njOD"
      },
      "execution_count": null,
      "outputs": []
    },
    {
      "cell_type": "code",
      "source": [
        "# get_tweets only return 100 results, handle the case when there is more than 100\n",
        "def lookup_tweets(tweet_IDs, client):\n",
        "    full_tweets = []\n",
        "    tweet_count = len(tweet_IDs)\n",
        "    for i in range(int((tweet_count / 100) + 1)):\n",
        "        # Catch the last group if it is less than 100 tweets\n",
        "        end_loc = min((i + 1) * 100, tweet_count)\n",
        "        if tweet_IDs[i * 100:end_loc]:\n",
        "            tweets = client.get_tweets(tweet_IDs[i * 100:end_loc],user_auth=True).data\n",
        "            if tweets:\n",
        "                full_tweets.extend(tweets)\n",
        "    return full_tweets"
      ],
      "metadata": {
        "id": "huAt0ObpnloE"
      },
      "execution_count": null,
      "outputs": []
    },
    {
      "cell_type": "code",
      "source": [
        "covid_events_text=[]\n",
        "for event in covid_events[16000:]:\n",
        "    results = lookup_tweets(event, client)\n",
        "    covid_event_text=[tweet.text for tweet in results]\n",
        "    covid_events_text.append(covid_event_text)"
      ],
      "metadata": {
        "colab": {
          "base_uri": "https://localhost:8080/"
        },
        "id": "WPqksiQqnpGS",
        "outputId": "47e3f077-45cb-412b-8bc3-2e14403b4cfb"
      },
      "execution_count": null,
      "outputs": [
        {
          "output_type": "stream",
          "name": "stderr",
          "text": [
            "Rate limit exceeded. Sleeping for 737 seconds.\n"
          ]
        }
      ]
    },
    {
      "cell_type": "code",
      "source": [
        "f = open(f'./covid_text.pckl','rb')\n",
        "old = pickle.load(f)\n",
        "f.close()\n",
        "new = old+covid_events_text\n",
        "f = open(f'./covid_text.pckl','wb')\n",
        "pickle.dump(new,f)\n",
        "f.close()"
      ],
      "metadata": {
        "id": "o-6b4SiBKgwl"
      },
      "execution_count": null,
      "outputs": []
    },
    {
      "cell_type": "code",
      "source": [
        "len(new)"
      ],
      "metadata": {
        "id": "rCGAo8WJLYqH",
        "colab": {
          "base_uri": "https://localhost:8080/"
        },
        "outputId": "a759aa53-ec33-43cc-83e9-b8da06a0854e"
      },
      "execution_count": null,
      "outputs": [
        {
          "output_type": "execute_result",
          "data": {
            "text/plain": [
              "17458"
            ]
          },
          "metadata": {},
          "execution_count": 32
        }
      ]
    },
    {
      "cell_type": "code",
      "source": [
        "# covid tweets\n",
        "f = open(f'./covid_text.pckl','rb')\n",
        "covid_data = pickle.load(f)\n",
        "f.close()"
      ],
      "metadata": {
        "id": "Gnk5tJUdmr-L"
      },
      "execution_count": null,
      "outputs": []
    },
    {
      "cell_type": "code",
      "source": [
        "from google.colab import files\n",
        "files.download(\"./covid_text.pckl\")"
      ],
      "metadata": {
        "id": "UUWU0K_2PgMa",
        "colab": {
          "base_uri": "https://localhost:8080/",
          "height": 17
        },
        "outputId": "2b17cd88-2b99-4ccb-b843-45aa574fc6f7"
      },
      "execution_count": null,
      "outputs": [
        {
          "output_type": "display_data",
          "data": {
            "text/plain": [
              "<IPython.core.display.Javascript object>"
            ],
            "application/javascript": [
              "\n",
              "    async function download(id, filename, size) {\n",
              "      if (!google.colab.kernel.accessAllowed) {\n",
              "        return;\n",
              "      }\n",
              "      const div = document.createElement('div');\n",
              "      const label = document.createElement('label');\n",
              "      label.textContent = `Downloading \"${filename}\": `;\n",
              "      div.appendChild(label);\n",
              "      const progress = document.createElement('progress');\n",
              "      progress.max = size;\n",
              "      div.appendChild(progress);\n",
              "      document.body.appendChild(div);\n",
              "\n",
              "      const buffers = [];\n",
              "      let downloaded = 0;\n",
              "\n",
              "      const channel = await google.colab.kernel.comms.open(id);\n",
              "      // Send a message to notify the kernel that we're ready.\n",
              "      channel.send({})\n",
              "\n",
              "      for await (const message of channel.messages) {\n",
              "        // Send a message to notify the kernel that we're ready.\n",
              "        channel.send({})\n",
              "        if (message.buffers) {\n",
              "          for (const buffer of message.buffers) {\n",
              "            buffers.push(buffer);\n",
              "            downloaded += buffer.byteLength;\n",
              "            progress.value = downloaded;\n",
              "          }\n",
              "        }\n",
              "      }\n",
              "      const blob = new Blob(buffers, {type: 'application/binary'});\n",
              "      const a = document.createElement('a');\n",
              "      a.href = window.URL.createObjectURL(blob);\n",
              "      a.download = filename;\n",
              "      div.appendChild(a);\n",
              "      a.click();\n",
              "      div.remove();\n",
              "    }\n",
              "  "
            ]
          },
          "metadata": {}
        },
        {
          "output_type": "display_data",
          "data": {
            "text/plain": [
              "<IPython.core.display.Javascript object>"
            ],
            "application/javascript": [
              "download(\"download_8e8754f0-2f7d-41af-8749-526fcb8d0b75\", \"covid_text.pckl\", 40583351)"
            ]
          },
          "metadata": {}
        }
      ]
    },
    {
      "cell_type": "markdown",
      "source": [
        "# Hashtag processing"
      ],
      "metadata": {
        "id": "08HaBkT47QpE"
      }
    },
    {
      "cell_type": "code",
      "source": [
        "f = open(f'./covid_text.pckl','rb')\n",
        "covid_data = pickle.load(f)\n",
        "f.close()"
      ],
      "metadata": {
        "id": "cfKckBdCJzsQ"
      },
      "execution_count": null,
      "outputs": []
    },
    {
      "cell_type": "code",
      "source": [
        "def find_hashtag(text):\n",
        "  return [word.lower() for word in text.split() if word.startswith('#')]"
      ],
      "metadata": {
        "id": "H8XGGRPY8Wef"
      },
      "execution_count": null,
      "outputs": []
    },
    {
      "cell_type": "code",
      "source": [
        "for i in range(len(covid_data)):\n",
        "    for j in range(len(covid_data[i])):\n",
        "        covid_data[i][j] = find_hashtag(covid_data[i][j])\n",
        "    covid_data[i] = [x for x in covid_data[i] if len(x)!= 0]  "
      ],
      "metadata": {
        "id": "5IurIc5g90m_"
      },
      "execution_count": null,
      "outputs": []
    },
    {
      "cell_type": "code",
      "source": [
        "covid_merge_events=[]\n",
        "for i, events in enumerate(covid_data):\n",
        "  flat_list = [hashtags for l in events for hashtags in l]\n",
        "  covid_merge_events.append(flat_list)"
      ],
      "metadata": {
        "id": "H1tsmDkq-kJY"
      },
      "execution_count": null,
      "outputs": []
    },
    {
      "cell_type": "code",
      "source": [
        "len(covid_merge_events)"
      ],
      "metadata": {
        "colab": {
          "base_uri": "https://localhost:8080/"
        },
        "id": "LBkOddF7KwQ9",
        "outputId": "ababc667-f01f-41f8-f750-726422f2146a"
      },
      "execution_count": null,
      "outputs": [
        {
          "output_type": "execute_result",
          "data": {
            "text/plain": [
              "17458"
            ]
          },
          "metadata": {},
          "execution_count": 161
        }
      ]
    },
    {
      "cell_type": "code",
      "source": [
        "f = open(f'./hashtag.pckl','wb')\n",
        "pickle.dump(covid_merge_events,f)\n",
        "f.close()"
      ],
      "metadata": {
        "id": "hD6gTZbGjYgM"
      },
      "execution_count": null,
      "outputs": []
    },
    {
      "cell_type": "markdown",
      "source": [
        "# Hashtag Analyse"
      ],
      "metadata": {
        "id": "MsHrGBdf7ZJt"
      }
    },
    {
      "cell_type": "code",
      "source": [
        "f = open(f'./hashtag.pckl','rb')\n",
        "hashtag = pickle.load(f)\n",
        "f.close()"
      ],
      "metadata": {
        "id": "MVYg7jbWKd3V"
      },
      "execution_count": null,
      "outputs": []
    },
    {
      "cell_type": "code",
      "source": [
        "f = open(f'./covid_text.pckl','rb')\n",
        "covid_data = pickle.load(f)\n",
        "f.close()"
      ],
      "metadata": {
        "id": "1TPmVM0YF94L"
      },
      "execution_count": null,
      "outputs": []
    },
    {
      "cell_type": "code",
      "source": [
        "pred = pd.read_csv('covid_predict.csv')"
      ],
      "metadata": {
        "id": "HrH9EX1C8azg"
      },
      "execution_count": null,
      "outputs": []
    },
    {
      "cell_type": "code",
      "source": [
        "len(covid_data)"
      ],
      "metadata": {
        "colab": {
          "base_uri": "https://localhost:8080/"
        },
        "id": "vqhzpXfUC_BL",
        "outputId": "15a2a084-2aea-4fd2-ab9b-21e2e07acda3"
      },
      "execution_count": null,
      "outputs": [
        {
          "output_type": "execute_result",
          "data": {
            "text/plain": [
              "17458"
            ]
          },
          "metadata": {},
          "execution_count": 6
        }
      ]
    },
    {
      "cell_type": "code",
      "source": [
        "## cleaning the tweets\n",
        "def clean_text(text):\n",
        "    text = re.sub(r'@[A-Za-z0-9]+','',text) #remove @mention\n",
        "    text = re.sub(r'#','',text) # remove the hashtag symbol\n",
        "    text = re.sub(r'https?:\\/\\/\\S+', '',text) #remove hyperlink\n",
        "    text = re.sub(r'\\n','',text) # remove \\n \n",
        "    text = re.sub(r'\\r','',text) # remove \\r\n",
        "    text = re.sub(r'[0-9]+','',text) #remove all the number\n",
        "    text = re.sub(r'\\W+', ' ', text) #remove special characters\n",
        "    text = text.strip().lower()\n",
        "    if len(text) != 0:\n",
        "        return text\n",
        "    else:\n",
        "        return None\n",
        "\n",
        "for i in range(len(covid_data)):\n",
        "    for j in range(len(covid_data[i])):\n",
        "        covid_data[i][j] = clean_text(covid_data[i][j])\n",
        "    covid_data[i] = [x for x in covid_data[i] if x is not None]"
      ],
      "metadata": {
        "id": "i6azl3ynHo8O"
      },
      "execution_count": null,
      "outputs": []
    },
    {
      "cell_type": "code",
      "source": [
        "len(covid_data)"
      ],
      "metadata": {
        "colab": {
          "base_uri": "https://localhost:8080/"
        },
        "id": "6ElMq6rsHpOM",
        "outputId": "b39230d9-6165-4979-c505-501d66046a5b"
      },
      "execution_count": null,
      "outputs": [
        {
          "output_type": "execute_result",
          "data": {
            "text/plain": [
              "17458"
            ]
          },
          "metadata": {},
          "execution_count": 8
        }
      ]
    },
    {
      "cell_type": "code",
      "source": [
        "# merge source tweeet and reply tweet together for train data\n",
        "covid_merge_events=[]\n",
        "covid_merge_hashtag=[]\n",
        "for event, hash in zip(covid_data, hashtag):\n",
        "    merge = ' '.join(word for word in event)\n",
        "    covid_merge_events.append(merge)\n",
        "    covid_merge_hashtag.append(hash)"
      ],
      "metadata": {
        "id": "gY43j5jrRFds"
      },
      "execution_count": null,
      "outputs": []
    },
    {
      "cell_type": "code",
      "source": [
        "print(len(covid_merge_events))\n",
        "print(len(covid_merge_hashtag))"
      ],
      "metadata": {
        "colab": {
          "base_uri": "https://localhost:8080/"
        },
        "id": "T-ugahZNStmh",
        "outputId": "84d62059-a90d-432c-99b2-8a5271af4f28"
      },
      "execution_count": null,
      "outputs": [
        {
          "output_type": "stream",
          "name": "stdout",
          "text": [
            "17458\n",
            "17458\n"
          ]
        }
      ]
    },
    {
      "cell_type": "code",
      "source": [
        "covid_df = pd.DataFrame({'text':covid_merge_events, 'hashtag':covid_merge_hashtag})\n",
        "nan_value = float(\"NaN\")\n",
        "covid_df.replace(\"\", nan_value, inplace=True)\n",
        "# covid_df.replace(\" \", nan_value, inplace=True)\n",
        "covid_df.dropna(axis=0 ,inplace=True)\n",
        "covid_df.reset_index()\n",
        "# covid_df = covid_df.drop('index', 1)"
      ],
      "metadata": {
        "colab": {
          "base_uri": "https://localhost:8080/",
          "height": 641
        },
        "id": "jUCRskGHIQ38",
        "outputId": "8bdfa572-0d11-43a1-d95b-7ed215156ca5"
      },
      "execution_count": null,
      "outputs": [
        {
          "output_type": "execute_result",
          "data": {
            "text/plain": [
              "       index                                               text  \\\n",
              "0          0  according to the new york times warner bros wa...   \n",
              "1          1  hurricane hanna has made landfall in texas the...   \n",
              "2          2  monkeys on the loose in india with stolen coro...   \n",
              "3          3  let s not play blind that the work is fighting...   \n",
              "4          4  if trump felt comfortable having it here then ...   \n",
              "...      ...                                                ...   \n",
              "17007  17453  i wonder how many lives could ve been saved if...   \n",
              "17008  17454  the front page on th march the first line read...   \n",
              "17009  17455  trump just completed the racism trifecta in a ...   \n",
              "17010  17456  here are a few of my photographs from today s ...   \n",
              "17011  17457  it s gone bill de blasio says nyc facing billi...   \n",
              "\n",
              "                                                 hashtag  \n",
              "0                                               [#tenet]  \n",
              "1                                                     []  \n",
              "2                                                     []  \n",
              "3                                                     []  \n",
              "4      [#coronavirus, #lovehurts, #magarally, #tulsa,...  \n",
              "...                                                  ...  \n",
              "17007                        [#cheaterinchief, #covid19]  \n",
              "17008  [#farright, #fakenews, #toriesout, #johnsonmus...  \n",
              "17009                                                 []  \n",
              "17010                   [#covid19, #voting, #parliament]  \n",
              "17011                              [#takeaccountability]  \n",
              "\n",
              "[17012 rows x 3 columns]"
            ],
            "text/html": [
              "\n",
              "  <div id=\"df-c8a59ae4-bd34-416f-9d5a-a47c9abfd284\">\n",
              "    <div class=\"colab-df-container\">\n",
              "      <div>\n",
              "<style scoped>\n",
              "    .dataframe tbody tr th:only-of-type {\n",
              "        vertical-align: middle;\n",
              "    }\n",
              "\n",
              "    .dataframe tbody tr th {\n",
              "        vertical-align: top;\n",
              "    }\n",
              "\n",
              "    .dataframe thead th {\n",
              "        text-align: right;\n",
              "    }\n",
              "</style>\n",
              "<table border=\"1\" class=\"dataframe\">\n",
              "  <thead>\n",
              "    <tr style=\"text-align: right;\">\n",
              "      <th></th>\n",
              "      <th>index</th>\n",
              "      <th>text</th>\n",
              "      <th>hashtag</th>\n",
              "    </tr>\n",
              "  </thead>\n",
              "  <tbody>\n",
              "    <tr>\n",
              "      <th>0</th>\n",
              "      <td>0</td>\n",
              "      <td>according to the new york times warner bros wa...</td>\n",
              "      <td>[#tenet]</td>\n",
              "    </tr>\n",
              "    <tr>\n",
              "      <th>1</th>\n",
              "      <td>1</td>\n",
              "      <td>hurricane hanna has made landfall in texas the...</td>\n",
              "      <td>[]</td>\n",
              "    </tr>\n",
              "    <tr>\n",
              "      <th>2</th>\n",
              "      <td>2</td>\n",
              "      <td>monkeys on the loose in india with stolen coro...</td>\n",
              "      <td>[]</td>\n",
              "    </tr>\n",
              "    <tr>\n",
              "      <th>3</th>\n",
              "      <td>3</td>\n",
              "      <td>let s not play blind that the work is fighting...</td>\n",
              "      <td>[]</td>\n",
              "    </tr>\n",
              "    <tr>\n",
              "      <th>4</th>\n",
              "      <td>4</td>\n",
              "      <td>if trump felt comfortable having it here then ...</td>\n",
              "      <td>[#coronavirus, #lovehurts, #magarally, #tulsa,...</td>\n",
              "    </tr>\n",
              "    <tr>\n",
              "      <th>...</th>\n",
              "      <td>...</td>\n",
              "      <td>...</td>\n",
              "      <td>...</td>\n",
              "    </tr>\n",
              "    <tr>\n",
              "      <th>17007</th>\n",
              "      <td>17453</td>\n",
              "      <td>i wonder how many lives could ve been saved if...</td>\n",
              "      <td>[#cheaterinchief, #covid19]</td>\n",
              "    </tr>\n",
              "    <tr>\n",
              "      <th>17008</th>\n",
              "      <td>17454</td>\n",
              "      <td>the front page on th march the first line read...</td>\n",
              "      <td>[#farright, #fakenews, #toriesout, #johnsonmus...</td>\n",
              "    </tr>\n",
              "    <tr>\n",
              "      <th>17009</th>\n",
              "      <td>17455</td>\n",
              "      <td>trump just completed the racism trifecta in a ...</td>\n",
              "      <td>[]</td>\n",
              "    </tr>\n",
              "    <tr>\n",
              "      <th>17010</th>\n",
              "      <td>17456</td>\n",
              "      <td>here are a few of my photographs from today s ...</td>\n",
              "      <td>[#covid19, #voting, #parliament]</td>\n",
              "    </tr>\n",
              "    <tr>\n",
              "      <th>17011</th>\n",
              "      <td>17457</td>\n",
              "      <td>it s gone bill de blasio says nyc facing billi...</td>\n",
              "      <td>[#takeaccountability]</td>\n",
              "    </tr>\n",
              "  </tbody>\n",
              "</table>\n",
              "<p>17012 rows × 3 columns</p>\n",
              "</div>\n",
              "      <button class=\"colab-df-convert\" onclick=\"convertToInteractive('df-c8a59ae4-bd34-416f-9d5a-a47c9abfd284')\"\n",
              "              title=\"Convert this dataframe to an interactive table.\"\n",
              "              style=\"display:none;\">\n",
              "        \n",
              "  <svg xmlns=\"http://www.w3.org/2000/svg\" height=\"24px\"viewBox=\"0 0 24 24\"\n",
              "       width=\"24px\">\n",
              "    <path d=\"M0 0h24v24H0V0z\" fill=\"none\"/>\n",
              "    <path d=\"M18.56 5.44l.94 2.06.94-2.06 2.06-.94-2.06-.94-.94-2.06-.94 2.06-2.06.94zm-11 1L8.5 8.5l.94-2.06 2.06-.94-2.06-.94L8.5 2.5l-.94 2.06-2.06.94zm10 10l.94 2.06.94-2.06 2.06-.94-2.06-.94-.94-2.06-.94 2.06-2.06.94z\"/><path d=\"M17.41 7.96l-1.37-1.37c-.4-.4-.92-.59-1.43-.59-.52 0-1.04.2-1.43.59L10.3 9.45l-7.72 7.72c-.78.78-.78 2.05 0 2.83L4 21.41c.39.39.9.59 1.41.59.51 0 1.02-.2 1.41-.59l7.78-7.78 2.81-2.81c.8-.78.8-2.07 0-2.86zM5.41 20L4 18.59l7.72-7.72 1.47 1.35L5.41 20z\"/>\n",
              "  </svg>\n",
              "      </button>\n",
              "      \n",
              "  <style>\n",
              "    .colab-df-container {\n",
              "      display:flex;\n",
              "      flex-wrap:wrap;\n",
              "      gap: 12px;\n",
              "    }\n",
              "\n",
              "    .colab-df-convert {\n",
              "      background-color: #E8F0FE;\n",
              "      border: none;\n",
              "      border-radius: 50%;\n",
              "      cursor: pointer;\n",
              "      display: none;\n",
              "      fill: #1967D2;\n",
              "      height: 32px;\n",
              "      padding: 0 0 0 0;\n",
              "      width: 32px;\n",
              "    }\n",
              "\n",
              "    .colab-df-convert:hover {\n",
              "      background-color: #E2EBFA;\n",
              "      box-shadow: 0px 1px 2px rgba(60, 64, 67, 0.3), 0px 1px 3px 1px rgba(60, 64, 67, 0.15);\n",
              "      fill: #174EA6;\n",
              "    }\n",
              "\n",
              "    [theme=dark] .colab-df-convert {\n",
              "      background-color: #3B4455;\n",
              "      fill: #D2E3FC;\n",
              "    }\n",
              "\n",
              "    [theme=dark] .colab-df-convert:hover {\n",
              "      background-color: #434B5C;\n",
              "      box-shadow: 0px 1px 3px 1px rgba(0, 0, 0, 0.15);\n",
              "      filter: drop-shadow(0px 1px 2px rgba(0, 0, 0, 0.3));\n",
              "      fill: #FFFFFF;\n",
              "    }\n",
              "  </style>\n",
              "\n",
              "      <script>\n",
              "        const buttonEl =\n",
              "          document.querySelector('#df-c8a59ae4-bd34-416f-9d5a-a47c9abfd284 button.colab-df-convert');\n",
              "        buttonEl.style.display =\n",
              "          google.colab.kernel.accessAllowed ? 'block' : 'none';\n",
              "\n",
              "        async function convertToInteractive(key) {\n",
              "          const element = document.querySelector('#df-c8a59ae4-bd34-416f-9d5a-a47c9abfd284');\n",
              "          const dataTable =\n",
              "            await google.colab.kernel.invokeFunction('convertToInteractive',\n",
              "                                                     [key], {});\n",
              "          if (!dataTable) return;\n",
              "\n",
              "          const docLinkHtml = 'Like what you see? Visit the ' +\n",
              "            '<a target=\"_blank\" href=https://colab.research.google.com/notebooks/data_table.ipynb>data table notebook</a>'\n",
              "            + ' to learn more about interactive tables.';\n",
              "          element.innerHTML = '';\n",
              "          dataTable['output_type'] = 'display_data';\n",
              "          await google.colab.output.renderOutput(dataTable, element);\n",
              "          const docLink = document.createElement('div');\n",
              "          docLink.innerHTML = docLinkHtml;\n",
              "          element.appendChild(docLink);\n",
              "        }\n",
              "      </script>\n",
              "    </div>\n",
              "  </div>\n",
              "  "
            ]
          },
          "metadata": {},
          "execution_count": 11
        }
      ]
    },
    {
      "cell_type": "code",
      "source": [
        "pred[\"text\"] = covid_df[\"text\"]\n",
        "pred[\"hashtag\"] = covid_df[\"hashtag\"]"
      ],
      "metadata": {
        "id": "0zx8Yx7YUI9k"
      },
      "execution_count": null,
      "outputs": []
    },
    {
      "cell_type": "code",
      "source": [
        "pred"
      ],
      "metadata": {
        "colab": {
          "base_uri": "https://localhost:8080/",
          "height": 641
        },
        "id": "7lch5jprIels",
        "outputId": "12fb313c-110c-49c1-9574-2147416ffa47"
      },
      "execution_count": null,
      "outputs": [
        {
          "output_type": "execute_result",
          "data": {
            "text/plain": [
              "                                                    text  Predicted  \\\n",
              "0      according to the new york times warner bros wa...          0   \n",
              "1      hurricane hanna has made landfall in texas the...          0   \n",
              "2      monkeys on the loose in india with stolen coro...          0   \n",
              "3      let s not play blind that the work is fighting...          0   \n",
              "4      if trump felt comfortable having it here then ...          0   \n",
              "...                                                  ...        ...   \n",
              "17007  i ll be the oversight trump vows he will perso...          0   \n",
              "17008  gohmert says he will take hydroxychloroquine a...          0   \n",
              "17009  breaking just sided with the government agains...          1   \n",
              "17010  white house promotes new lab results suggestin...          0   \n",
              "17011  recordings of internal who meetings show offic...          0   \n",
              "\n",
              "                                                 hashtag  \n",
              "0                                               [#tenet]  \n",
              "1                                                     []  \n",
              "2                                                     []  \n",
              "3                                                     []  \n",
              "4      [#coronavirus, #lovehurts, #magarally, #tulsa,...  \n",
              "...                                                  ...  \n",
              "17007                                                 []  \n",
              "17008                                                 []  \n",
              "17009  [#breaking, #greens, #covid19, #auspol, #covid...  \n",
              "17010                              [#gop., #coronavirus]  \n",
              "17011                                         [#covid19]  \n",
              "\n",
              "[17012 rows x 3 columns]"
            ],
            "text/html": [
              "\n",
              "  <div id=\"df-1f86fe29-32a8-4cf8-8b84-008ead580899\">\n",
              "    <div class=\"colab-df-container\">\n",
              "      <div>\n",
              "<style scoped>\n",
              "    .dataframe tbody tr th:only-of-type {\n",
              "        vertical-align: middle;\n",
              "    }\n",
              "\n",
              "    .dataframe tbody tr th {\n",
              "        vertical-align: top;\n",
              "    }\n",
              "\n",
              "    .dataframe thead th {\n",
              "        text-align: right;\n",
              "    }\n",
              "</style>\n",
              "<table border=\"1\" class=\"dataframe\">\n",
              "  <thead>\n",
              "    <tr style=\"text-align: right;\">\n",
              "      <th></th>\n",
              "      <th>text</th>\n",
              "      <th>Predicted</th>\n",
              "      <th>hashtag</th>\n",
              "    </tr>\n",
              "  </thead>\n",
              "  <tbody>\n",
              "    <tr>\n",
              "      <th>0</th>\n",
              "      <td>according to the new york times warner bros wa...</td>\n",
              "      <td>0</td>\n",
              "      <td>[#tenet]</td>\n",
              "    </tr>\n",
              "    <tr>\n",
              "      <th>1</th>\n",
              "      <td>hurricane hanna has made landfall in texas the...</td>\n",
              "      <td>0</td>\n",
              "      <td>[]</td>\n",
              "    </tr>\n",
              "    <tr>\n",
              "      <th>2</th>\n",
              "      <td>monkeys on the loose in india with stolen coro...</td>\n",
              "      <td>0</td>\n",
              "      <td>[]</td>\n",
              "    </tr>\n",
              "    <tr>\n",
              "      <th>3</th>\n",
              "      <td>let s not play blind that the work is fighting...</td>\n",
              "      <td>0</td>\n",
              "      <td>[]</td>\n",
              "    </tr>\n",
              "    <tr>\n",
              "      <th>4</th>\n",
              "      <td>if trump felt comfortable having it here then ...</td>\n",
              "      <td>0</td>\n",
              "      <td>[#coronavirus, #lovehurts, #magarally, #tulsa,...</td>\n",
              "    </tr>\n",
              "    <tr>\n",
              "      <th>...</th>\n",
              "      <td>...</td>\n",
              "      <td>...</td>\n",
              "      <td>...</td>\n",
              "    </tr>\n",
              "    <tr>\n",
              "      <th>17007</th>\n",
              "      <td>i ll be the oversight trump vows he will perso...</td>\n",
              "      <td>0</td>\n",
              "      <td>[]</td>\n",
              "    </tr>\n",
              "    <tr>\n",
              "      <th>17008</th>\n",
              "      <td>gohmert says he will take hydroxychloroquine a...</td>\n",
              "      <td>0</td>\n",
              "      <td>[]</td>\n",
              "    </tr>\n",
              "    <tr>\n",
              "      <th>17009</th>\n",
              "      <td>breaking just sided with the government agains...</td>\n",
              "      <td>1</td>\n",
              "      <td>[#breaking, #greens, #covid19, #auspol, #covid...</td>\n",
              "    </tr>\n",
              "    <tr>\n",
              "      <th>17010</th>\n",
              "      <td>white house promotes new lab results suggestin...</td>\n",
              "      <td>0</td>\n",
              "      <td>[#gop., #coronavirus]</td>\n",
              "    </tr>\n",
              "    <tr>\n",
              "      <th>17011</th>\n",
              "      <td>recordings of internal who meetings show offic...</td>\n",
              "      <td>0</td>\n",
              "      <td>[#covid19]</td>\n",
              "    </tr>\n",
              "  </tbody>\n",
              "</table>\n",
              "<p>17012 rows × 3 columns</p>\n",
              "</div>\n",
              "      <button class=\"colab-df-convert\" onclick=\"convertToInteractive('df-1f86fe29-32a8-4cf8-8b84-008ead580899')\"\n",
              "              title=\"Convert this dataframe to an interactive table.\"\n",
              "              style=\"display:none;\">\n",
              "        \n",
              "  <svg xmlns=\"http://www.w3.org/2000/svg\" height=\"24px\"viewBox=\"0 0 24 24\"\n",
              "       width=\"24px\">\n",
              "    <path d=\"M0 0h24v24H0V0z\" fill=\"none\"/>\n",
              "    <path d=\"M18.56 5.44l.94 2.06.94-2.06 2.06-.94-2.06-.94-.94-2.06-.94 2.06-2.06.94zm-11 1L8.5 8.5l.94-2.06 2.06-.94-2.06-.94L8.5 2.5l-.94 2.06-2.06.94zm10 10l.94 2.06.94-2.06 2.06-.94-2.06-.94-.94-2.06-.94 2.06-2.06.94z\"/><path d=\"M17.41 7.96l-1.37-1.37c-.4-.4-.92-.59-1.43-.59-.52 0-1.04.2-1.43.59L10.3 9.45l-7.72 7.72c-.78.78-.78 2.05 0 2.83L4 21.41c.39.39.9.59 1.41.59.51 0 1.02-.2 1.41-.59l7.78-7.78 2.81-2.81c.8-.78.8-2.07 0-2.86zM5.41 20L4 18.59l7.72-7.72 1.47 1.35L5.41 20z\"/>\n",
              "  </svg>\n",
              "      </button>\n",
              "      \n",
              "  <style>\n",
              "    .colab-df-container {\n",
              "      display:flex;\n",
              "      flex-wrap:wrap;\n",
              "      gap: 12px;\n",
              "    }\n",
              "\n",
              "    .colab-df-convert {\n",
              "      background-color: #E8F0FE;\n",
              "      border: none;\n",
              "      border-radius: 50%;\n",
              "      cursor: pointer;\n",
              "      display: none;\n",
              "      fill: #1967D2;\n",
              "      height: 32px;\n",
              "      padding: 0 0 0 0;\n",
              "      width: 32px;\n",
              "    }\n",
              "\n",
              "    .colab-df-convert:hover {\n",
              "      background-color: #E2EBFA;\n",
              "      box-shadow: 0px 1px 2px rgba(60, 64, 67, 0.3), 0px 1px 3px 1px rgba(60, 64, 67, 0.15);\n",
              "      fill: #174EA6;\n",
              "    }\n",
              "\n",
              "    [theme=dark] .colab-df-convert {\n",
              "      background-color: #3B4455;\n",
              "      fill: #D2E3FC;\n",
              "    }\n",
              "\n",
              "    [theme=dark] .colab-df-convert:hover {\n",
              "      background-color: #434B5C;\n",
              "      box-shadow: 0px 1px 3px 1px rgba(0, 0, 0, 0.15);\n",
              "      filter: drop-shadow(0px 1px 2px rgba(0, 0, 0, 0.3));\n",
              "      fill: #FFFFFF;\n",
              "    }\n",
              "  </style>\n",
              "\n",
              "      <script>\n",
              "        const buttonEl =\n",
              "          document.querySelector('#df-1f86fe29-32a8-4cf8-8b84-008ead580899 button.colab-df-convert');\n",
              "        buttonEl.style.display =\n",
              "          google.colab.kernel.accessAllowed ? 'block' : 'none';\n",
              "\n",
              "        async function convertToInteractive(key) {\n",
              "          const element = document.querySelector('#df-1f86fe29-32a8-4cf8-8b84-008ead580899');\n",
              "          const dataTable =\n",
              "            await google.colab.kernel.invokeFunction('convertToInteractive',\n",
              "                                                     [key], {});\n",
              "          if (!dataTable) return;\n",
              "\n",
              "          const docLinkHtml = 'Like what you see? Visit the ' +\n",
              "            '<a target=\"_blank\" href=https://colab.research.google.com/notebooks/data_table.ipynb>data table notebook</a>'\n",
              "            + ' to learn more about interactive tables.';\n",
              "          element.innerHTML = '';\n",
              "          dataTable['output_type'] = 'display_data';\n",
              "          await google.colab.output.renderOutput(dataTable, element);\n",
              "          const docLink = document.createElement('div');\n",
              "          docLink.innerHTML = docLinkHtml;\n",
              "          element.appendChild(docLink);\n",
              "        }\n",
              "      </script>\n",
              "    </div>\n",
              "  </div>\n",
              "  "
            ]
          },
          "metadata": {},
          "execution_count": 13
        }
      ]
    },
    {
      "cell_type": "code",
      "source": [
        "covid_df.dtypes\n"
      ],
      "metadata": {
        "colab": {
          "base_uri": "https://localhost:8080/"
        },
        "id": "KrWITpKdXUFL",
        "outputId": "17a47385-cfc7-4896-edea-ee1505e2fc76"
      },
      "execution_count": null,
      "outputs": [
        {
          "output_type": "execute_result",
          "data": {
            "text/plain": [
              "text       object\n",
              "hashtag    object\n",
              "dtype: object"
            ]
          },
          "metadata": {},
          "execution_count": 14
        }
      ]
    },
    {
      "cell_type": "code",
      "source": [
        "df3 = pred[(pred['Predicted'] == 0)]"
      ],
      "metadata": {
        "id": "u99JHWzgV5KM"
      },
      "execution_count": null,
      "outputs": []
    },
    {
      "cell_type": "code",
      "source": [
        "hashtag_non_rumour = pd.DataFrame(df3[\"hashtag\"])\n",
        "hashtag_non_rumour.dropna(axis=0, inplace=True)\n",
        "hashtag_non_rumour"
      ],
      "metadata": {
        "colab": {
          "base_uri": "https://localhost:8080/",
          "height": 424
        },
        "id": "gIC-86pRZMOj",
        "outputId": "7d2a7f5d-4e1a-4b8f-8f9c-30d7c899b670"
      },
      "execution_count": null,
      "outputs": [
        {
          "output_type": "execute_result",
          "data": {
            "text/plain": [
              "                                                 hashtag\n",
              "0                                               [#tenet]\n",
              "1                                                     []\n",
              "2                                                     []\n",
              "3                                                     []\n",
              "4      [#coronavirus, #lovehurts, #magarally, #tulsa,...\n",
              "...                                                  ...\n",
              "17006                                                 []\n",
              "17007                                                 []\n",
              "17008                                                 []\n",
              "17010                              [#gop., #coronavirus]\n",
              "17011                                         [#covid19]\n",
              "\n",
              "[14538 rows x 1 columns]"
            ],
            "text/html": [
              "\n",
              "  <div id=\"df-8faca3e6-85f4-4536-9ad6-5259a87c6094\">\n",
              "    <div class=\"colab-df-container\">\n",
              "      <div>\n",
              "<style scoped>\n",
              "    .dataframe tbody tr th:only-of-type {\n",
              "        vertical-align: middle;\n",
              "    }\n",
              "\n",
              "    .dataframe tbody tr th {\n",
              "        vertical-align: top;\n",
              "    }\n",
              "\n",
              "    .dataframe thead th {\n",
              "        text-align: right;\n",
              "    }\n",
              "</style>\n",
              "<table border=\"1\" class=\"dataframe\">\n",
              "  <thead>\n",
              "    <tr style=\"text-align: right;\">\n",
              "      <th></th>\n",
              "      <th>hashtag</th>\n",
              "    </tr>\n",
              "  </thead>\n",
              "  <tbody>\n",
              "    <tr>\n",
              "      <th>0</th>\n",
              "      <td>[#tenet]</td>\n",
              "    </tr>\n",
              "    <tr>\n",
              "      <th>1</th>\n",
              "      <td>[]</td>\n",
              "    </tr>\n",
              "    <tr>\n",
              "      <th>2</th>\n",
              "      <td>[]</td>\n",
              "    </tr>\n",
              "    <tr>\n",
              "      <th>3</th>\n",
              "      <td>[]</td>\n",
              "    </tr>\n",
              "    <tr>\n",
              "      <th>4</th>\n",
              "      <td>[#coronavirus, #lovehurts, #magarally, #tulsa,...</td>\n",
              "    </tr>\n",
              "    <tr>\n",
              "      <th>...</th>\n",
              "      <td>...</td>\n",
              "    </tr>\n",
              "    <tr>\n",
              "      <th>17006</th>\n",
              "      <td>[]</td>\n",
              "    </tr>\n",
              "    <tr>\n",
              "      <th>17007</th>\n",
              "      <td>[]</td>\n",
              "    </tr>\n",
              "    <tr>\n",
              "      <th>17008</th>\n",
              "      <td>[]</td>\n",
              "    </tr>\n",
              "    <tr>\n",
              "      <th>17010</th>\n",
              "      <td>[#gop., #coronavirus]</td>\n",
              "    </tr>\n",
              "    <tr>\n",
              "      <th>17011</th>\n",
              "      <td>[#covid19]</td>\n",
              "    </tr>\n",
              "  </tbody>\n",
              "</table>\n",
              "<p>14538 rows × 1 columns</p>\n",
              "</div>\n",
              "      <button class=\"colab-df-convert\" onclick=\"convertToInteractive('df-8faca3e6-85f4-4536-9ad6-5259a87c6094')\"\n",
              "              title=\"Convert this dataframe to an interactive table.\"\n",
              "              style=\"display:none;\">\n",
              "        \n",
              "  <svg xmlns=\"http://www.w3.org/2000/svg\" height=\"24px\"viewBox=\"0 0 24 24\"\n",
              "       width=\"24px\">\n",
              "    <path d=\"M0 0h24v24H0V0z\" fill=\"none\"/>\n",
              "    <path d=\"M18.56 5.44l.94 2.06.94-2.06 2.06-.94-2.06-.94-.94-2.06-.94 2.06-2.06.94zm-11 1L8.5 8.5l.94-2.06 2.06-.94-2.06-.94L8.5 2.5l-.94 2.06-2.06.94zm10 10l.94 2.06.94-2.06 2.06-.94-2.06-.94-.94-2.06-.94 2.06-2.06.94z\"/><path d=\"M17.41 7.96l-1.37-1.37c-.4-.4-.92-.59-1.43-.59-.52 0-1.04.2-1.43.59L10.3 9.45l-7.72 7.72c-.78.78-.78 2.05 0 2.83L4 21.41c.39.39.9.59 1.41.59.51 0 1.02-.2 1.41-.59l7.78-7.78 2.81-2.81c.8-.78.8-2.07 0-2.86zM5.41 20L4 18.59l7.72-7.72 1.47 1.35L5.41 20z\"/>\n",
              "  </svg>\n",
              "      </button>\n",
              "      \n",
              "  <style>\n",
              "    .colab-df-container {\n",
              "      display:flex;\n",
              "      flex-wrap:wrap;\n",
              "      gap: 12px;\n",
              "    }\n",
              "\n",
              "    .colab-df-convert {\n",
              "      background-color: #E8F0FE;\n",
              "      border: none;\n",
              "      border-radius: 50%;\n",
              "      cursor: pointer;\n",
              "      display: none;\n",
              "      fill: #1967D2;\n",
              "      height: 32px;\n",
              "      padding: 0 0 0 0;\n",
              "      width: 32px;\n",
              "    }\n",
              "\n",
              "    .colab-df-convert:hover {\n",
              "      background-color: #E2EBFA;\n",
              "      box-shadow: 0px 1px 2px rgba(60, 64, 67, 0.3), 0px 1px 3px 1px rgba(60, 64, 67, 0.15);\n",
              "      fill: #174EA6;\n",
              "    }\n",
              "\n",
              "    [theme=dark] .colab-df-convert {\n",
              "      background-color: #3B4455;\n",
              "      fill: #D2E3FC;\n",
              "    }\n",
              "\n",
              "    [theme=dark] .colab-df-convert:hover {\n",
              "      background-color: #434B5C;\n",
              "      box-shadow: 0px 1px 3px 1px rgba(0, 0, 0, 0.15);\n",
              "      filter: drop-shadow(0px 1px 2px rgba(0, 0, 0, 0.3));\n",
              "      fill: #FFFFFF;\n",
              "    }\n",
              "  </style>\n",
              "\n",
              "      <script>\n",
              "        const buttonEl =\n",
              "          document.querySelector('#df-8faca3e6-85f4-4536-9ad6-5259a87c6094 button.colab-df-convert');\n",
              "        buttonEl.style.display =\n",
              "          google.colab.kernel.accessAllowed ? 'block' : 'none';\n",
              "\n",
              "        async function convertToInteractive(key) {\n",
              "          const element = document.querySelector('#df-8faca3e6-85f4-4536-9ad6-5259a87c6094');\n",
              "          const dataTable =\n",
              "            await google.colab.kernel.invokeFunction('convertToInteractive',\n",
              "                                                     [key], {});\n",
              "          if (!dataTable) return;\n",
              "\n",
              "          const docLinkHtml = 'Like what you see? Visit the ' +\n",
              "            '<a target=\"_blank\" href=https://colab.research.google.com/notebooks/data_table.ipynb>data table notebook</a>'\n",
              "            + ' to learn more about interactive tables.';\n",
              "          element.innerHTML = '';\n",
              "          dataTable['output_type'] = 'display_data';\n",
              "          await google.colab.output.renderOutput(dataTable, element);\n",
              "          const docLink = document.createElement('div');\n",
              "          docLink.innerHTML = docLinkHtml;\n",
              "          element.appendChild(docLink);\n",
              "        }\n",
              "      </script>\n",
              "    </div>\n",
              "  </div>\n",
              "  "
            ]
          },
          "metadata": {},
          "execution_count": 16
        }
      ]
    },
    {
      "cell_type": "code",
      "source": [
        "hashtag_non = hashtag_non_rumour[\"hashtag\"].tolist()"
      ],
      "metadata": {
        "id": "ttnUWhIDc2fx"
      },
      "execution_count": null,
      "outputs": []
    },
    {
      "cell_type": "code",
      "source": [
        "hashtag_non = [x for x in hashtag_non if len(x)!=0]\n",
        "hashtag_non = [each for x in hashtag_non for each in x]\n",
        "hashtag_non[:10]"
      ],
      "metadata": {
        "colab": {
          "base_uri": "https://localhost:8080/"
        },
        "id": "ViYxulmHZUN3",
        "outputId": "3c5adfce-da4b-4132-c696-50ce53108e4f"
      },
      "execution_count": null,
      "outputs": [
        {
          "output_type": "execute_result",
          "data": {
            "text/plain": [
              "['#tenet',\n",
              " '#coronavirus',\n",
              " '#lovehurts',\n",
              " '#magarally',\n",
              " '#tulsa',\n",
              " '#coronavirus',\n",
              " '#covid19',\n",
              " '#coronavirus',\n",
              " '#coronapalooza',\n",
              " '#coronavirus?”']"
            ]
          },
          "metadata": {},
          "execution_count": 18
        }
      ]
    },
    {
      "cell_type": "code",
      "source": [
        "len(hashtag_non)"
      ],
      "metadata": {
        "colab": {
          "base_uri": "https://localhost:8080/"
        },
        "id": "V7VGY5fBKNnX",
        "outputId": "93ccdf6e-f375-4517-b6af-0b439d0811d9"
      },
      "execution_count": null,
      "outputs": [
        {
          "output_type": "execute_result",
          "data": {
            "text/plain": [
              "121094"
            ]
          },
          "metadata": {},
          "execution_count": 19
        }
      ]
    },
    {
      "cell_type": "code",
      "source": [
        "non_hash = Counter(hashtag_non)\n",
        "non_hash.most_common()[:10]"
      ],
      "metadata": {
        "colab": {
          "base_uri": "https://localhost:8080/"
        },
        "id": "SucC3kWJd1Tv",
        "outputId": "a77e70e1-daad-4a88-b556-e13a2747fcb7"
      },
      "execution_count": null,
      "outputs": [
        {
          "output_type": "execute_result",
          "data": {
            "text/plain": [
              "[('#covid19', 20570),\n",
              " ('#coronavirus', 11638),\n",
              " ('#trump', 1648),\n",
              " ('#covid19.', 1193),\n",
              " ('#coronaviruspandemic', 1077),\n",
              " ('#trumpvirus', 945),\n",
              " ('#covid_19', 818),\n",
              " ('#wuhanvirus', 772),\n",
              " ('#covidー19', 730),\n",
              " ('#maga', 637)]"
            ]
          },
          "metadata": {},
          "execution_count": 20
        }
      ]
    },
    {
      "cell_type": "code",
      "source": [
        "Hashtags = [\"#covid19\", \"#coronavirus\", \"#trump\", \"#coronaviruspandemic\", \"#trumpvirus\"]\n",
        "Count = [21736, 11638, 1648, 1193, 1077]\n",
        "\n",
        "df = pd.DataFrame({'Count': Count, \"Hashtags\": Hashtags})\n",
        "df.plot(kind='bar',x='Hashtags',y='Count',color='red')\n",
        "plt.show()"
      ],
      "metadata": {
        "colab": {
          "base_uri": "https://localhost:8080/",
          "height": 385
        },
        "id": "s-Hcox_m-9Ox",
        "outputId": "4a641f2a-badd-46a7-e02f-c3996d191e99"
      },
      "execution_count": null,
      "outputs": [
        {
          "output_type": "display_data",
          "data": {
            "text/plain": [
              "<Figure size 432x288 with 1 Axes>"
            ],
            "image/png": "[encoded data removed]"
          },
          "metadata": {
            "needs_background": "light"
          }
        }
      ]
    },
    {
      "cell_type": "code",
      "source": [
        "len(non_hash.most_common())"
      ],
      "metadata": {
        "colab": {
          "base_uri": "https://localhost:8080/"
        },
        "id": "fU2zcYM6hv1A",
        "outputId": "8dc2ae0d-cfe5-4c5e-885c-ea024a68607e"
      },
      "execution_count": null,
      "outputs": [
        {
          "output_type": "execute_result",
          "data": {
            "text/plain": [
              "21317"
            ]
          },
          "metadata": {},
          "execution_count": 21
        }
      ]
    },
    {
      "cell_type": "code",
      "source": [
        "df4 = pred[(pred['Predicted'] == 1)]\n",
        "hashtag_rumour = pd.DataFrame(df4[\"hashtag\"])\n",
        "hashtag_rumour.dropna(axis=0, inplace=True)\n",
        "hashtag_rumour.head()"
      ],
      "metadata": {
        "colab": {
          "base_uri": "https://localhost:8080/",
          "height": 206
        },
        "id": "kRPk8oEYeOpZ",
        "outputId": "069e0eaa-f832-40df-8fae-b793bef2a25f"
      },
      "execution_count": null,
      "outputs": [
        {
          "output_type": "execute_result",
          "data": {
            "text/plain": [
              "                                              hashtag\n",
              "7                                                  []\n",
              "16  [#trump, #coronavirus, #covid19, #covid19, #tr...\n",
              "45  [#chinesecoronavirus, #covid19, #coronaviruspa...\n",
              "48                                        [#fakenews]\n",
              "72  [#nepotismbarbie, #trumpdeathtoll120k, #trumpo..."
            ],
            "text/html": [
              "\n",
              "  <div id=\"df-68daa397-f1a7-43d0-9ab2-01118553cae9\">\n",
              "    <div class=\"colab-df-container\">\n",
              "      <div>\n",
              "<style scoped>\n",
              "    .dataframe tbody tr th:only-of-type {\n",
              "        vertical-align: middle;\n",
              "    }\n",
              "\n",
              "    .dataframe tbody tr th {\n",
              "        vertical-align: top;\n",
              "    }\n",
              "\n",
              "    .dataframe thead th {\n",
              "        text-align: right;\n",
              "    }\n",
              "</style>\n",
              "<table border=\"1\" class=\"dataframe\">\n",
              "  <thead>\n",
              "    <tr style=\"text-align: right;\">\n",
              "      <th></th>\n",
              "      <th>hashtag</th>\n",
              "    </tr>\n",
              "  </thead>\n",
              "  <tbody>\n",
              "    <tr>\n",
              "      <th>7</th>\n",
              "      <td>[]</td>\n",
              "    </tr>\n",
              "    <tr>\n",
              "      <th>16</th>\n",
              "      <td>[#trump, #coronavirus, #covid19, #covid19, #tr...</td>\n",
              "    </tr>\n",
              "    <tr>\n",
              "      <th>45</th>\n",
              "      <td>[#chinesecoronavirus, #covid19, #coronaviruspa...</td>\n",
              "    </tr>\n",
              "    <tr>\n",
              "      <th>48</th>\n",
              "      <td>[#fakenews]</td>\n",
              "    </tr>\n",
              "    <tr>\n",
              "      <th>72</th>\n",
              "      <td>[#nepotismbarbie, #trumpdeathtoll120k, #trumpo...</td>\n",
              "    </tr>\n",
              "  </tbody>\n",
              "</table>\n",
              "</div>\n",
              "      <button class=\"colab-df-convert\" onclick=\"convertToInteractive('df-68daa397-f1a7-43d0-9ab2-01118553cae9')\"\n",
              "              title=\"Convert this dataframe to an interactive table.\"\n",
              "              style=\"display:none;\">\n",
              "        \n",
              "  <svg xmlns=\"http://www.w3.org/2000/svg\" height=\"24px\"viewBox=\"0 0 24 24\"\n",
              "       width=\"24px\">\n",
              "    <path d=\"M0 0h24v24H0V0z\" fill=\"none\"/>\n",
              "    <path d=\"M18.56 5.44l.94 2.06.94-2.06 2.06-.94-2.06-.94-.94-2.06-.94 2.06-2.06.94zm-11 1L8.5 8.5l.94-2.06 2.06-.94-2.06-.94L8.5 2.5l-.94 2.06-2.06.94zm10 10l.94 2.06.94-2.06 2.06-.94-2.06-.94-.94-2.06-.94 2.06-2.06.94z\"/><path d=\"M17.41 7.96l-1.37-1.37c-.4-.4-.92-.59-1.43-.59-.52 0-1.04.2-1.43.59L10.3 9.45l-7.72 7.72c-.78.78-.78 2.05 0 2.83L4 21.41c.39.39.9.59 1.41.59.51 0 1.02-.2 1.41-.59l7.78-7.78 2.81-2.81c.8-.78.8-2.07 0-2.86zM5.41 20L4 18.59l7.72-7.72 1.47 1.35L5.41 20z\"/>\n",
              "  </svg>\n",
              "      </button>\n",
              "      \n",
              "  <style>\n",
              "    .colab-df-container {\n",
              "      display:flex;\n",
              "      flex-wrap:wrap;\n",
              "      gap: 12px;\n",
              "    }\n",
              "\n",
              "    .colab-df-convert {\n",
              "      background-color: #E8F0FE;\n",
              "      border: none;\n",
              "      border-radius: 50%;\n",
              "      cursor: pointer;\n",
              "      display: none;\n",
              "      fill: #1967D2;\n",
              "      height: 32px;\n",
              "      padding: 0 0 0 0;\n",
              "      width: 32px;\n",
              "    }\n",
              "\n",
              "    .colab-df-convert:hover {\n",
              "      background-color: #E2EBFA;\n",
              "      box-shadow: 0px 1px 2px rgba(60, 64, 67, 0.3), 0px 1px 3px 1px rgba(60, 64, 67, 0.15);\n",
              "      fill: #174EA6;\n",
              "    }\n",
              "\n",
              "    [theme=dark] .colab-df-convert {\n",
              "      background-color: #3B4455;\n",
              "      fill: #D2E3FC;\n",
              "    }\n",
              "\n",
              "    [theme=dark] .colab-df-convert:hover {\n",
              "      background-color: #434B5C;\n",
              "      box-shadow: 0px 1px 3px 1px rgba(0, 0, 0, 0.15);\n",
              "      filter: drop-shadow(0px 1px 2px rgba(0, 0, 0, 0.3));\n",
              "      fill: #FFFFFF;\n",
              "    }\n",
              "  </style>\n",
              "\n",
              "      <script>\n",
              "        const buttonEl =\n",
              "          document.querySelector('#df-68daa397-f1a7-43d0-9ab2-01118553cae9 button.colab-df-convert');\n",
              "        buttonEl.style.display =\n",
              "          google.colab.kernel.accessAllowed ? 'block' : 'none';\n",
              "\n",
              "        async function convertToInteractive(key) {\n",
              "          const element = document.querySelector('#df-68daa397-f1a7-43d0-9ab2-01118553cae9');\n",
              "          const dataTable =\n",
              "            await google.colab.kernel.invokeFunction('convertToInteractive',\n",
              "                                                     [key], {});\n",
              "          if (!dataTable) return;\n",
              "\n",
              "          const docLinkHtml = 'Like what you see? Visit the ' +\n",
              "            '<a target=\"_blank\" href=https://colab.research.google.com/notebooks/data_table.ipynb>data table notebook</a>'\n",
              "            + ' to learn more about interactive tables.';\n",
              "          element.innerHTML = '';\n",
              "          dataTable['output_type'] = 'display_data';\n",
              "          await google.colab.output.renderOutput(dataTable, element);\n",
              "          const docLink = document.createElement('div');\n",
              "          docLink.innerHTML = docLinkHtml;\n",
              "          element.appendChild(docLink);\n",
              "        }\n",
              "      </script>\n",
              "    </div>\n",
              "  </div>\n",
              "  "
            ]
          },
          "metadata": {},
          "execution_count": 22
        }
      ]
    },
    {
      "cell_type": "code",
      "source": [
        "hashtag_ru = hashtag_rumour[\"hashtag\"].tolist()\n",
        "hashtag_ru = [x for x in hashtag_ru if len(x)!=0]\n",
        "hashtag_ru = [each for x in hashtag_ru for each in x]\n",
        "hashtag_ru[:10]"
      ],
      "metadata": {
        "colab": {
          "base_uri": "https://localhost:8080/"
        },
        "id": "jfOauTeNebMv",
        "outputId": "ed75c07b-d331-4b07-83ee-ee44f7c7ae24"
      },
      "execution_count": null,
      "outputs": [
        {
          "output_type": "execute_result",
          "data": {
            "text/plain": [
              "['#trump',\n",
              " '#coronavirus',\n",
              " '#covid19',\n",
              " '#covid19',\n",
              " '#trumpisalaughingstock',\n",
              " '#fakegate',\n",
              " '#covid19',\n",
              " '#america',\n",
              " '#coronavirus',\n",
              " '#stayathome']"
            ]
          },
          "metadata": {},
          "execution_count": 23
        }
      ]
    },
    {
      "cell_type": "code",
      "source": [
        "len(hashtag_ru)"
      ],
      "metadata": {
        "colab": {
          "base_uri": "https://localhost:8080/"
        },
        "id": "YvDDr9pPLRJ2",
        "outputId": "31223875-7b18-4265-bf2b-a0832e98305f"
      },
      "execution_count": null,
      "outputs": [
        {
          "output_type": "execute_result",
          "data": {
            "text/plain": [
              "18145"
            ]
          },
          "metadata": {},
          "execution_count": 24
        }
      ]
    },
    {
      "cell_type": "code",
      "source": [
        "ruCounter = Counter(hashtag_ru)\n",
        "ruCounter.most_common()[:10]"
      ],
      "metadata": {
        "colab": {
          "base_uri": "https://localhost:8080/"
        },
        "id": "Nr8WgrKEepGe",
        "outputId": "e48d79b0-c99e-4c09-a409-b7b34313d3a1"
      },
      "execution_count": null,
      "outputs": [
        {
          "output_type": "execute_result",
          "data": {
            "text/plain": [
              "[('#covid19', 3045),\n",
              " ('#coronavirus', 1565),\n",
              " ('#trump', 267),\n",
              " ('#covid19.', 161),\n",
              " ('#coronaviruspandemic', 137),\n",
              " ('#trumpvirus', 137),\n",
              " ('#maga', 127),\n",
              " ('#covid_19', 126),\n",
              " ('#covidー19', 121),\n",
              " ('#covid', 105)]"
            ]
          },
          "metadata": {},
          "execution_count": 25
        }
      ]
    },
    {
      "cell_type": "code",
      "source": [
        "Hashtags = [\"#covid19\", \"#coronavirus\", \"#trump\", \"#coronaviruspandemic\", \"#trumpvirus\"]\n",
        "Non_rumour = [21736, 11638, 1648, 1193, 1077]\n",
        "Rumuor = [3206, 1565, 267, 137, 137]\n",
        "\n",
        "# df = pd.DataFrame({'Non-Rumuour': Non_rumour}, index=Hashtags)\n",
        "# # df.plot(kind='bar',x='Hashtags',y='Count',color='red')\n",
        "# df.plot(kind='bar', figsize=(10, 4), rot=0, ylabel='Hashtag', xlabel=\"Count\")\n",
        "# plt.show()\n",
        "\n",
        "df = pd.DataFrame({\"Rumuor\": Rumuor}, index=Hashtags)\n",
        "# df.plot(kind='bar',x='Hashtags',y='Count',color='red')\n",
        "df.plot(kind='bar', figsize=(10, 4), rot=0, ylabel='Hashtag', xlabel=\"Count\", color='red')\n",
        "plt.show()"
      ],
      "metadata": {
        "colab": {
          "base_uri": "https://localhost:8080/",
          "height": 279
        },
        "id": "UhfANURQFmxs",
        "outputId": "2bc74458-1594-48b6-f391-b72066b0c646"
      },
      "execution_count": null,
      "outputs": [
        {
          "output_type": "display_data",
          "data": {
            "text/plain": [
              "<Figure size 720x288 with 1 Axes>"
            ],
            "image/png": "[encoded data removed]"
          },
          "metadata": {
            "needs_background": "light"
          }
        }
      ]
    },
    {
      "cell_type": "code",
      "source": [
        "print(len(ruCounter.most_common()))"
      ],
      "metadata": {
        "colab": {
          "base_uri": "https://localhost:8080/"
        },
        "id": "SVU0tLg9hl8J",
        "outputId": "659140bd-a920-4fd6-eb76-e0cf24150b23"
      },
      "execution_count": null,
      "outputs": [
        {
          "output_type": "stream",
          "name": "stdout",
          "text": [
            "5357\n"
          ]
        }
      ]
    },
    {
      "cell_type": "code",
      "source": [
        "hashtag_share = pd.DataFrame(pred[\"hashtag\"])\n",
        "hashtag_share.dropna(axis=0, inplace=True)\n",
        "hashtag_share.head()"
      ],
      "metadata": {
        "colab": {
          "base_uri": "https://localhost:8080/",
          "height": 206
        },
        "id": "r7czoS0Fez-2",
        "outputId": "d508c6c1-a623-46d9-d535-c7e5efa10e55"
      },
      "execution_count": null,
      "outputs": [
        {
          "output_type": "execute_result",
          "data": {
            "text/plain": [
              "                                             hashtag\n",
              "0                                           [#tenet]\n",
              "1                                                 []\n",
              "2                                                 []\n",
              "3                                                 []\n",
              "4  [#coronavirus, #lovehurts, #magarally, #tulsa,..."
            ],
            "text/html": [
              "\n",
              "  <div id=\"df-b3b13504-1fd3-411f-b0d6-720cbc5d6bae\">\n",
              "    <div class=\"colab-df-container\">\n",
              "      <div>\n",
              "<style scoped>\n",
              "    .dataframe tbody tr th:only-of-type {\n",
              "        vertical-align: middle;\n",
              "    }\n",
              "\n",
              "    .dataframe tbody tr th {\n",
              "        vertical-align: top;\n",
              "    }\n",
              "\n",
              "    .dataframe thead th {\n",
              "        text-align: right;\n",
              "    }\n",
              "</style>\n",
              "<table border=\"1\" class=\"dataframe\">\n",
              "  <thead>\n",
              "    <tr style=\"text-align: right;\">\n",
              "      <th></th>\n",
              "      <th>hashtag</th>\n",
              "    </tr>\n",
              "  </thead>\n",
              "  <tbody>\n",
              "    <tr>\n",
              "      <th>0</th>\n",
              "      <td>[#tenet]</td>\n",
              "    </tr>\n",
              "    <tr>\n",
              "      <th>1</th>\n",
              "      <td>[]</td>\n",
              "    </tr>\n",
              "    <tr>\n",
              "      <th>2</th>\n",
              "      <td>[]</td>\n",
              "    </tr>\n",
              "    <tr>\n",
              "      <th>3</th>\n",
              "      <td>[]</td>\n",
              "    </tr>\n",
              "    <tr>\n",
              "      <th>4</th>\n",
              "      <td>[#coronavirus, #lovehurts, #magarally, #tulsa,...</td>\n",
              "    </tr>\n",
              "  </tbody>\n",
              "</table>\n",
              "</div>\n",
              "      <button class=\"colab-df-convert\" onclick=\"convertToInteractive('df-b3b13504-1fd3-411f-b0d6-720cbc5d6bae')\"\n",
              "              title=\"Convert this dataframe to an interactive table.\"\n",
              "              style=\"display:none;\">\n",
              "        \n",
              "  <svg xmlns=\"http://www.w3.org/2000/svg\" height=\"24px\"viewBox=\"0 0 24 24\"\n",
              "       width=\"24px\">\n",
              "    <path d=\"M0 0h24v24H0V0z\" fill=\"none\"/>\n",
              "    <path d=\"M18.56 5.44l.94 2.06.94-2.06 2.06-.94-2.06-.94-.94-2.06-.94 2.06-2.06.94zm-11 1L8.5 8.5l.94-2.06 2.06-.94-2.06-.94L8.5 2.5l-.94 2.06-2.06.94zm10 10l.94 2.06.94-2.06 2.06-.94-2.06-.94-.94-2.06-.94 2.06-2.06.94z\"/><path d=\"M17.41 7.96l-1.37-1.37c-.4-.4-.92-.59-1.43-.59-.52 0-1.04.2-1.43.59L10.3 9.45l-7.72 7.72c-.78.78-.78 2.05 0 2.83L4 21.41c.39.39.9.59 1.41.59.51 0 1.02-.2 1.41-.59l7.78-7.78 2.81-2.81c.8-.78.8-2.07 0-2.86zM5.41 20L4 18.59l7.72-7.72 1.47 1.35L5.41 20z\"/>\n",
              "  </svg>\n",
              "      </button>\n",
              "      \n",
              "  <style>\n",
              "    .colab-df-container {\n",
              "      display:flex;\n",
              "      flex-wrap:wrap;\n",
              "      gap: 12px;\n",
              "    }\n",
              "\n",
              "    .colab-df-convert {\n",
              "      background-color: #E8F0FE;\n",
              "      border: none;\n",
              "      border-radius: 50%;\n",
              "      cursor: pointer;\n",
              "      display: none;\n",
              "      fill: #1967D2;\n",
              "      height: 32px;\n",
              "      padding: 0 0 0 0;\n",
              "      width: 32px;\n",
              "    }\n",
              "\n",
              "    .colab-df-convert:hover {\n",
              "      background-color: #E2EBFA;\n",
              "      box-shadow: 0px 1px 2px rgba(60, 64, 67, 0.3), 0px 1px 3px 1px rgba(60, 64, 67, 0.15);\n",
              "      fill: #174EA6;\n",
              "    }\n",
              "\n",
              "    [theme=dark] .colab-df-convert {\n",
              "      background-color: #3B4455;\n",
              "      fill: #D2E3FC;\n",
              "    }\n",
              "\n",
              "    [theme=dark] .colab-df-convert:hover {\n",
              "      background-color: #434B5C;\n",
              "      box-shadow: 0px 1px 3px 1px rgba(0, 0, 0, 0.15);\n",
              "      filter: drop-shadow(0px 1px 2px rgba(0, 0, 0, 0.3));\n",
              "      fill: #FFFFFF;\n",
              "    }\n",
              "  </style>\n",
              "\n",
              "      <script>\n",
              "        const buttonEl =\n",
              "          document.querySelector('#df-b3b13504-1fd3-411f-b0d6-720cbc5d6bae button.colab-df-convert');\n",
              "        buttonEl.style.display =\n",
              "          google.colab.kernel.accessAllowed ? 'block' : 'none';\n",
              "\n",
              "        async function convertToInteractive(key) {\n",
              "          const element = document.querySelector('#df-b3b13504-1fd3-411f-b0d6-720cbc5d6bae');\n",
              "          const dataTable =\n",
              "            await google.colab.kernel.invokeFunction('convertToInteractive',\n",
              "                                                     [key], {});\n",
              "          if (!dataTable) return;\n",
              "\n",
              "          const docLinkHtml = 'Like what you see? Visit the ' +\n",
              "            '<a target=\"_blank\" href=https://colab.research.google.com/notebooks/data_table.ipynb>data table notebook</a>'\n",
              "            + ' to learn more about interactive tables.';\n",
              "          element.innerHTML = '';\n",
              "          dataTable['output_type'] = 'display_data';\n",
              "          await google.colab.output.renderOutput(dataTable, element);\n",
              "          const docLink = document.createElement('div');\n",
              "          docLink.innerHTML = docLinkHtml;\n",
              "          element.appendChild(docLink);\n",
              "        }\n",
              "      </script>\n",
              "    </div>\n",
              "  </div>\n",
              "  "
            ]
          },
          "metadata": {},
          "execution_count": 190
        }
      ]
    },
    {
      "cell_type": "code",
      "source": [
        "hashtag_share = hashtag_share[\"hashtag\"].tolist()\n",
        "hashtag_share = [x for x in hashtag_share if len(x)!=0]\n",
        "hashtag_share = [each for x in hashtag_share for each in x]\n",
        "hashtag_share[:10]"
      ],
      "metadata": {
        "colab": {
          "base_uri": "https://localhost:8080/"
        },
        "id": "KqilXhHSfFNQ",
        "outputId": "e419719b-03ae-4315-dc9e-911ab06f10e1"
      },
      "execution_count": null,
      "outputs": [
        {
          "output_type": "execute_result",
          "data": {
            "text/plain": [
              "['#tenet',\n",
              " '#coronavirus',\n",
              " '#lovehurts',\n",
              " '#magarally',\n",
              " '#tulsa',\n",
              " '#coronavirus',\n",
              " '#covid19',\n",
              " '#coronavirus',\n",
              " '#coronapalooza',\n",
              " '#coronavirus?”']"
            ]
          },
          "metadata": {},
          "execution_count": 191
        }
      ]
    },
    {
      "cell_type": "code",
      "source": [
        "sCounter = Counter(hashtag_share)\n",
        "sCounter.most_common()[:10]"
      ],
      "metadata": {
        "colab": {
          "base_uri": "https://localhost:8080/"
        },
        "id": "4vjEdroZfFTW",
        "outputId": "c93d2d40-f646-469f-b8ee-6d42963d01cb"
      },
      "execution_count": null,
      "outputs": [
        {
          "output_type": "execute_result",
          "data": {
            "text/plain": [
              "[('#covid19', 23615),\n",
              " ('#coronavirus', 13203),\n",
              " ('#trump', 1915),\n",
              " ('#covid19.', 1354),\n",
              " ('#coronaviruspandemic', 1214),\n",
              " ('#trumpvirus', 1082),\n",
              " ('#covid_19', 944),\n",
              " ('#covidー19', 851),\n",
              " ('#wuhanvirus', 833),\n",
              " ('#maga', 764)]"
            ]
          },
          "metadata": {},
          "execution_count": 192
        }
      ]
    },
    {
      "cell_type": "code",
      "source": [
        "Hashtags = [\"#covid19\", \"#coronavirus\", \"#trump\", \"#coronaviruspandemic\", \"#trumpvirus\"]\n",
        "Non_rumour = [21736/24969, 11638/13203, 1648/1915, 1077/1214, 945/1082]\n",
        "Rumuor = [3026/24969, 1565/13203, 267/1915, 137/1214, 137/1082]\n",
        "# Share = [24969, 13203, 1915,1214,  1082]\n",
        "\n",
        "df = pd.DataFrame({\"Rumuor\": Rumuor, \"Non-rumour\": Non_rumour}, index=Hashtags)\n",
        "df.plot(kind='bar', stacked=True, figsize=(10, 6), rot=0)\n",
        "# df.plot(kind='bar',x='Hashtags',y='Count',color='red')\n",
        "# df.plot(kind='bar', figsize=(10, 4), rot=0, ylabel='Hashtag', xlabel=\"Count\", color='red')\n",
        "plt.show()"
      ],
      "metadata": {
        "colab": {
          "base_uri": "https://localhost:8080/",
          "height": 374
        },
        "id": "CUav0J6JH5Tz",
        "outputId": "77af7c81-6ef4-4540-df91-e93a0fdbcd24"
      },
      "execution_count": null,
      "outputs": [
        {
          "output_type": "display_data",
          "data": {
            "text/plain": [
              "<Figure size 720x432 with 1 Axes>"
            ],
            "image/png": "[encoded data removed]"
          },
          "metadata": {
            "needs_background": "light"
          }
        }
      ]
    },
    {
      "cell_type": "code",
      "source": [
        "len(sCounter.most_common())"
      ],
      "metadata": {
        "colab": {
          "base_uri": "https://localhost:8080/"
        },
        "id": "HhSy9nq2h2HA",
        "outputId": "60f65277-a619-4f21-eb8d-71ec3ac84902"
      },
      "execution_count": null,
      "outputs": [
        {
          "output_type": "execute_result",
          "data": {
            "text/plain": [
              "23615"
            ]
          },
          "metadata": {},
          "execution_count": 198
        }
      ]
    },
    {
      "cell_type": "code",
      "source": [
        "non_keys = [k for (k, c) in non_hash.most_common()]\n",
        "ru_keys =[k for (k, c) in ruCounter.most_common()]\n",
        "non_share = [(h, c) for (h, c) in sCounter.most_common() if (h not in non_keys) & (h not in ru_keys)]\n",
        "non_share"
      ],
      "metadata": {
        "colab": {
          "base_uri": "https://localhost:8080/"
        },
        "id": "xUR8OH4IPdCv",
        "outputId": "c6578452-e94d-4c3b-b639-d397884eb009"
      },
      "execution_count": null,
      "outputs": [
        {
          "output_type": "execute_result",
          "data": {
            "text/plain": [
              "[]"
            ]
          },
          "metadata": {},
          "execution_count": 207
        }
      ]
    },
    {
      "cell_type": "markdown",
      "source": [
        "# Number of Replies Analysis"
      ],
      "metadata": {
        "id": "AOrEwxFLPM9n"
      }
    },
    {
      "cell_type": "code",
      "source": [
        "f = open(f'./covid_text.pckl','rb')\n",
        "covid_data = pickle.load(f)\n",
        "f.close()"
      ],
      "metadata": {
        "id": "KIJjRRWOPTev"
      },
      "execution_count": null,
      "outputs": []
    },
    {
      "cell_type": "code",
      "source": [
        "num_re = []\n",
        "for each in covid_data:\n",
        "  num_re.append(len(each)-1)\n",
        "print(len(num_re))"
      ],
      "metadata": {
        "colab": {
          "base_uri": "https://localhost:8080/"
        },
        "id": "FxUIguHHRm4M",
        "outputId": "bfca285c-f5a1-461f-ea62-a18ed6b95459"
      },
      "execution_count": null,
      "outputs": [
        {
          "output_type": "stream",
          "name": "stdout",
          "text": [
            "17458\n"
          ]
        }
      ]
    },
    {
      "cell_type": "code",
      "source": [
        "covid_df = pd.DataFrame({'text':covid_merge_events, 'hashtag':covid_merge_hashtag, 'num replies': num_re})\n",
        "nan_value = float(\"NaN\")\n",
        "covid_df.replace(\"\", nan_value, inplace=True)\n",
        "covid_df.dropna(axis=0 ,inplace=True)\n",
        "covid_df.reset_index()"
      ],
      "metadata": {
        "colab": {
          "base_uri": "https://localhost:8080/",
          "height": 468
        },
        "id": "qqmE1ABZR0qq",
        "outputId": "6d2a1ad5-2fd9-4021-9b84-baa3b2357376"
      },
      "execution_count": null,
      "outputs": [
        {
          "output_type": "execute_result",
          "data": {
            "text/plain": [
              "       index                                               text  \\\n",
              "0          0  according to the new york times warner bros wa...   \n",
              "1          1  hurricane hanna has made landfall in texas the...   \n",
              "2          2  monkeys on the loose in india with stolen coro...   \n",
              "3          3  let s not play blind that the work is fighting...   \n",
              "4          4  if trump felt comfortable having it here then ...   \n",
              "...      ...                                                ...   \n",
              "17007  17453  i wonder how many lives could ve been saved if...   \n",
              "17008  17454  the front page on th march the first line read...   \n",
              "17009  17455  trump just completed the racism trifecta in a ...   \n",
              "17010  17456  here are a few of my photographs from today s ...   \n",
              "17011  17457  it s gone bill de blasio says nyc facing billi...   \n",
              "\n",
              "                                                 hashtag  num replies  \n",
              "0                                               [#tenet]            0  \n",
              "1                                                     []            1  \n",
              "2                                                     []            0  \n",
              "3                                                     []            2  \n",
              "4      [#coronavirus, #lovehurts, #magarally, #tulsa,...           22  \n",
              "...                                                  ...          ...  \n",
              "17007                        [#cheaterinchief, #covid19]            7  \n",
              "17008  [#farright, #fakenews, #toriesout, #johnsonmus...           62  \n",
              "17009                                                 []            1  \n",
              "17010                   [#covid19, #voting, #parliament]            1  \n",
              "17011                              [#takeaccountability]           11  \n",
              "\n",
              "[17012 rows x 4 columns]"
            ],
            "text/html": [
              "\n",
              "  <div id=\"df-18eeb09d-89cb-4f37-996c-350903536588\">\n",
              "    <div class=\"colab-df-container\">\n",
              "      <div>\n",
              "<style scoped>\n",
              "    .dataframe tbody tr th:only-of-type {\n",
              "        vertical-align: middle;\n",
              "    }\n",
              "\n",
              "    .dataframe tbody tr th {\n",
              "        vertical-align: top;\n",
              "    }\n",
              "\n",
              "    .dataframe thead th {\n",
              "        text-align: right;\n",
              "    }\n",
              "</style>\n",
              "<table border=\"1\" class=\"dataframe\">\n",
              "  <thead>\n",
              "    <tr style=\"text-align: right;\">\n",
              "      <th></th>\n",
              "      <th>index</th>\n",
              "      <th>text</th>\n",
              "      <th>hashtag</th>\n",
              "      <th>num replies</th>\n",
              "    </tr>\n",
              "  </thead>\n",
              "  <tbody>\n",
              "    <tr>\n",
              "      <th>0</th>\n",
              "      <td>0</td>\n",
              "      <td>according to the new york times warner bros wa...</td>\n",
              "      <td>[#tenet]</td>\n",
              "      <td>0</td>\n",
              "    </tr>\n",
              "    <tr>\n",
              "      <th>1</th>\n",
              "      <td>1</td>\n",
              "      <td>hurricane hanna has made landfall in texas the...</td>\n",
              "      <td>[]</td>\n",
              "      <td>1</td>\n",
              "    </tr>\n",
              "    <tr>\n",
              "      <th>2</th>\n",
              "      <td>2</td>\n",
              "      <td>monkeys on the loose in india with stolen coro...</td>\n",
              "      <td>[]</td>\n",
              "      <td>0</td>\n",
              "    </tr>\n",
              "    <tr>\n",
              "      <th>3</th>\n",
              "      <td>3</td>\n",
              "      <td>let s not play blind that the work is fighting...</td>\n",
              "      <td>[]</td>\n",
              "      <td>2</td>\n",
              "    </tr>\n",
              "    <tr>\n",
              "      <th>4</th>\n",
              "      <td>4</td>\n",
              "      <td>if trump felt comfortable having it here then ...</td>\n",
              "      <td>[#coronavirus, #lovehurts, #magarally, #tulsa,...</td>\n",
              "      <td>22</td>\n",
              "    </tr>\n",
              "    <tr>\n",
              "      <th>...</th>\n",
              "      <td>...</td>\n",
              "      <td>...</td>\n",
              "      <td>...</td>\n",
              "      <td>...</td>\n",
              "    </tr>\n",
              "    <tr>\n",
              "      <th>17007</th>\n",
              "      <td>17453</td>\n",
              "      <td>i wonder how many lives could ve been saved if...</td>\n",
              "      <td>[#cheaterinchief, #covid19]</td>\n",
              "      <td>7</td>\n",
              "    </tr>\n",
              "    <tr>\n",
              "      <th>17008</th>\n",
              "      <td>17454</td>\n",
              "      <td>the front page on th march the first line read...</td>\n",
              "      <td>[#farright, #fakenews, #toriesout, #johnsonmus...</td>\n",
              "      <td>62</td>\n",
              "    </tr>\n",
              "    <tr>\n",
              "      <th>17009</th>\n",
              "      <td>17455</td>\n",
              "      <td>trump just completed the racism trifecta in a ...</td>\n",
              "      <td>[]</td>\n",
              "      <td>1</td>\n",
              "    </tr>\n",
              "    <tr>\n",
              "      <th>17010</th>\n",
              "      <td>17456</td>\n",
              "      <td>here are a few of my photographs from today s ...</td>\n",
              "      <td>[#covid19, #voting, #parliament]</td>\n",
              "      <td>1</td>\n",
              "    </tr>\n",
              "    <tr>\n",
              "      <th>17011</th>\n",
              "      <td>17457</td>\n",
              "      <td>it s gone bill de blasio says nyc facing billi...</td>\n",
              "      <td>[#takeaccountability]</td>\n",
              "      <td>11</td>\n",
              "    </tr>\n",
              "  </tbody>\n",
              "</table>\n",
              "<p>17012 rows × 4 columns</p>\n",
              "</div>\n",
              "      <button class=\"colab-df-convert\" onclick=\"convertToInteractive('df-18eeb09d-89cb-4f37-996c-350903536588')\"\n",
              "              title=\"Convert this dataframe to an interactive table.\"\n",
              "              style=\"display:none;\">\n",
              "        \n",
              "  <svg xmlns=\"http://www.w3.org/2000/svg\" height=\"24px\"viewBox=\"0 0 24 24\"\n",
              "       width=\"24px\">\n",
              "    <path d=\"M0 0h24v24H0V0z\" fill=\"none\"/>\n",
              "    <path d=\"M18.56 5.44l.94 2.06.94-2.06 2.06-.94-2.06-.94-.94-2.06-.94 2.06-2.06.94zm-11 1L8.5 8.5l.94-2.06 2.06-.94-2.06-.94L8.5 2.5l-.94 2.06-2.06.94zm10 10l.94 2.06.94-2.06 2.06-.94-2.06-.94-.94-2.06-.94 2.06-2.06.94z\"/><path d=\"M17.41 7.96l-1.37-1.37c-.4-.4-.92-.59-1.43-.59-.52 0-1.04.2-1.43.59L10.3 9.45l-7.72 7.72c-.78.78-.78 2.05 0 2.83L4 21.41c.39.39.9.59 1.41.59.51 0 1.02-.2 1.41-.59l7.78-7.78 2.81-2.81c.8-.78.8-2.07 0-2.86zM5.41 20L4 18.59l7.72-7.72 1.47 1.35L5.41 20z\"/>\n",
              "  </svg>\n",
              "      </button>\n",
              "      \n",
              "  <style>\n",
              "    .colab-df-container {\n",
              "      display:flex;\n",
              "      flex-wrap:wrap;\n",
              "      gap: 12px;\n",
              "    }\n",
              "\n",
              "    .colab-df-convert {\n",
              "      background-color: #E8F0FE;\n",
              "      border: none;\n",
              "      border-radius: 50%;\n",
              "      cursor: pointer;\n",
              "      display: none;\n",
              "      fill: #1967D2;\n",
              "      height: 32px;\n",
              "      padding: 0 0 0 0;\n",
              "      width: 32px;\n",
              "    }\n",
              "\n",
              "    .colab-df-convert:hover {\n",
              "      background-color: #E2EBFA;\n",
              "      box-shadow: 0px 1px 2px rgba(60, 64, 67, 0.3), 0px 1px 3px 1px rgba(60, 64, 67, 0.15);\n",
              "      fill: #174EA6;\n",
              "    }\n",
              "\n",
              "    [theme=dark] .colab-df-convert {\n",
              "      background-color: #3B4455;\n",
              "      fill: #D2E3FC;\n",
              "    }\n",
              "\n",
              "    [theme=dark] .colab-df-convert:hover {\n",
              "      background-color: #434B5C;\n",
              "      box-shadow: 0px 1px 3px 1px rgba(0, 0, 0, 0.15);\n",
              "      filter: drop-shadow(0px 1px 2px rgba(0, 0, 0, 0.3));\n",
              "      fill: #FFFFFF;\n",
              "    }\n",
              "  </style>\n",
              "\n",
              "      <script>\n",
              "        const buttonEl =\n",
              "          document.querySelector('#df-18eeb09d-89cb-4f37-996c-350903536588 button.colab-df-convert');\n",
              "        buttonEl.style.display =\n",
              "          google.colab.kernel.accessAllowed ? 'block' : 'none';\n",
              "\n",
              "        async function convertToInteractive(key) {\n",
              "          const element = document.querySelector('#df-18eeb09d-89cb-4f37-996c-350903536588');\n",
              "          const dataTable =\n",
              "            await google.colab.kernel.invokeFunction('convertToInteractive',\n",
              "                                                     [key], {});\n",
              "          if (!dataTable) return;\n",
              "\n",
              "          const docLinkHtml = 'Like what you see? Visit the ' +\n",
              "            '<a target=\"_blank\" href=https://colab.research.google.com/notebooks/data_table.ipynb>data table notebook</a>'\n",
              "            + ' to learn more about interactive tables.';\n",
              "          element.innerHTML = '';\n",
              "          dataTable['output_type'] = 'display_data';\n",
              "          await google.colab.output.renderOutput(dataTable, element);\n",
              "          const docLink = document.createElement('div');\n",
              "          docLink.innerHTML = docLinkHtml;\n",
              "          element.appendChild(docLink);\n",
              "        }\n",
              "      </script>\n",
              "    </div>\n",
              "  </div>\n",
              "  "
            ]
          },
          "metadata": {},
          "execution_count": 218
        }
      ]
    },
    {
      "cell_type": "code",
      "source": [
        "pred[\"text\"] = covid_df[\"text\"]\n",
        "pred[\"hashtag\"] = covid_df[\"hashtag\"]\n",
        "pred[\"num replies\"] = covid_df[\"num replies\"]"
      ],
      "metadata": {
        "id": "xfDVVY_uSSlW"
      },
      "execution_count": null,
      "outputs": []
    },
    {
      "cell_type": "code",
      "source": [
        "non = pred[(pred['Predicted'] == 0)][\"num replies\"].tolist()\n",
        "ru = pred[(pred['Predicted'] == 1)][\"num replies\"].tolist()"
      ],
      "metadata": {
        "id": "g4H7SlUpSgun"
      },
      "execution_count": null,
      "outputs": []
    },
    {
      "cell_type": "code",
      "source": [
        "import math\n",
        "non = [x for x in non if math.isnan(x) == False]\n",
        "ru = [x for x in ru if math.isnan(x) == False]"
      ],
      "metadata": {
        "id": "C5d1K-WMUP1w"
      },
      "execution_count": null,
      "outputs": []
    },
    {
      "cell_type": "code",
      "source": [
        "total_non = len(non)\n",
        "total_re = len(ru)"
      ],
      "metadata": {
        "id": "cm2PDietTFKo"
      },
      "execution_count": null,
      "outputs": []
    },
    {
      "cell_type": "code",
      "source": [
        "print(total_non)\n",
        "print(total_re)"
      ],
      "metadata": {
        "colab": {
          "base_uri": "https://localhost:8080/"
        },
        "id": "-sOqzIvvXUWG",
        "outputId": "836e8195-07c3-4679-fe33-260340b062a5"
      },
      "execution_count": null,
      "outputs": [
        {
          "output_type": "stream",
          "name": "stdout",
          "text": [
            "14538\n",
            "2045\n"
          ]
        }
      ]
    },
    {
      "cell_type": "code",
      "source": [
        "non_num = Counter(non)\n",
        "ru_num = Counter(ru)"
      ],
      "metadata": {
        "id": "6lKzdeDeS8a5"
      },
      "execution_count": null,
      "outputs": []
    },
    {
      "cell_type": "code",
      "source": [
        "non_num.most_common()[:100]"
      ],
      "metadata": {
        "colab": {
          "base_uri": "https://localhost:8080/"
        },
        "id": "XP-wFMiMXkRQ",
        "outputId": "f8f75d75-0703-474f-c8ea-31288ff7ada0"
      },
      "execution_count": null,
      "outputs": [
        {
          "output_type": "execute_result",
          "data": {
            "text/plain": [
              "[(0.0, 3624),\n",
              " (1.0, 2464),\n",
              " (2.0, 1615),\n",
              " (3.0, 1148),\n",
              " (4.0, 763),\n",
              " (5.0, 578),\n",
              " (6.0, 425),\n",
              " (7.0, 290),\n",
              " (8.0, 276),\n",
              " (9.0, 233),\n",
              " (10.0, 164),\n",
              " (11.0, 143),\n",
              " (18.0, 139),\n",
              " (16.0, 134),\n",
              " (15.0, 134),\n",
              " (17.0, 132),\n",
              " (19.0, 124),\n",
              " (13.0, 123),\n",
              " (12.0, 113),\n",
              " (20.0, 112),\n",
              " (14.0, 108),\n",
              " (21.0, 101),\n",
              " (25.0, 89),\n",
              " (23.0, 86),\n",
              " (24.0, 81),\n",
              " (26.0, 79),\n",
              " (22.0, 76),\n",
              " (28.0, 62),\n",
              " (27.0, 57),\n",
              " (29.0, 48),\n",
              " (32.0, 40),\n",
              " (31.0, 38),\n",
              " (35.0, 35),\n",
              " (36.0, 29),\n",
              " (33.0, 27),\n",
              " (34.0, 27),\n",
              " (37.0, 26),\n",
              " (30.0, 26),\n",
              " (39.0, 24),\n",
              " (38.0, 24),\n",
              " (44.0, 21),\n",
              " (40.0, 19),\n",
              " (45.0, 17),\n",
              " (41.0, 16),\n",
              " (50.0, 15),\n",
              " (49.0, 15),\n",
              " (61.0, 14),\n",
              " (57.0, 14),\n",
              " (52.0, 14),\n",
              " (46.0, 14),\n",
              " (42.0, 13),\n",
              " (47.0, 12),\n",
              " (51.0, 12),\n",
              " (43.0, 11),\n",
              " (59.0, 11),\n",
              " (48.0, 10),\n",
              " (55.0, 9),\n",
              " (58.0, 9),\n",
              " (84.0, 9),\n",
              " (63.0, 9),\n",
              " (53.0, 8),\n",
              " (70.0, 8),\n",
              " (81.0, 8),\n",
              " (69.0, 7),\n",
              " (87.0, 7),\n",
              " (76.0, 7),\n",
              " (67.0, 7),\n",
              " (93.0, 7),\n",
              " (94.0, 7),\n",
              " (60.0, 7),\n",
              " (85.0, 6),\n",
              " (88.0, 6),\n",
              " (68.0, 6),\n",
              " (75.0, 6),\n",
              " (90.0, 6),\n",
              " (74.0, 5),\n",
              " (79.0, 5),\n",
              " (105.0, 5),\n",
              " (71.0, 5),\n",
              " (62.0, 5),\n",
              " (80.0, 5),\n",
              " (56.0, 5),\n",
              " (66.0, 5),\n",
              " (64.0, 5),\n",
              " (233.0, 5),\n",
              " (72.0, 4),\n",
              " (95.0, 4),\n",
              " (82.0, 4),\n",
              " (98.0, 4),\n",
              " (83.0, 4),\n",
              " (97.0, 4),\n",
              " (65.0, 4),\n",
              " (122.0, 4),\n",
              " (121.0, 4),\n",
              " (140.0, 4),\n",
              " (54.0, 4),\n",
              " (120.0, 3),\n",
              " (168.0, 3),\n",
              " (333.0, 3),\n",
              " (178.0, 3)]"
            ]
          },
          "metadata": {},
          "execution_count": 279
        }
      ]
    },
    {
      "cell_type": "code",
      "source": [
        "les_10_non = sum([c for (numre,c) in non_num.most_common() if numre <= 10])\n",
        "les_10_non"
      ],
      "metadata": {
        "colab": {
          "base_uri": "https://localhost:8080/"
        },
        "id": "QqqTxmVOUH8B",
        "outputId": "3be57df5-3f01-4b2f-8be3-3280ad0dd3a6"
      },
      "execution_count": null,
      "outputs": [
        {
          "output_type": "execute_result",
          "data": {
            "text/plain": [
              "11580"
            ]
          },
          "metadata": {},
          "execution_count": 282
        }
      ]
    },
    {
      "cell_type": "code",
      "source": [
        "les_20_non = sum([c for (numre,c) in non_num.most_common() if numre <= 20])\n",
        "les_20_non"
      ],
      "metadata": {
        "colab": {
          "base_uri": "https://localhost:8080/"
        },
        "id": "32X79DdfYEXs",
        "outputId": "320dfba2-bfa6-4b06-e597-2be6961d46f7"
      },
      "execution_count": null,
      "outputs": [
        {
          "output_type": "execute_result",
          "data": {
            "text/plain": [
              "12842"
            ]
          },
          "metadata": {},
          "execution_count": 283
        }
      ]
    },
    {
      "cell_type": "code",
      "source": [
        "more_20_non = sum([c for (numre,c) in non_num.most_common() if numre > 20])\n",
        "more_20_non"
      ],
      "metadata": {
        "colab": {
          "base_uri": "https://localhost:8080/"
        },
        "id": "awLA0hCXXKRM",
        "outputId": "c8959876-8602-4d48-fb8c-a95356f8cdaf"
      },
      "execution_count": null,
      "outputs": [
        {
          "output_type": "execute_result",
          "data": {
            "text/plain": [
              "1696"
            ]
          },
          "metadata": {},
          "execution_count": 284
        }
      ]
    },
    {
      "cell_type": "code",
      "source": [
        "les_10_ru = sum([c for (numre,c) in ru_num.most_common() if numre <= 10])\n",
        "les_10_ru"
      ],
      "metadata": {
        "colab": {
          "base_uri": "https://localhost:8080/"
        },
        "id": "dD1bpEW_YK1l",
        "outputId": "df5ca625-6e88-473e-c38d-dd0cb94d81c2"
      },
      "execution_count": null,
      "outputs": [
        {
          "output_type": "execute_result",
          "data": {
            "text/plain": [
              "1607"
            ]
          },
          "metadata": {},
          "execution_count": 285
        }
      ]
    },
    {
      "cell_type": "code",
      "source": [
        "les_20_ru = sum([c for (numre,c) in ru_num.most_common() if numre <= 20])\n",
        "les_20_ru"
      ],
      "metadata": {
        "colab": {
          "base_uri": "https://localhost:8080/"
        },
        "id": "RxyfbNWYYQl-",
        "outputId": "9fe44e73-f0f6-4269-c93c-4595d9a766b4"
      },
      "execution_count": null,
      "outputs": [
        {
          "output_type": "execute_result",
          "data": {
            "text/plain": [
              "1790"
            ]
          },
          "metadata": {},
          "execution_count": 286
        }
      ]
    },
    {
      "cell_type": "code",
      "source": [
        "more_20_ru = sum([c for (numre,c) in ru_num.most_common() if numre > 20])\n",
        "more_20_ru"
      ],
      "metadata": {
        "colab": {
          "base_uri": "https://localhost:8080/"
        },
        "id": "KCmecJZVYQ4R",
        "outputId": "526dba62-27bb-4959-c0f3-88c0fca8e271"
      },
      "execution_count": null,
      "outputs": [
        {
          "output_type": "execute_result",
          "data": {
            "text/plain": [
              "255"
            ]
          },
          "metadata": {},
          "execution_count": 287
        }
      ]
    },
    {
      "cell_type": "code",
      "source": [
        "print(les_10_non/total_non)\n",
        "print(les_20_non/total_non)\n",
        "print(more_20_non/total_non)"
      ],
      "metadata": {
        "colab": {
          "base_uri": "https://localhost:8080/"
        },
        "id": "Xxvc12Dhajdz",
        "outputId": "3d899ca6-cb63-4d82-9ff1-30a2846bc71f"
      },
      "execution_count": null,
      "outputs": [
        {
          "output_type": "stream",
          "name": "stdout",
          "text": [
            "0.7965332232769294\n",
            "0.8833402118585775\n",
            "0.11665978814142249\n"
          ]
        }
      ]
    },
    {
      "cell_type": "code",
      "source": [
        "print(les_10_ru/total_re)\n",
        "print(les_20_ru/total_re)\n",
        "print(more_20_ru/total_re)"
      ],
      "metadata": {
        "colab": {
          "base_uri": "https://localhost:8080/"
        },
        "id": "IvsEBFI8axUm",
        "outputId": "cdc1a311-71e9-44ea-8a04-67a18d19571c"
      },
      "execution_count": null,
      "outputs": [
        {
          "output_type": "stream",
          "name": "stdout",
          "text": [
            "0.7858190709046454\n",
            "0.8753056234718827\n",
            "0.12469437652811736\n"
          ]
        }
      ]
    },
    {
      "cell_type": "code",
      "source": [
        "y = [les_10_non, les_20_non, more_20_non]\n",
        "mylabels = [\"Less than 10 replies\", \"Between 10 - 20 replies\", \"More than 20 replies\"]\n",
        "\n",
        "plt.pie(y, labels = mylabels)\n",
        "plt.show() "
      ],
      "metadata": {
        "colab": {
          "base_uri": "https://localhost:8080/",
          "height": 248
        },
        "id": "1eKiDGI8YnzT",
        "outputId": "2608bd50-90ae-472b-f864-eb45583940e0"
      },
      "execution_count": null,
      "outputs": [
        {
          "output_type": "display_data",
          "data": {
            "text/plain": [
              "<Figure size 432x288 with 1 Axes>"
            ],
            "image/png": "[encoded data removed]"
          },
          "metadata": {}
        }
      ]
    },
    {
      "cell_type": "code",
      "source": [
        "y = [les_10_ru, les_20_ru, more_20_ru]\n",
        "mylabels = [\"Less than 10 replies\", \"Between 10 - 20 replies\", \"More than 20 replies\"]\n",
        "\n",
        "plt.pie(y, labels = mylabels, startangle = 90)\n",
        "plt.show() "
      ],
      "metadata": {
        "colab": {
          "base_uri": "https://localhost:8080/",
          "height": 843
        },
        "id": "f3v0qW-_ZMV-",
        "outputId": "49eda47a-7c19-44da-a402-07d51d83422a"
      },
      "execution_count": null,
      "outputs": [
        {
          "output_type": "error",
          "ename": "TypeError",
          "evalue": "ignored",
          "traceback": [
            "\u001b[0;31m---------------------------------------------------------------------------\u001b[0m",
            "\u001b[0;31mTypeError\u001b[0m                                 Traceback (most recent call last)",
            "\u001b[0;32m<ipython-input-291-bca000cd39b6>\u001b[0m in \u001b[0;36m<module>\u001b[0;34m()\u001b[0m\n\u001b[1;32m      2\u001b[0m \u001b[0mmylabels\u001b[0m \u001b[0;34m=\u001b[0m \u001b[0;34m[\u001b[0m\u001b[0;34m\"Less than 10 replies\"\u001b[0m\u001b[0;34m,\u001b[0m \u001b[0;34m\"Between 10 - 20 replies\"\u001b[0m\u001b[0;34m,\u001b[0m \u001b[0;34m\"More than 20 replies\"\u001b[0m\u001b[0;34m]\u001b[0m\u001b[0;34m\u001b[0m\u001b[0;34m\u001b[0m\u001b[0m\n\u001b[1;32m      3\u001b[0m \u001b[0;34m\u001b[0m\u001b[0m\n\u001b[0;32m----> 4\u001b[0;31m \u001b[0mplt\u001b[0m\u001b[0;34m.\u001b[0m\u001b[0mpie\u001b[0m\u001b[0;34m(\u001b[0m\u001b[0my\u001b[0m\u001b[0;34m,\u001b[0m \u001b[0mlabels\u001b[0m \u001b[0;34m=\u001b[0m \u001b[0mmylabels\u001b[0m\u001b[0;34m,\u001b[0m \u001b[0mstartangle\u001b[0m \u001b[0;34m=\u001b[0m \u001b[0;36m90\u001b[0m\u001b[0;34m,\u001b[0m \u001b[0mautopct\u001b[0m\u001b[0;34m=\u001b[0m\u001b[0my\u001b[0m\u001b[0;34m)\u001b[0m\u001b[0;34m\u001b[0m\u001b[0;34m\u001b[0m\u001b[0m\n\u001b[0m\u001b[1;32m      5\u001b[0m \u001b[0mplt\u001b[0m\u001b[0;34m.\u001b[0m\u001b[0mshow\u001b[0m\u001b[0;34m(\u001b[0m\u001b[0;34m)\u001b[0m\u001b[0;34m\u001b[0m\u001b[0;34m\u001b[0m\u001b[0m\n",
            "\u001b[0;32m/usr/local/lib/python3.7/dist-packages/matplotlib/pyplot.py\u001b[0m in \u001b[0;36mpie\u001b[0;34m(x, explode, labels, colors, autopct, pctdistance, shadow, labeldistance, startangle, radius, counterclock, wedgeprops, textprops, center, frame, rotatelabels, data)\u001b[0m\n\u001b[1;32m   2753\u001b[0m         \u001b[0mwedgeprops\u001b[0m\u001b[0;34m=\u001b[0m\u001b[0mwedgeprops\u001b[0m\u001b[0;34m,\u001b[0m \u001b[0mtextprops\u001b[0m\u001b[0;34m=\u001b[0m\u001b[0mtextprops\u001b[0m\u001b[0;34m,\u001b[0m \u001b[0mcenter\u001b[0m\u001b[0;34m=\u001b[0m\u001b[0mcenter\u001b[0m\u001b[0;34m,\u001b[0m\u001b[0;34m\u001b[0m\u001b[0;34m\u001b[0m\u001b[0m\n\u001b[1;32m   2754\u001b[0m         frame=frame, rotatelabels=rotatelabels, **({\"data\": data} if\n\u001b[0;32m-> 2755\u001b[0;31m         data is not None else {}))\n\u001b[0m\u001b[1;32m   2756\u001b[0m \u001b[0;34m\u001b[0m\u001b[0m\n\u001b[1;32m   2757\u001b[0m \u001b[0;34m\u001b[0m\u001b[0m\n",
            "\u001b[0;32m/usr/local/lib/python3.7/dist-packages/matplotlib/__init__.py\u001b[0m in \u001b[0;36minner\u001b[0;34m(ax, data, *args, **kwargs)\u001b[0m\n\u001b[1;32m   1563\u001b[0m     \u001b[0;32mdef\u001b[0m \u001b[0minner\u001b[0m\u001b[0;34m(\u001b[0m\u001b[0max\u001b[0m\u001b[0;34m,\u001b[0m \u001b[0;34m*\u001b[0m\u001b[0margs\u001b[0m\u001b[0;34m,\u001b[0m \u001b[0mdata\u001b[0m\u001b[0;34m=\u001b[0m\u001b[0;32mNone\u001b[0m\u001b[0;34m,\u001b[0m \u001b[0;34m**\u001b[0m\u001b[0mkwargs\u001b[0m\u001b[0;34m)\u001b[0m\u001b[0;34m:\u001b[0m\u001b[0;34m\u001b[0m\u001b[0;34m\u001b[0m\u001b[0m\n\u001b[1;32m   1564\u001b[0m         \u001b[0;32mif\u001b[0m \u001b[0mdata\u001b[0m \u001b[0;32mis\u001b[0m \u001b[0;32mNone\u001b[0m\u001b[0;34m:\u001b[0m\u001b[0;34m\u001b[0m\u001b[0;34m\u001b[0m\u001b[0m\n\u001b[0;32m-> 1565\u001b[0;31m             \u001b[0;32mreturn\u001b[0m \u001b[0mfunc\u001b[0m\u001b[0;34m(\u001b[0m\u001b[0max\u001b[0m\u001b[0;34m,\u001b[0m \u001b[0;34m*\u001b[0m\u001b[0mmap\u001b[0m\u001b[0;34m(\u001b[0m\u001b[0msanitize_sequence\u001b[0m\u001b[0;34m,\u001b[0m \u001b[0margs\u001b[0m\u001b[0;34m)\u001b[0m\u001b[0;34m,\u001b[0m \u001b[0;34m**\u001b[0m\u001b[0mkwargs\u001b[0m\u001b[0;34m)\u001b[0m\u001b[0;34m\u001b[0m\u001b[0;34m\u001b[0m\u001b[0m\n\u001b[0m\u001b[1;32m   1566\u001b[0m \u001b[0;34m\u001b[0m\u001b[0m\n\u001b[1;32m   1567\u001b[0m         \u001b[0mbound\u001b[0m \u001b[0;34m=\u001b[0m \u001b[0mnew_sig\u001b[0m\u001b[0;34m.\u001b[0m\u001b[0mbind\u001b[0m\u001b[0;34m(\u001b[0m\u001b[0max\u001b[0m\u001b[0;34m,\u001b[0m \u001b[0;34m*\u001b[0m\u001b[0margs\u001b[0m\u001b[0;34m,\u001b[0m \u001b[0;34m**\u001b[0m\u001b[0mkwargs\u001b[0m\u001b[0;34m)\u001b[0m\u001b[0;34m\u001b[0m\u001b[0;34m\u001b[0m\u001b[0m\n",
            "\u001b[0;32m/usr/local/lib/python3.7/dist-packages/matplotlib/axes/_axes.py\u001b[0m in \u001b[0;36mpie\u001b[0;34m(self, x, explode, labels, colors, autopct, pctdistance, shadow, labeldistance, startangle, radius, counterclock, wedgeprops, textprops, center, frame, rotatelabels)\u001b[0m\n\u001b[1;32m   3013\u001b[0m                 \u001b[0;32melse\u001b[0m\u001b[0;34m:\u001b[0m\u001b[0;34m\u001b[0m\u001b[0;34m\u001b[0m\u001b[0m\n\u001b[1;32m   3014\u001b[0m                     raise TypeError(\n\u001b[0;32m-> 3015\u001b[0;31m                         'autopct must be callable or a format string')\n\u001b[0m\u001b[1;32m   3016\u001b[0m \u001b[0;34m\u001b[0m\u001b[0m\n\u001b[1;32m   3017\u001b[0m                 props = dict(horizontalalignment='center',\n",
            "\u001b[0;31mTypeError\u001b[0m: autopct must be callable or a format string"
          ]
        },
        {
          "output_type": "display_data",
          "data": {
            "text/plain": [
              "<Figure size 432x288 with 1 Axes>"
            ],
            "image/png": "[encoded data removed]"
          },
          "metadata": {
            "needs_background": "light"
          }
        }
      ]
    },
    {
      "cell_type": "code",
      "source": [
        "# train labels\n",
        "train_label_file = open('./train.label.txt', 'r') \n",
        "train_labels = train_label_file.readlines()\n",
        "train_labels = [label.strip('\\n') for label in train_labels]\n",
        "\n",
        "#dev labels\n",
        "dev_label_file = open('./dev.label.txt', 'r')\n",
        "dev_labels = dev_label_file.readlines()\n",
        "dev_labels = [label.strip('\\n') for label in dev_labels]"
      ],
      "metadata": {
        "id": "C8SUdAqEgGeO"
      },
      "execution_count": null,
      "outputs": []
    },
    {
      "cell_type": "code",
      "source": [
        "tCounter = Counter(train_labels)\n",
        "devCounter = Counter(dev_labels)"
      ],
      "metadata": {
        "id": "IQHenAaogSbG"
      },
      "execution_count": null,
      "outputs": []
    },
    {
      "cell_type": "code",
      "source": [
        "tCounter"
      ],
      "metadata": {
        "colab": {
          "base_uri": "https://localhost:8080/"
        },
        "id": "c5DysZQHgnHV",
        "outputId": "449cdc0e-8a5b-462c-a5bc-d48afefebb29"
      },
      "execution_count": null,
      "outputs": [
        {
          "output_type": "execute_result",
          "data": {
            "text/plain": [
              "Counter({'nonrumour': 1475, 'rumour': 420})"
            ]
          },
          "metadata": {},
          "execution_count": 6
        }
      ]
    },
    {
      "cell_type": "code",
      "source": [
        "devCounter"
      ],
      "metadata": {
        "colab": {
          "base_uri": "https://localhost:8080/"
        },
        "id": "i3NPgdyCgopa",
        "outputId": "8d1603ca-da04-402a-e3c1-5faa3a7002e5"
      },
      "execution_count": null,
      "outputs": [
        {
          "output_type": "execute_result",
          "data": {
            "text/plain": [
              "Counter({'nonrumour': 493, 'rumour': 139})"
            ]
          },
          "metadata": {},
          "execution_count": 7
        }
      ]
    },
    {
      "cell_type": "markdown",
      "source": [
        "# Length text analysis"
      ],
      "metadata": {
        "id": "jPEM_1kpboRS"
      }
    },
    {
      "cell_type": "code",
      "source": [
        "# train tweets\n",
        "f = open(f'./tweet_text.pckl','rb')\n",
        "train_data = pickle.load(f)\n",
        "f.close()\n",
        "\n",
        "# dev tweets\n",
        "f = open(f'./dev_tweet_text.pckl','rb')\n",
        "dev_data = pickle.load(f)\n",
        "f.close()"
      ],
      "metadata": {
        "id": "IebSt6a2btFa"
      },
      "execution_count": null,
      "outputs": []
    },
    {
      "cell_type": "code",
      "source": [
        "## cleaning the tweets\n",
        "def clean_text(text):\n",
        "    text = re.sub(r'@[A-Za-z0-9]+','',text) #remove @mention\n",
        "    text = re.sub(r'#','',text) # remove the hashtag symbol\n",
        "    text = re.sub(r'https?:\\/\\/\\S+', '',text) #remove hyperlink\n",
        "    text = re.sub(r'\\n','',text) # remove \\n \n",
        "    text = re.sub(r'\\r','',text) # remove \\r\n",
        "    text = re.sub(r'[0-9]+','',text) #remove all the number\n",
        "    text = re.sub(r'\\W+', ' ', text) #remove special characters\n",
        "    text = text.strip().lower()\n",
        "    if len(text) != 0:\n",
        "        return text\n",
        "    else:\n",
        "        return None"
      ],
      "metadata": {
        "id": "p1py15ctbxvC"
      },
      "execution_count": null,
      "outputs": []
    },
    {
      "cell_type": "code",
      "source": [
        "for i in range(len(train_data)):\n",
        "    for j in range(len(train_data[i])):\n",
        "        train_data[i][j] = clean_text(train_data[i][j])\n",
        "    train_data[i] = [x for x in train_data[i] if x is not None]\n",
        "        \n",
        "for i in range(len(dev_data)):\n",
        "    for j in range(len(dev_data[i])):\n",
        "        dev_data[i][j] = clean_text(dev_data[i][j])\n",
        "    dev_data[i] = [x for x in dev_data[i] if x is not None]"
      ],
      "metadata": {
        "id": "WpjhuSZIb2go"
      },
      "execution_count": null,
      "outputs": []
    },
    {
      "cell_type": "code",
      "source": [
        "train_len = []\n",
        "dev_len = []\n",
        "for events in train_data:\n",
        "  merge = ' '.join(word for word in events)\n",
        "  split = merge.split(\" \")\n",
        "  train_len.append(len(split))\n",
        "\n",
        "for events in dev_data:\n",
        "  merge = ' '.join(word for word in events)\n",
        "  split = merge.split(\" \")\n",
        "  dev_len.append(len(split))"
      ],
      "metadata": {
        "id": "56YFtdRocBkY"
      },
      "execution_count": null,
      "outputs": []
    },
    {
      "cell_type": "code",
      "source": [
        "t_Counter = Counter(train_len)\n",
        "d_Counter = Counter(dev_len)"
      ],
      "metadata": {
        "id": "DH7CC64Ccz9A"
      },
      "execution_count": null,
      "outputs": []
    },
    {
      "cell_type": "code",
      "source": [
        "les_512_t = sum([c for (len,c) in t_Counter.most_common() if len < 512])\n",
        "more_512_t = sum([c for (len,c) in t_Counter.most_common() if len >= 512])\n",
        "print(les_512_t)\n",
        "print(more_512_t)"
      ],
      "metadata": {
        "colab": {
          "base_uri": "https://localhost:8080/"
        },
        "id": "EcTy4OiTc8W6",
        "outputId": "9557f253-7667-4fd5-a30b-2cfc711ebb38"
      },
      "execution_count": null,
      "outputs": [
        {
          "output_type": "stream",
          "name": "stdout",
          "text": [
            "1766\n",
            "129\n"
          ]
        }
      ]
    },
    {
      "cell_type": "code",
      "source": [
        "more_512_tl = [(len, c) for (len,c) in t_Counter.most_common() if len >= 612]"
      ],
      "metadata": {
        "id": "hyAZlc_UdoYZ"
      },
      "execution_count": null,
      "outputs": []
    },
    {
      "cell_type": "code",
      "source": [
        "les_512_d = sum([c for (len,c) in d_Counter.most_common() if len < 512])\n",
        "more_512_d = sum([c for (len,c) in d_Counter.most_common() if len >= 512])\n",
        "print(les_512_d)\n",
        "print(more_512_d)"
      ],
      "metadata": {
        "colab": {
          "base_uri": "https://localhost:8080/"
        },
        "id": "y1aJcUcFc-AS",
        "outputId": "13e44dd5-7f68-4b89-a9e8-04e8d7f7d708"
      },
      "execution_count": null,
      "outputs": [
        {
          "output_type": "stream",
          "name": "stdout",
          "text": [
            "590\n",
            "42\n"
          ]
        }
      ]
    }
  ]
}