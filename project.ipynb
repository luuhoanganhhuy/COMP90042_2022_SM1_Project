{
 "cells": [
  {
   "cell_type": "code",
   "execution_count": 1,
   "id": "9a35d77f",
   "metadata": {},
   "outputs": [],
   "source": [
    "import tweepy\n",
    "import configparser"
   ]
  },
  {
   "cell_type": "code",
   "execution_count": 39,
   "id": "693c1a6b",
   "metadata": {},
   "outputs": [],
   "source": [
    "file = open('project-data/train.data.txt', 'r')\n",
    "Lines = file.readlines()\n",
    "events =[]\n",
    "# Strips the newline character\n",
    "for line in Lines:\n",
    "    events.append(list(map(int,line.strip('\\n').split(','))))"
   ]
  },
  {
   "cell_type": "code",
   "execution_count": 40,
   "id": "3e4e3125",
   "metadata": {},
   "outputs": [
    {
     "name": "stdout",
     "output_type": "stream",
     "text": [
      "D36zKRt2oqq38TjnRQZc4zPwh\n",
      "x2Gke0pktMnOdWliytf4fQqMc2vwAHIyUDKz7TkSBzY0pVaWuc\n",
      "1517394779260473344-FInfqjNiYmkXqPHzifd5wQ2bM0lZhI\n",
      "P2tmPTGOa5kH2gRsUOXCDRrfpFNwjtK9PWmPmDkNrUpPJ\n"
     ]
    }
   ],
   "source": [
    "config = configparser.ConfigParser()\n",
    "config.read('config.ini')\n",
    "\n",
    "consumer_key = config['twitter']['consumer_key']\n",
    "consumer_secret = config['twitter']['consumer_secret']\n",
    "\n",
    "access_token = config['twitter']['access_token']\n",
    "access_token_secret = config['twitter']['access_token_secret']\n",
    "print(consumer_key)\n",
    "print(consumer_secret)\n",
    "print(access_token)\n",
    "print(access_token_secret)"
   ]
  },
  {
   "cell_type": "code",
   "execution_count": 41,
   "id": "74e7fec7",
   "metadata": {},
   "outputs": [],
   "source": [
    "# get_tweets only return 100 results, handle the case when there is more than 100\n",
    "def lookup_tweets(tweet_IDs, client):\n",
    "    full_tweets = []\n",
    "    tweet_count = len(tweet_IDs)\n",
    "    try:\n",
    "        for i in range(int((tweet_count / 100) + 1)):\n",
    "            # Catch the last group if it is less than 100 tweets\n",
    "            end_loc = min((i + 1) * 100, tweet_count)\n",
    "            full_tweets.extend(\n",
    "                client.get_tweets(tweet_IDs[i * 100:end_loc],user_auth=True)\n",
    "            )\n",
    "        return full_tweets\n",
    "    except tweepy.errors.TweepyException:\n",
    "        print('Something went wrong, quitting...')"
   ]
  },
  {
   "cell_type": "code",
   "execution_count": 43,
   "id": "4f45dc27",
   "metadata": {},
   "outputs": [],
   "source": [
    "# authentication\n",
    "client = tweepy.Client(consumer_key=consumer_key, consumer_secret=consumer_secret,\n",
    "                                   access_token=access_token, access_token_secret=access_token_secret)\n",
    "\n"
   ]
  },
  {
   "cell_type": "code",
   "execution_count": 46,
   "id": "e6ea5264",
   "metadata": {},
   "outputs": [
    {
     "name": "stdout",
     "output_type": "stream",
     "text": [
      "[<Tweet id=1250219300389974016 text='5. Can regularly rinsing your nose with saline help prevent infection with the new coronavirus? https://t.co/ccMjhhD7BK'>, <Tweet id=1250219116993974272 text='4. Can eating garlic help prevent infection with the new coronavirus? #COVID19Malaysia https://t.co/q133xXBiwl'>, <Tweet id=1250219437027766273 text='6. Do vaccines against pneumonia protect you against the new coronavirus? https://t.co/wL0mlEqU95'>, <Tweet id=1250219620939657216 text='7. Can spraying alcohol or chlorine all over your body kill the new coronavirus? #Chamber https://t.co/zunVR7Ht0V'>, <Tweet id=1250219777185873922 text='8. How effective are thermal scanners in detecting people infected with the new coronavirus? https://t.co/nyLOyKAb1H'>, <Tweet id=1250219894429208577 text='9. Can an ultraviolet disinfection lamp kill the new coronavirus? https://t.co/ZrlllbkIjm'>, <Tweet id=1250219998842216448 text='10. Are hand dryers effective in killing the new coronavirus? https://t.co/cSDKXO1bGr'>, <Tweet id=1250220115762667520 text='11. The new coronavirus CANNOT be transmitted through mosquito bites. https://t.co/ZRL8bjRkpl'>, <Tweet id=1250220272306638848 text='12. Taking a hot bath does not prevent the new coronavirus disease https://t.co/bICOqSTOuD'>, <Tweet id=1250220389323526146 text='13. Cold weather and snow CANNOT kill the new coronavirus. https://t.co/7yeQQ6gLNo'>, <Tweet id=1250220527005753344 text='14. COVID-19 virus can be transmitted in areas with hot and humid climates https://t.co/ylKa2F40vu'>, <Tweet id=1250220791544705025 text='15. Drinking alcohol does not protect you against COVID-19 and can be dangerous https://t.co/ZrLN61q046'>, <Tweet id=1250220987238383616 text='16. Being able to hold your breath for 10 seconds or more without coughing or feeling discomfort DOES NOT mean you are free from the coronavirus disease (COVID-19) or any other lung disease. https://t.co/gPUL51Y2lx'>, <Tweet id=1250221140603047937 text='17. You can recover from the coronavirus disease (COVID-19). Catching the new coronavirus DOES NOT mean you will have it for life. https://t.co/yrjUM5qniK'>, <Tweet id=1250221275827470336 text='18. Exposing yourself to the sun or to temperatures higher than 25C degrees DOES NOT prevent the coronavirus disease (COVID-19) https://t.co/aOQKrrwaBv'>, <Tweet id=1250221402822545410 text='19. 5G mobile networks DO NOT spread COVID-19 https://t.co/VjqelBmpTn'>]\n",
      "[<Tweet id=554886875303780352 text='French police chief killed himself after #CharlieHebdo attack http://t.co/KC8nCzimBl http://t.co/EnZQarIezF'>, <Tweet id=554959644125167617 text='Devastating. RT “@Telegraph: French police chief killed himself after #CharlieHebdo attack http://t.co/QAWv7u1yUy http://t.co/ihf5hDbdKX”'>, <Tweet id=554927149090897920 text='@Rene_gadeCowboy @Telegraph. Nothing to see here. Move along.'>, <Tweet id=554892798869389312 text='@Telegraph @wmiddelkoop it stinkS !!! These whole affaire!!!'>, <Tweet id=554903624808398850 text=\"@Telegraph And tasked with investigating Charlie Hebdo shooting. But 'obviously' just a strange coincidence. Not like he discovered anything\">, <Tweet id=554895301316591616 text=\"FWIW, his 2nd in command comitted suicide in 2013, &amp; he found the body. So, there's that. :P @Telegraph @wonderfullone\">, <Tweet id=554902157942480896 text='Ohh boy,Here v go Pakistanis already calling it false flag by Eivil Jews\\nMT\"@_EretzYisrael:@Telegraph:#CharlieHebdo http://t.co/az5hLEzHON\"'>, <Tweet id=554902638220042240 text='“@Telegraph: French police chief killed himself after #CharlieHebdo attack http://t.co/z6XSVtxLGG http://t.co/TttVOK3P8T” 😳 wtf?'>, <Tweet id=554915829171515392 text='@Telegraph Why?'>, <Tweet id=554965654437384192 text='@Telegraph @HenryMakow Yeh sure he did...'>, <Tweet id=554898706680778753 text='@Telegraph @Commuter_Rants why are you reporting this three days after it happened?'>, <Tweet id=554896019419574273 text='@Telegraph,only those cartoonistS are responsible, those were sent to hell,by humiliating norms of Islam and blasphemy of PBUH OF ISLAM.'>, <Tweet id=554893579957460992 text='@Telegraph @billpostmus so horrible.'>, <Tweet id=554899738575642624 text=\"@Telegraph @farahdeez They killed him how can he kill himself? was shot in the forehead! so taht he doesnt get who's behind it\">, <Tweet id=554895363165790209 text='@Telegraph @DestinyandBruce WHAT YA WANNA BET HE WAS KILLED??????????'>, <Tweet id=554900417071833088 text='@Telegraph @Rene_gadeCowboy took it kinda personal I guess, sad'>, <Tweet id=554907945377726464 text=\"@Telegraph @TelegraphNews Don't worry...it's all another weird coincidence. No conspiracy here.\">, <Tweet id=554893028394278912 text='@Telegraph @TelegraphNews such a sad loss 😔may he now RIP'>, <Tweet id=554887349180833793 text='@Telegraph How very sad.'>, <Tweet id=554890068603969536 text='@Telegraph @TelegraphNews The trauma he must have faced. Very sad.'>, <Tweet id=554892765255847936 text='“@Telegraph: French police chief killed himself after #CharlieHebdo attack http://t.co/DJAyu2GC5C http://t.co/8X6V2RX2kc” #RIP. Terrible!'>, <Tweet id=554961344676392960 text='@janecat60 oh no... @Telegraph'>, <Tweet id=554919484473880576 text='@Telegraph we will be very satisfied if #NawazSharif resigns. Here they hide the reports which blames them.'>, <Tweet id=554908645163421696 text='@Telegraph horrible!!! Needless. Did Dubya kill himself after 9/11 or just go brain-dead...'>]\n",
      "[{'value': '554894001946759168', 'detail': 'Could not find tweet with ids: [554894001946759168].', 'title': 'Not Found Error', 'resource_type': 'tweet', 'parameter': 'ids', 'resource_id': '554894001946759168', 'type': 'https://api.twitter.com/2/problems/resource-not-found'}, {'value': '554897957372567552', 'detail': 'Could not find tweet with ids: [554897957372567552].', 'title': 'Not Found Error', 'resource_type': 'tweet', 'parameter': 'ids', 'resource_id': '554897957372567552', 'type': 'https://api.twitter.com/2/problems/resource-not-found'}, {'resource_id': '554956172529520640', 'parameter': 'ids', 'resource_type': 'tweet', 'section': 'data', 'title': 'Authorization Error', 'value': '554956172529520640', 'detail': 'Sorry, you are not authorized to see the Tweet with ids: [554956172529520640].', 'type': 'https://api.twitter.com/2/problems/not-authorized-for-resource'}, {'resource_id': '554928464676274177', 'parameter': 'ids', 'resource_type': 'tweet', 'section': 'data', 'title': 'Authorization Error', 'value': '554928464676274177', 'detail': 'Sorry, you are not authorized to see the Tweet with ids: [554928464676274177].', 'type': 'https://api.twitter.com/2/problems/not-authorized-for-resource'}, {'resource_id': '554891144480718848', 'parameter': 'ids', 'resource_type': 'tweet', 'section': 'data', 'title': 'Authorization Error', 'value': '554891144480718848', 'detail': 'Sorry, you are not authorized to see the Tweet with ids: [554891144480718848].', 'type': 'https://api.twitter.com/2/problems/not-authorized-for-resource'}, {'resource_id': '554895244412473346', 'parameter': 'ids', 'resource_type': 'tweet', 'section': 'data', 'title': 'Authorization Error', 'value': '554895244412473346', 'detail': 'Sorry, you are not authorized to see the Tweet with ids: [554895244412473346].', 'type': 'https://api.twitter.com/2/problems/not-authorized-for-resource'}, {'value': '554986669527818240', 'detail': 'Could not find tweet with ids: [554986669527818240].', 'title': 'Not Found Error', 'resource_type': 'tweet', 'parameter': 'ids', 'resource_id': '554986669527818240', 'type': 'https://api.twitter.com/2/problems/resource-not-found'}, {'value': '554919544310202368', 'detail': 'Could not find tweet with ids: [554919544310202368].', 'title': 'Not Found Error', 'resource_type': 'tweet', 'parameter': 'ids', 'resource_id': '554919544310202368', 'type': 'https://api.twitter.com/2/problems/resource-not-found'}]\n",
      "[<Tweet id=1237901309011021825 text='Coronavirus disease (COVID-19) advice for the public:\\n\\n✳️ Should I wear a mask to protect myself?\\n\\n✳️ How to put on, use, take off and dispose of a mask?\\n\\n✳️ When and how to use masks?\\n\\nhttps://t.co/hYwVDOX3mn https://t.co/aj1CKwbKkE'>, <Tweet id=1237901311439450112 text='Infection control for suspected or confirmed COVID-19 cases \\n\\n✳️ WHO recommendations:\\n\\nhttps://t.co/ScAizY5HOZ\\n\\n✳️ CDC recommendations\\n\\nhttps://t.co/2xnkweKw2q'>, <Tweet id=1239862502516760577 text='🔘 personal protective equipment (PPE)\\n\\nhttps://t.co/kGEsQpBpAi\\n\\n🔘 N95 Respirators and Surgical Masks (Face Masks)\\n\\nhttps://t.co/t2ambIeotz\\n\\n🔘 Surgical Mask vs N95 Respirator\\n\\nhttps://t.co/vVEPxdN1uw https://t.co/WY3jaTmzDA'>]\n"
     ]
    },
    {
     "name": "stdout",
     "output_type": "stream",
     "text": [
      "[<Tweet id=524958128392376320 text='Ottawa police confirm that there were multiple suspects in the shooting, saying there were \"possibly 3\" shooters. http://t.co/In9OgOxYXM'>, <Tweet id=524961934064754688 text=\"@WSJ @HeyTammyBruce I hope this isn't just a prelude to a bigger attack.\">, <Tweet id=524959028061798401 text='@WSJ Killers go berserk when cornered.  Henceforth, no lapses in security should be there.'>, <Tweet id=524959339745140736 text='@45_nabeel hahaha, you said far more than you think'>, <Tweet id=524959070407503873 text='@WSJ @macdonaldajm terrorists in ottawa'>, <Tweet id=525016147448836096 text='@WSJ when Canadians of all people start shooting, well, \"c\\'est la fin du monde, non?\"'>]\n",
      "[<Tweet id=1239295488677085185 text=\"if the primary focus of a government isn't to alleviate suffering/death and promote happiness/wellbeing for its citizens, why do we need it to begin with?\">]\n",
      "[{'value': '1239562248990806016', 'detail': 'Could not find tweet with ids: [1239562248990806016].', 'title': 'Not Found Error', 'resource_type': 'tweet', 'parameter': 'ids', 'resource_id': '1239562248990806016', 'type': 'https://api.twitter.com/2/problems/resource-not-found'}]\n",
      "[<Tweet id=1250219998842216448 text='10. Are hand dryers effective in killing the new coronavirus? https://t.co/cSDKXO1bGr'>, <Tweet id=1250220791544705025 text='15. Drinking alcohol does not protect you against COVID-19 and can be dangerous https://t.co/ZrLN61q046'>, <Tweet id=1250220987238383616 text='16. Being able to hold your breath for 10 seconds or more without coughing or feeling discomfort DOES NOT mean you are free from the coronavirus disease (COVID-19) or any other lung disease. https://t.co/gPUL51Y2lx'>, <Tweet id=1250221140603047937 text='17. You can recover from the coronavirus disease (COVID-19). Catching the new coronavirus DOES NOT mean you will have it for life. https://t.co/yrjUM5qniK'>, <Tweet id=1250221275827470336 text='18. Exposing yourself to the sun or to temperatures higher than 25C degrees DOES NOT prevent the coronavirus disease (COVID-19) https://t.co/aOQKrrwaBv'>, <Tweet id=1250221402822545410 text='19. 5G mobile networks DO NOT spread COVID-19 https://t.co/VjqelBmpTn'>]\n",
      "[<Tweet id=1241047451483553792 text='Does the new coronavirus affect older people, or are younger people also susceptible? #Covid_19 #health https://t.co/Kg0Qb5oMs8'>, <Tweet id=1241047449348632577 text='Do vaccines against pneumonia protect you against the new coronavirus? #Covid_19 #Corona \\nhttps://t.co/p32DVhtTz8 https://t.co/wfUD9kymwP'>, <Tweet id=1241256462308933632 text='Are there any specific medicines to prevent or treat the new coronavirus? #Covid_19 #coronavirus https://t.co/U1J90AkZdm'>]\n",
      "[<Tweet id=1221830244895686658 text='@WHOPhilippines @WHO_Mongolia @takeshi_kasai @DOHgov @KKMPutrajaya @KoreaCDC @WHOKobe @AMRCRC_JAPAN @MHLWitter @jameschau @minhealthnz @MoHFW_INDIA @minhealthci @sporeMOH @loyingru @SonjaTanevska @DrRasul_WHO @WHO @healthgovau @fijiconsulate @Fiji_MOFA Q: Are antibiotics effective in preventing and treating the new #coronavirus (2019-nCoV)?\\nA: No, antibiotics do not work against viruses, only bacteria.\\nThe 2019-nC0V is a virus and, therefore, antibiotics should  not be used as a means of prevention or treatment. https://t.co/UAd9CFDHyq'>, <Tweet id=1221831180657614850 text='@WHOWPRO @WHOPhilippines @WHO_Mongolia @takeshi_kasai @DOHgov @KKMPutrajaya @KoreaCDC @WHOKobe @AMRCRC_JAPAN @MHLWitter @jameschau @minhealthnz @MoHFW_INDIA @minhealthci @sporeMOH @loyingru @SonjaTanevska @DrRasul_WHO @WHO @healthgovau @fijiconsulate @Fiji_MOFA Q: Chinese doctors said, we will use HIV drug to treat this virus firstly ! does this useful ? or just trial and error in Chinese treatment methodology ?\\nhttps://t.co/Qy43gnNFgi'>]\n",
      "[<Tweet id=489975398151618560 text='A memorial for #MH17 victims forms near the Netherlands embassy in Kiev: http://t.co/U83G4R5YIp (Roman Pilipey/EPA) http://t.co/3s7t2q4sv2'>, <Tweet id=489979794834984960 text='@msnbc RIP'>, <Tweet id=489976165600202752 text='@msnbc Putin thinks he was the target, and the Ukies shot down the wrong plane. #MSNBC @GEpublicaffairs @GE #GE $GE'>, <Tweet id=490010211047182336 text='@gs_stark Путин убыл её мозг?'>, <Tweet id=490120860376645633 text=\"@msnbc @texyellowdogdem U folks didn't deserve this level of tragedy.I'd like 2 offer my condolences to families of the victims\">, <Tweet id=490042537038462976 text='@msnbc really sad tragic loss'>]\n",
      "[{'resource_id': '489988651578040320', 'parameter': 'ids', 'resource_type': 'tweet', 'section': 'data', 'title': 'Authorization Error', 'value': '489988651578040320', 'detail': 'Sorry, you are not authorized to see the Tweet with ids: [489988651578040320].', 'type': 'https://api.twitter.com/2/problems/not-authorized-for-resource'}, {'value': '489975923195015168', 'detail': 'Could not find tweet with ids: [489975923195015168].', 'title': 'Not Found Error', 'resource_type': 'tweet', 'parameter': 'ids', 'resource_id': '489975923195015168', 'type': 'https://api.twitter.com/2/problems/resource-not-found'}]\n",
      "[<Tweet id=544289941996326912 text=\"Prime Minister Tony Abbott's statement on the #SydneySiege. Updates: http://t.co/EgWHAnjO35 http://t.co/AGhyN5Qkei\">, <Tweet id=544322700726906880 text='@australian Prime ministers should not have to comment on everything.'>, <Tweet id=544291376968790016 text='@australian @JRCarrollCJ'>, <Tweet id=544403327459790848 text=\"“@australian: Prime Minister Tony Abbott's statement on the #SydneySiege. Updates: http://t.co/JdOuBIWgOy http://t.co/7PNaXrDndK”\">]\n",
      "[{'resource_id': '544317955714994176', 'parameter': 'ids', 'resource_type': 'tweet', 'section': 'data', 'title': 'Authorization Error', 'value': '544317955714994176', 'detail': 'Sorry, you are not authorized to see the Tweet with ids: [544317955714994176].', 'type': 'https://api.twitter.com/2/problems/not-authorized-for-resource'}]\n"
     ]
    }
   ],
   "source": [
    "#first 10 events\n",
    "for event in events[:10]:\n",
    "\n",
    "    results = lookup_tweets(event, client)\n",
    "\n",
    "    for event in results:\n",
    "        if event:\n",
    "            print(event)"
   ]
  },
  {
   "cell_type": "code",
   "execution_count": null,
   "id": "40c14819",
   "metadata": {},
   "outputs": [],
   "source": []
  }
 ],
 "metadata": {
  "kernelspec": {
   "display_name": "Python 3 (ipykernel)",
   "language": "python",
   "name": "python3"
  },
  "language_info": {
   "codemirror_mode": {
    "name": "ipython",
    "version": 3
   },
   "file_extension": ".py",
   "mimetype": "text/x-python",
   "name": "python",
   "nbconvert_exporter": "python",
   "pygments_lexer": "ipython3",
   "version": "3.7.11"
  }
 },
 "nbformat": 4,
 "nbformat_minor": 5
}
