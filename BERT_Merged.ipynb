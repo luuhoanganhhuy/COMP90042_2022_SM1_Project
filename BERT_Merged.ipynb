{
  "cells": [
    {
      "cell_type": "markdown",
      "id": "0ac4033c",
      "metadata": {
        "id": "0ac4033c"
      },
      "source": [
        "# Preprocessing"
      ]
    },
    {
      "cell_type": "code",
      "execution_count": 1,
      "id": "9a35d77f",
      "metadata": {
        "id": "9a35d77f"
      },
      "outputs": [],
      "source": [
        "import tweepy\n",
        "import configparser\n",
        "import pandas as pd\n",
        "import numpy as np\n",
        "import re\n",
        "import pickle\n",
        "import nltk\n",
        "import string\n",
        "import collections\n",
        "from sklearn.metrics import accuracy_score\n",
        "from sklearn.feature_extraction import DictVectorizer\n",
        "from sklearn.preprocessing import LabelEncoder"
      ]
    },
    {
      "cell_type": "code",
      "execution_count": null,
      "id": "27f974c5",
      "metadata": {
        "id": "27f974c5"
      },
      "outputs": [],
      "source": [
        "# read data \n",
        "train_data_file = open('project-data/train.data.txt', 'r')\n",
        "train_lines = train_data_file.readlines()\n",
        "train_events =[]\n",
        "# Strips the newline character\n",
        "for line in train_lines:\n",
        "    train_events.append(list(map(int,line.strip('\\n').split(','))))\n",
        "    \n",
        "train_label_file = open('project-data/train.label.txt', 'r') \n",
        "train_labels = train_label_file.readlines()\n",
        "train_labels = [label.strip('\\n') for label in train_labels]\n",
        "\n",
        "\n",
        "dev_data_file = open('project-data/dev.data.txt', 'r')\n",
        "dev_lines = dev_data_file.readlines()\n",
        "dev_events =[]\n",
        "# Strips the newline character\n",
        "for line in dev_lines:\n",
        "    dev_events.append(list(map(int,line.strip('\\n').split(','))))\n",
        "    \n",
        "dev_label_file = open('project-data/dev.label.txt', 'r')\n",
        "dev_labels = dev_label_file.readlines()\n",
        "dev_labels = [label.strip('\\n') for label in dev_labels]"
      ]
    },
    {
      "cell_type": "code",
      "execution_count": null,
      "id": "ce426aaf",
      "metadata": {
        "id": "ce426aaf"
      },
      "outputs": [],
      "source": [
        "# open train text file\n",
        "f = open(f'./tweet_text.pckl','rb')\n",
        "train_data = pickle.load(f)\n",
        "f.close()\n",
        "\n",
        "\n",
        "# open dev text file\n",
        "f = open(f'./dev_tweet_text.pckl','rb')\n",
        "dev_data = pickle.load(f)\n",
        "f.close()"
      ]
    },
    {
      "cell_type": "code",
      "execution_count": null,
      "id": "45f8d602",
      "metadata": {
        "id": "45f8d602"
      },
      "outputs": [],
      "source": [
        "def clean_text(text):\n",
        "    text = re.sub(r'@[A-Za-z0-9]+','',text) #remove @mention\n",
        "    text = re.sub(r'#','',text) # remove the hashtag symbol\n",
        "    text = re.sub(r'https?:\\/\\/\\S+', '',text) #remove hyperlink\n",
        "    text = re.sub(r'\\n','',text) # remove \\n \n",
        "    text = re.sub(r'\\r','',text) # remove \\r\n",
        "    text = re.sub(r'\\\\W+', ' ', text) #remove special characters\\n\",\n",
        "    return text\n",
        "\n",
        "for i in range(len(train_data)):\n",
        "    for j in range(len(train_data[i])):\n",
        "        train_data[i][j] = clean_text(train_data[i][j]).lower()\n",
        "        \n",
        "for i in range(len(dev_data)):\n",
        "    for j in range(len(dev_data[i])):\n",
        "        dev_data[i][j] = clean_text(dev_data[i][j]).lower()"
      ]
    },
    {
      "cell_type": "code",
      "execution_count": null,
      "id": "d4759ce7",
      "metadata": {
        "id": "d4759ce7"
      },
      "outputs": [],
      "source": [
        "# merge source tweeet and reply tweet together for train data\n",
        "train_merge_events=[]\n",
        "for event in train_data:\n",
        "    merge = ''\n",
        "    for tweet in event:\n",
        "        merge = merge + tweet\n",
        "    train_merge_events.append(merge)\n",
        "    \n",
        "    \n",
        "# merge source tweeet and reply tweet together for dev data\n",
        "dev_merge_events=[]\n",
        "for event in dev_data:\n",
        "    merge = ''\n",
        "    for tweet in event:\n",
        "        merge = merge + tweet\n",
        "    dev_merge_events.append(merge)"
      ]
    },
    {
      "cell_type": "code",
      "execution_count": null,
      "id": "2359a260",
      "metadata": {
        "id": "2359a260",
        "outputId": "b7fd0458-b556-4da0-b2a5-ce46b3b67e48"
      },
      "outputs": [
        {
          "data": {
            "text/html": [
              "<div>\n",
              "<style scoped>\n",
              "    .dataframe tbody tr th:only-of-type {\n",
              "        vertical-align: middle;\n",
              "    }\n",
              "\n",
              "    .dataframe tbody tr th {\n",
              "        vertical-align: top;\n",
              "    }\n",
              "\n",
              "    .dataframe thead th {\n",
              "        text-align: right;\n",
              "    }\n",
              "</style>\n",
              "<table border=\"1\" class=\"dataframe\">\n",
              "  <thead>\n",
              "    <tr style=\"text-align: right;\">\n",
              "      <th></th>\n",
              "      <th>text</th>\n",
              "      <th>label</th>\n",
              "    </tr>\n",
              "  </thead>\n",
              "  <tbody>\n",
              "    <tr>\n",
              "      <th>0</th>\n",
              "      <td>5. can regularly rinsing your nose with saline...</td>\n",
              "      <td>0</td>\n",
              "    </tr>\n",
              "    <tr>\n",
              "      <th>1</th>\n",
              "      <td>french police chief killed himself after charl...</td>\n",
              "      <td>1</td>\n",
              "    </tr>\n",
              "    <tr>\n",
              "      <th>2</th>\n",
              "      <td>coronavirus disease (covid-19) advice for the ...</td>\n",
              "      <td>0</td>\n",
              "    </tr>\n",
              "    <tr>\n",
              "      <th>3</th>\n",
              "      <td>ottawa police confirm that there were multiple...</td>\n",
              "      <td>0</td>\n",
              "    </tr>\n",
              "    <tr>\n",
              "      <th>4</th>\n",
              "      <td>if the primary focus of a government isn't to ...</td>\n",
              "      <td>0</td>\n",
              "    </tr>\n",
              "  </tbody>\n",
              "</table>\n",
              "</div>"
            ],
            "text/plain": [
              "                                                text  label\n",
              "0  5. can regularly rinsing your nose with saline...      0\n",
              "1  french police chief killed himself after charl...      1\n",
              "2  coronavirus disease (covid-19) advice for the ...      0\n",
              "3  ottawa police confirm that there were multiple...      0\n",
              "4  if the primary focus of a government isn't to ...      0"
            ]
          },
          "execution_count": 32,
          "metadata": {},
          "output_type": "execute_result"
        }
      ],
      "source": [
        "train_df = pd.DataFrame({'text':train_merge_events, 'label':train_labels})\n",
        "train_df['label'] = LabelEncoder().fit_transform(train_df['label'])\n",
        "train_df.head()"
      ]
    },
    {
      "cell_type": "code",
      "execution_count": null,
      "id": "f9647912",
      "metadata": {
        "id": "f9647912"
      },
      "outputs": [],
      "source": [
        "nan_value = float(\"NaN\")\n",
        "\n",
        "train_df.replace(\"\", nan_value, inplace=True)\n",
        "\n",
        "train_df.dropna(axis=0 ,inplace=True)"
      ]
    },
    {
      "cell_type": "code",
      "execution_count": null,
      "id": "3b5ca215",
      "metadata": {
        "id": "3b5ca215"
      },
      "outputs": [],
      "source": [
        "train_df.to_csv('train_bert_merge.tsv', sep='\\t',index=False)"
      ]
    },
    {
      "cell_type": "code",
      "execution_count": null,
      "id": "81a5d626",
      "metadata": {
        "id": "81a5d626",
        "outputId": "e92628b8-a5c8-4bf7-f9c4-befc573a010a"
      },
      "outputs": [
        {
          "data": {
            "text/html": [
              "<div>\n",
              "<style scoped>\n",
              "    .dataframe tbody tr th:only-of-type {\n",
              "        vertical-align: middle;\n",
              "    }\n",
              "\n",
              "    .dataframe tbody tr th {\n",
              "        vertical-align: top;\n",
              "    }\n",
              "\n",
              "    .dataframe thead th {\n",
              "        text-align: right;\n",
              "    }\n",
              "</style>\n",
              "<table border=\"1\" class=\"dataframe\">\n",
              "  <thead>\n",
              "    <tr style=\"text-align: right;\">\n",
              "      <th></th>\n",
              "      <th>text</th>\n",
              "      <th>label</th>\n",
              "    </tr>\n",
              "  </thead>\n",
              "  <tbody>\n",
              "    <tr>\n",
              "      <th>0</th>\n",
              "      <td>covid-19 fact:are hand dryers effective in kil...</td>\n",
              "      <td>0</td>\n",
              "    </tr>\n",
              "    <tr>\n",
              "      <th>1</th>\n",
              "      <td>when can we expect the result of my husband's...</td>\n",
              "      <td>0</td>\n",
              "    </tr>\n",
              "    <tr>\n",
              "      <th>2</th>\n",
              "      <td>how does covid-19 spread? people can catch cov...</td>\n",
              "      <td>0</td>\n",
              "    </tr>\n",
              "    <tr>\n",
              "      <th>3</th>\n",
              "      <td>every news outlet using headlines like,\"are an...</td>\n",
              "      <td>0</td>\n",
              "    </tr>\n",
              "    <tr>\n",
              "      <th>4</th>\n",
              "      <td>researcher  on his encounter with a goliath bi...</td>\n",
              "      <td>0</td>\n",
              "    </tr>\n",
              "  </tbody>\n",
              "</table>\n",
              "</div>"
            ],
            "text/plain": [
              "                                                text  label\n",
              "0  covid-19 fact:are hand dryers effective in kil...      0\n",
              "1   when can we expect the result of my husband's...      0\n",
              "2  how does covid-19 spread? people can catch cov...      0\n",
              "3  every news outlet using headlines like,\"are an...      0\n",
              "4  researcher  on his encounter with a goliath bi...      0"
            ]
          },
          "execution_count": 38,
          "metadata": {},
          "output_type": "execute_result"
        }
      ],
      "source": [
        "dev_df = pd.DataFrame({'text':dev_merge_events, 'label':dev_labels})\n",
        "dev_df['label'] = LabelEncoder().fit_transform(dev_df['label'])\n",
        "dev_df.head()"
      ]
    },
    {
      "cell_type": "code",
      "execution_count": null,
      "id": "4f701f0c",
      "metadata": {
        "id": "4f701f0c"
      },
      "outputs": [],
      "source": [
        "nan_value = float(\"NaN\")\n",
        "\n",
        "dev_df.replace(\"\", nan_value, inplace=True)\n",
        "\n",
        "dev_df.dropna(axis=0 ,inplace=True)"
      ]
    },
    {
      "cell_type": "code",
      "execution_count": null,
      "id": "db370d89",
      "metadata": {
        "id": "db370d89"
      },
      "outputs": [],
      "source": [
        "dev_df.to_csv('dev_bert_merge.tsv', sep='\\t',index=False)"
      ]
    },
    {
      "cell_type": "markdown",
      "id": "820b5163",
      "metadata": {
        "id": "820b5163"
      },
      "source": [
        "# Train\n",
        "Google colab"
      ]
    },
    {
      "cell_type": "code",
      "execution_count": 1,
      "id": "9cfbac9a",
      "metadata": {
        "colab": {
          "base_uri": "https://localhost:8080/"
        },
        "id": "9cfbac9a",
        "outputId": "45706f8e-d41d-4cc6-f4bb-641ebf0d9bbb"
      },
      "outputs": [
        {
          "output_type": "stream",
          "name": "stdout",
          "text": [
            "Requirement already satisfied: torch in /usr/local/lib/python3.7/dist-packages (1.11.0+cu113)\n",
            "Requirement already satisfied: torchvision in /usr/local/lib/python3.7/dist-packages (0.12.0+cu113)\n",
            "Collecting transformers\n",
            "  Downloading transformers-4.18.0-py3-none-any.whl (4.0 MB)\n",
            "\u001b[K     |████████████████████████████████| 4.0 MB 8.4 MB/s \n",
            "\u001b[?25hRequirement already satisfied: typing-extensions in /usr/local/lib/python3.7/dist-packages (from torch) (4.2.0)\n",
            "Requirement already satisfied: pillow!=8.3.*,>=5.3.0 in /usr/local/lib/python3.7/dist-packages (from torchvision) (7.1.2)\n",
            "Requirement already satisfied: requests in /usr/local/lib/python3.7/dist-packages (from torchvision) (2.23.0)\n",
            "Requirement already satisfied: numpy in /usr/local/lib/python3.7/dist-packages (from torchvision) (1.21.6)\n",
            "Requirement already satisfied: tqdm>=4.27 in /usr/local/lib/python3.7/dist-packages (from transformers) (4.64.0)\n",
            "Collecting pyyaml>=5.1\n",
            "  Downloading PyYAML-6.0-cp37-cp37m-manylinux_2_5_x86_64.manylinux1_x86_64.manylinux_2_12_x86_64.manylinux2010_x86_64.whl (596 kB)\n",
            "\u001b[K     |████████████████████████████████| 596 kB 64.8 MB/s \n",
            "\u001b[?25hRequirement already satisfied: regex!=2019.12.17 in /usr/local/lib/python3.7/dist-packages (from transformers) (2019.12.20)\n",
            "Collecting tokenizers!=0.11.3,<0.13,>=0.11.1\n",
            "  Downloading tokenizers-0.12.1-cp37-cp37m-manylinux_2_12_x86_64.manylinux2010_x86_64.whl (6.6 MB)\n",
            "\u001b[K     |████████████████████████████████| 6.6 MB 60.1 MB/s \n",
            "\u001b[?25hRequirement already satisfied: importlib-metadata in /usr/local/lib/python3.7/dist-packages (from transformers) (4.11.3)\n",
            "Requirement already satisfied: packaging>=20.0 in /usr/local/lib/python3.7/dist-packages (from transformers) (21.3)\n",
            "Requirement already satisfied: filelock in /usr/local/lib/python3.7/dist-packages (from transformers) (3.6.0)\n",
            "Collecting sacremoses\n",
            "  Downloading sacremoses-0.0.53.tar.gz (880 kB)\n",
            "\u001b[K     |████████████████████████████████| 880 kB 62.5 MB/s \n",
            "\u001b[?25hCollecting huggingface-hub<1.0,>=0.1.0\n",
            "  Downloading huggingface_hub-0.5.1-py3-none-any.whl (77 kB)\n",
            "\u001b[K     |████████████████████████████████| 77 kB 8.5 MB/s \n",
            "\u001b[?25hRequirement already satisfied: pyparsing!=3.0.5,>=2.0.2 in /usr/local/lib/python3.7/dist-packages (from packaging>=20.0->transformers) (3.0.8)\n",
            "Requirement already satisfied: zipp>=0.5 in /usr/local/lib/python3.7/dist-packages (from importlib-metadata->transformers) (3.8.0)\n",
            "Requirement already satisfied: certifi>=2017.4.17 in /usr/local/lib/python3.7/dist-packages (from requests->torchvision) (2021.10.8)\n",
            "Requirement already satisfied: urllib3!=1.25.0,!=1.25.1,<1.26,>=1.21.1 in /usr/local/lib/python3.7/dist-packages (from requests->torchvision) (1.24.3)\n",
            "Requirement already satisfied: chardet<4,>=3.0.2 in /usr/local/lib/python3.7/dist-packages (from requests->torchvision) (3.0.4)\n",
            "Requirement already satisfied: idna<3,>=2.5 in /usr/local/lib/python3.7/dist-packages (from requests->torchvision) (2.10)\n",
            "Requirement already satisfied: six in /usr/local/lib/python3.7/dist-packages (from sacremoses->transformers) (1.15.0)\n",
            "Requirement already satisfied: click in /usr/local/lib/python3.7/dist-packages (from sacremoses->transformers) (7.1.2)\n",
            "Requirement already satisfied: joblib in /usr/local/lib/python3.7/dist-packages (from sacremoses->transformers) (1.1.0)\n",
            "Building wheels for collected packages: sacremoses\n",
            "  Building wheel for sacremoses (setup.py) ... \u001b[?25l\u001b[?25hdone\n",
            "  Created wheel for sacremoses: filename=sacremoses-0.0.53-py3-none-any.whl size=895260 sha256=2a41e0fb534a38aa758c8314a5ce4d9fad90ea3dcd95de65cd909ada0bd0602f\n",
            "  Stored in directory: /root/.cache/pip/wheels/87/39/dd/a83eeef36d0bf98e7a4d1933a4ad2d660295a40613079bafc9\n",
            "Successfully built sacremoses\n",
            "Installing collected packages: pyyaml, tokenizers, sacremoses, huggingface-hub, transformers\n",
            "  Attempting uninstall: pyyaml\n",
            "    Found existing installation: PyYAML 3.13\n",
            "    Uninstalling PyYAML-3.13:\n",
            "      Successfully uninstalled PyYAML-3.13\n",
            "Successfully installed huggingface-hub-0.5.1 pyyaml-6.0 sacremoses-0.0.53 tokenizers-0.12.1 transformers-4.18.0\n"
          ]
        }
      ],
      "source": [
        "!pip install torch torchvision transformers"
      ]
    },
    {
      "cell_type": "code",
      "execution_count": 2,
      "id": "dhHyWQDopcj4",
      "metadata": {
        "colab": {
          "base_uri": "https://localhost:8080/",
          "height": 170,
          "referenced_widgets": [
            "99ff15422a174d78aa6ae5434d513bd7",
            "f3ea36d4f277409b8b1319b4dba999c2",
            "5ce719690ed84668addbae42389411bc",
            "98d8ab8e0c924dc78565cd22c3ccefbf",
            "332776df5680412eb93db1533cd6068c",
            "6a6a0256cf464330a976b445b7469971",
            "5d5e438536134f6d8eaced9b042de218",
            "75bfc1db024841ce8f0c40f2dd05003f",
            "81f85d9085ea41cab2135c8475c89584",
            "e053bfd06e6c4fd18ed3ed324fbbfc18",
            "4987e24bd3824fa9933b75f6da6ae3cb",
            "7d8b9eb3488348a28e6068e7c4be7225",
            "6e854c70c8b540afb5a9bc18ed01b2b2",
            "9a67878aa3ad4d2ba32e3f894d448a02",
            "d21f4421e3f0400baea35b0de5ba2351",
            "a2d250af5b7049b682ce74966e213b90",
            "01651fa10dfb4b0c84a9f369c00c601a",
            "8d5c58fd6a3e4e8690c6155ca4f481aa",
            "317f4c0a1dc5442bb29ba94123b69fdc",
            "b9d5281570c64f97b373f3d59fcdb68a",
            "dfa87ac25f624edcb300645b10047647",
            "8de1d0bfa013430b951e3971ec4775dd"
          ]
        },
        "id": "dhHyWQDopcj4",
        "outputId": "0a6a3c58-e7ce-433d-e366-75988e80262a"
      },
      "outputs": [
        {
          "output_type": "display_data",
          "data": {
            "text/plain": [
              "Downloading:   0%|          | 0.00/570 [00:00<?, ?B/s]"
            ],
            "application/vnd.jupyter.widget-view+json": {
              "version_major": 2,
              "version_minor": 0,
              "model_id": "99ff15422a174d78aa6ae5434d513bd7"
            }
          },
          "metadata": {}
        },
        {
          "output_type": "display_data",
          "data": {
            "text/plain": [
              "Downloading:   0%|          | 0.00/420M [00:00<?, ?B/s]"
            ],
            "application/vnd.jupyter.widget-view+json": {
              "version_major": 2,
              "version_minor": 0,
              "model_id": "7d8b9eb3488348a28e6068e7c4be7225"
            }
          },
          "metadata": {}
        },
        {
          "output_type": "stream",
          "name": "stderr",
          "text": [
            "Some weights of the model checkpoint at bert-base-uncased were not used when initializing BertModel: ['cls.predictions.transform.dense.bias', 'cls.predictions.bias', 'cls.predictions.transform.LayerNorm.bias', 'cls.seq_relationship.weight', 'cls.seq_relationship.bias', 'cls.predictions.transform.dense.weight', 'cls.predictions.decoder.weight', 'cls.predictions.transform.LayerNorm.weight']\n",
            "- This IS expected if you are initializing BertModel from the checkpoint of a model trained on another task or with another architecture (e.g. initializing a BertForSequenceClassification model from a BertForPreTraining model).\n",
            "- This IS NOT expected if you are initializing BertModel from the checkpoint of a model that you expect to be exactly identical (initializing a BertForSequenceClassification model from a BertForSequenceClassification model).\n"
          ]
        },
        {
          "output_type": "stream",
          "name": "stdout",
          "text": [
            "Done loading BERT model.\n"
          ]
        }
      ],
      "source": [
        "from transformers import BertModel\n",
        "\n",
        "bert_model = BertModel.from_pretrained('bert-base-uncased')\n",
        "\n",
        "print(\"Done loading BERT model.\")"
      ]
    },
    {
      "cell_type": "code",
      "execution_count": 3,
      "id": "8k17okjUpskU",
      "metadata": {
        "colab": {
          "base_uri": "https://localhost:8080/",
          "height": 81,
          "referenced_widgets": [
            "2a48e06f1312414ea3d61acacbafdda0",
            "2b0334e1d55e45a7b7cd367f98aeb7c8",
            "a4e793631ccc43d2be06b7fe2cc77e15",
            "3c1d051a26ae403fa923da8e35218dc8",
            "65358503660749e29e39b41455c75854",
            "ef2ee33653d24cd2bdfb7b551d20815a",
            "d9e399a8b24b45e4998bf2983eb54839",
            "c9778d426b3143e3ba9f0a84e2d36610",
            "b7dbb7e85fc341329246b492a5eae33e",
            "fe5b0366ae0f4dc9b1c920636d53b3f4",
            "eebbf467e62c431b81c16bfd63e98d4d",
            "a0c3a8b0d8334dc188a838810e6466ec",
            "3a8b3c67573445d086c2d487e36c0894",
            "eb449725b5b5452ba5742843355ffd69",
            "505805e9d91b438d9512ac94845761df",
            "57d2908f3132438499cac4764062104b",
            "920203bda4804b458d9788d86b94b06a",
            "b2fe8090050a4172b028fc6b0c6caee9",
            "8eea7a4d33384cd3b8c2d1f4fd07d0b4",
            "6d6eb563ed90452d8179cd099a23d11a",
            "51badc6ad234452fa9ac0d4aa1b4cb19",
            "0773a55ecd3f4262bfe1897d17390aa2"
          ]
        },
        "id": "8k17okjUpskU",
        "outputId": "dd9ceb78-fd8d-45ad-f505-a9ddb3c82280"
      },
      "outputs": [
        {
          "output_type": "display_data",
          "data": {
            "text/plain": [
              "Downloading:   0%|          | 0.00/226k [00:00<?, ?B/s]"
            ],
            "application/vnd.jupyter.widget-view+json": {
              "version_major": 2,
              "version_minor": 0,
              "model_id": "2a48e06f1312414ea3d61acacbafdda0"
            }
          },
          "metadata": {}
        },
        {
          "output_type": "display_data",
          "data": {
            "text/plain": [
              "Downloading:   0%|          | 0.00/28.0 [00:00<?, ?B/s]"
            ],
            "application/vnd.jupyter.widget-view+json": {
              "version_major": 2,
              "version_minor": 0,
              "model_id": "a0c3a8b0d8334dc188a838810e6466ec"
            }
          },
          "metadata": {}
        }
      ],
      "source": [
        "from transformers import BertTokenizer\n",
        "\n",
        "#load BERT's WordPiece tokenisation model\n",
        "tokenizer = BertTokenizer.from_pretrained('bert-base-uncased')\n"
      ]
    },
    {
      "cell_type": "code",
      "execution_count": 4,
      "id": "7ykNY4Po0bER",
      "metadata": {
        "id": "7ykNY4Po0bER"
      },
      "outputs": [],
      "source": [
        "import torch\n",
        "from torch.utils.data import Dataset\n",
        "from transformers import BertTokenizer\n",
        "import pandas as pd\n",
        "\n",
        "class SSTDataset(Dataset):\n",
        "\n",
        "    def __init__(self, filename, maxlen):\n",
        "\n",
        "        #Store the contents of the file in a pandas dataframe\n",
        "        self.df = pd.read_csv(filename, delimiter = '\\t')\n",
        "\n",
        "        #Initialize the BERT tokenizer\n",
        "        self.tokenizer = BertTokenizer.from_pretrained('bert-base-uncased')\n",
        "\n",
        "        self.maxlen = maxlen\n",
        "\n",
        "    def __len__(self):\n",
        "        return len(self.df)\n",
        "\n",
        "    def __getitem__(self, index):\n",
        "\n",
        "        #Selecting the sentence and label at the specified index in the data frame\n",
        "        sentence = self.df.loc[index, 'text']\n",
        "        label = self.df.loc[index, 'label']\n",
        "\n",
        "        #Preprocessing the text to be suitable for BERT\n",
        "        tokens = self.tokenizer.tokenize(sentence) #Tokenize the sentence\n",
        "        tokens = ['[CLS]'] + tokens + ['[SEP]'] #Insering the CLS and SEP token in the beginning and end of the sentence\n",
        "        if len(tokens) < self.maxlen:\n",
        "            tokens = tokens + ['[PAD]' for _ in range(self.maxlen - len(tokens))] #Padding sentences\n",
        "        else:\n",
        "            tokens = tokens[:self.maxlen-1] + ['[SEP]'] #Prunning the list to be of specified max length\n",
        "\n",
        "        tokens_ids = self.tokenizer.convert_tokens_to_ids(tokens) #Obtaining the indices of the tokens in the BERT Vocabulary\n",
        "        tokens_ids_tensor = torch.tensor(tokens_ids) #Converting the list to a pytorch tensor\n",
        "\n",
        "        #Obtaining the attention mask i.e a tensor containing 1s for no padded tokens and 0s for padded ones\n",
        "        attn_mask = (tokens_ids_tensor != 0).long()\n",
        "\n",
        "        return tokens_ids_tensor, attn_mask, label"
      ]
    },
    {
      "cell_type": "code",
      "execution_count": 5,
      "id": "MRdMMxDW7U_i",
      "metadata": {
        "colab": {
          "base_uri": "https://localhost:8080/"
        },
        "id": "MRdMMxDW7U_i",
        "outputId": "fcd77aba-78ad-4ef3-b5e8-1d591a79c9d9"
      },
      "outputs": [
        {
          "output_type": "stream",
          "name": "stdout",
          "text": [
            "Done preprocessing training and development data.\n"
          ]
        }
      ],
      "source": [
        "from torch.utils.data import DataLoader\n",
        "\n",
        "#Creating instances of training and development set\n",
        "#maxlen sets the maximum length a sentence can have\n",
        "#any sentence longer than this length is truncated to the maxlen size\n",
        "train_set = SSTDataset(filename = 'train_bert_merge.tsv', maxlen = 512)\n",
        "dev_set = SSTDataset(filename = 'dev_bert_merge.tsv', maxlen = 512)\n",
        "\n",
        "#Creating intsances of training and development dataloaders\n",
        "train_loader = DataLoader(train_set,batch_size = 8, num_workers = 0)\n",
        "dev_loader = DataLoader(dev_set, batch_size = 8, num_workers = 0)\n",
        "\n",
        "print(\"Done preprocessing training and development data.\")"
      ]
    },
    {
      "cell_type": "code",
      "execution_count": 6,
      "id": "RSrj5mXU7yhz",
      "metadata": {
        "id": "RSrj5mXU7yhz"
      },
      "outputs": [],
      "source": [
        "import torch\n",
        "import torch.nn as nn\n",
        "from transformers import BertModel\n",
        "\n",
        "class SentimentClassifier(nn.Module):\n",
        "\n",
        "    def __init__(self):\n",
        "        super(SentimentClassifier, self).__init__()\n",
        "        #Instantiating BERT model object \n",
        "        self.bert_layer = BertModel.from_pretrained('bert-base-uncased')\n",
        "        \n",
        "        #Classification layer\n",
        "        #input dimension is 768 because [CLS] embedding has a dimension of 768\n",
        "        #output dimension is 1 because we're working with a binary classification problem\n",
        "        self.cls_layer = nn.Linear(768, 1)\n",
        "\n",
        "    def forward(self, seq, attn_masks):\n",
        "        '''\n",
        "        Inputs:\n",
        "            -seq : Tensor of shape [B, T] containing token ids of sequences\n",
        "            -attn_masks : Tensor of shape [B, T] containing attention masks to be used to avoid contibution of PAD tokens\n",
        "        '''\n",
        "\n",
        "        #Feeding the input to BERT model to obtain contextualized representations\n",
        "        outputs = self.bert_layer(seq, attention_mask = attn_masks, return_dict=True)\n",
        "        cont_reps = outputs.last_hidden_state\n",
        "\n",
        "        #Obtaining the representation of [CLS] head (the first token)\n",
        "        cls_rep = cont_reps[:, 0]\n",
        "\n",
        "        #Feeding cls_rep to the classifier layer\n",
        "        logits = self.cls_layer(cls_rep)\n",
        "\n",
        "        return logits"
      ]
    },
    {
      "cell_type": "code",
      "execution_count": 7,
      "id": "vZ76-l0A77Bo",
      "metadata": {
        "colab": {
          "base_uri": "https://localhost:8080/"
        },
        "id": "vZ76-l0A77Bo",
        "outputId": "3aa885a2-87e7-442e-b540-dce121e557f2"
      },
      "outputs": [
        {
          "output_type": "stream",
          "name": "stdout",
          "text": [
            "Creating the sentiment classifier, initialised with pretrained BERT-BASE parameters...\n"
          ]
        },
        {
          "output_type": "stream",
          "name": "stderr",
          "text": [
            "Some weights of the model checkpoint at bert-base-uncased were not used when initializing BertModel: ['cls.predictions.transform.dense.bias', 'cls.predictions.bias', 'cls.predictions.transform.LayerNorm.bias', 'cls.seq_relationship.weight', 'cls.seq_relationship.bias', 'cls.predictions.transform.dense.weight', 'cls.predictions.decoder.weight', 'cls.predictions.transform.LayerNorm.weight']\n",
            "- This IS expected if you are initializing BertModel from the checkpoint of a model trained on another task or with another architecture (e.g. initializing a BertForSequenceClassification model from a BertForPreTraining model).\n",
            "- This IS NOT expected if you are initializing BertModel from the checkpoint of a model that you expect to be exactly identical (initializing a BertForSequenceClassification model from a BertForSequenceClassification model).\n"
          ]
        },
        {
          "output_type": "stream",
          "name": "stdout",
          "text": [
            "Done creating the sentiment classifier.\n"
          ]
        }
      ],
      "source": [
        "gpu = 0 #gpu ID\n",
        "\n",
        "print(\"Creating the sentiment classifier, initialised with pretrained BERT-BASE parameters...\")\n",
        "net = SentimentClassifier()\n",
        "net.cuda(gpu) #Enable gpu support for the model\n",
        "print(\"Done creating the sentiment classifier.\")"
      ]
    },
    {
      "cell_type": "code",
      "execution_count": 8,
      "id": "qNNd83vr8LAL",
      "metadata": {
        "id": "qNNd83vr8LAL"
      },
      "outputs": [],
      "source": [
        "import torch.nn as nn\n",
        "import torch.optim as optim\n",
        "\n",
        "criterion = nn.BCEWithLogitsLoss()\n",
        "opti = optim.Adam(net.parameters(), lr = 2e-5)"
      ]
    },
    {
      "cell_type": "code",
      "execution_count": 9,
      "id": "c8occKO88EcH",
      "metadata": {
        "id": "c8occKO88EcH"
      },
      "outputs": [],
      "source": [
        "def get_accuracy_from_logits(logits, labels):\n",
        "    probs = torch.sigmoid(logits.unsqueeze(-1))\n",
        "    soft_probs = (probs > 0.5).long()\n",
        "    acc = (soft_probs.squeeze() == labels).float().mean()\n",
        "    return acc\n",
        "\n",
        "def evaluate(net, criterion, dataloader, gpu):\n",
        "    net.eval()\n",
        "\n",
        "    mean_acc, mean_loss = 0, 0\n",
        "    count = 0\n",
        "\n",
        "    with torch.no_grad():\n",
        "        for seq, attn_masks, labels in dataloader:\n",
        "            seq, attn_masks, labels = seq.cuda(gpu), attn_masks.cuda(gpu), labels.cuda(gpu)\n",
        "            logits = net(seq, attn_masks)\n",
        "            mean_loss += criterion(logits.squeeze(-1), labels.float()).item()\n",
        "            mean_acc += get_accuracy_from_logits(logits, labels)\n",
        "            count += 1\n",
        "\n",
        "    return mean_acc / count, mean_loss / count"
      ]
    },
    {
      "cell_type": "code",
      "execution_count": 10,
      "id": "z2QV4Pxz8Jz7",
      "metadata": {
        "id": "z2QV4Pxz8Jz7"
      },
      "outputs": [],
      "source": [
        "import time\n",
        "\n",
        "def train(net, criterion, opti, train_loader, dev_loader, max_eps, gpu):\n",
        "\n",
        "    best_acc = 0\n",
        "    st = time.time()\n",
        "    for ep in range(max_eps):\n",
        "        \n",
        "        net.train()\n",
        "        for it, (seq, attn_masks, labels) in enumerate(train_loader):\n",
        "            #Clear gradients\n",
        "            opti.zero_grad()  \n",
        "            #Converting these to cuda tensors\n",
        "            seq, attn_masks, labels = seq.cuda(gpu), attn_masks.cuda(gpu), labels.cuda(gpu)\n",
        "\n",
        "            #Obtaining the logits from the model\n",
        "            logits = net(seq, attn_masks)\n",
        "\n",
        "            #Computing loss\n",
        "            loss = criterion(logits.squeeze(-1), labels.float())\n",
        "\n",
        "            #Backpropagating the gradients\n",
        "            loss.backward()\n",
        "\n",
        "            #Optimization step\n",
        "            opti.step()\n",
        "              \n",
        "            if it % 100 == 0:\n",
        "                \n",
        "                acc = get_accuracy_from_logits(logits, labels)\n",
        "                print(\"Iteration {} of epoch {} complete. Loss: {}; Accuracy: {}; Time taken (s): {}\".format(it, ep, loss.item(), acc, (time.time()-st)))\n",
        "                st = time.time()\n",
        "\n",
        "        \n",
        "        dev_acc, dev_loss = evaluate(net, criterion, dev_loader, gpu)\n",
        "        print(\"Epoch {} complete! Development Accuracy: {}; Development Loss: {}\".format(ep, dev_acc, dev_loss))\n",
        "        if dev_acc > best_acc:\n",
        "            print(\"Best development accuracy improved from {} to {}, saving model...\".format(best_acc, dev_acc))\n",
        "            best_acc = dev_acc\n",
        "            torch.save(net.state_dict(), 'sstcls_{}.dat'.format(ep))"
      ]
    },
    {
      "cell_type": "code",
      "execution_count": 23,
      "id": "OcEZotJw8Smo",
      "metadata": {
        "colab": {
          "base_uri": "https://localhost:8080/"
        },
        "id": "OcEZotJw8Smo",
        "outputId": "7d7eb350-5e69-465a-970c-c89fbd97d121"
      },
      "outputs": [
        {
          "output_type": "stream",
          "name": "stdout",
          "text": [
            "Iteration 0 of epoch 0 complete. Loss: 0.006124728824943304; Accuracy: 1.0; Time taken (s): 0.8574261665344238\n",
            "Iteration 100 of epoch 0 complete. Loss: 0.0020602955482900143; Accuracy: 1.0; Time taken (s): 82.38068890571594\n",
            "Iteration 200 of epoch 0 complete. Loss: 0.033232323825359344; Accuracy: 1.0; Time taken (s): 81.65020442008972\n",
            "Epoch 0 complete! Development Accuracy: 0.9300000071525574; Development Loss: 0.22839412707990656\n",
            "Best development accuracy improved from 0 to 0.9300000071525574, saving model...\n",
            "Iteration 0 of epoch 1 complete. Loss: 0.5264098048210144; Accuracy: 0.875; Time taken (s): 46.346824645996094\n",
            "Iteration 100 of epoch 1 complete. Loss: 0.001683371956460178; Accuracy: 1.0; Time taken (s): 81.98279809951782\n",
            "Iteration 200 of epoch 1 complete. Loss: 0.0013094067107886076; Accuracy: 1.0; Time taken (s): 81.31271600723267\n",
            "Epoch 1 complete! Development Accuracy: 0.9116666913032532; Development Loss: 0.3692320390183401\n",
            "Iteration 0 of epoch 2 complete. Loss: 0.002675501396879554; Accuracy: 1.0; Time taken (s): 45.017237424850464\n",
            "Iteration 100 of epoch 2 complete. Loss: 0.0006735580391250551; Accuracy: 1.0; Time taken (s): 82.16345882415771\n",
            "Iteration 200 of epoch 2 complete. Loss: 0.0029710137750953436; Accuracy: 1.0; Time taken (s): 81.24981212615967\n",
            "Epoch 2 complete! Development Accuracy: 0.9466667175292969; Development Loss: 0.21455739566202586\n",
            "Best development accuracy improved from 0.9300000071525574 to 0.9466667175292969, saving model...\n",
            "Iteration 0 of epoch 3 complete. Loss: 0.0009107282967306674; Accuracy: 1.0; Time taken (s): 46.24796748161316\n",
            "Iteration 100 of epoch 3 complete. Loss: 0.0053085461258888245; Accuracy: 1.0; Time taken (s): 82.04167985916138\n",
            "Iteration 200 of epoch 3 complete. Loss: 0.0025956807658076286; Accuracy: 1.0; Time taken (s): 81.23300266265869\n",
            "Epoch 3 complete! Development Accuracy: 0.9516667127609253; Development Loss: 0.18743288095186775\n",
            "Best development accuracy improved from 0.9466667175292969 to 0.9516667127609253, saving model...\n",
            "Iteration 0 of epoch 4 complete. Loss: 0.0005616946145892143; Accuracy: 1.0; Time taken (s): 46.06038284301758\n",
            "Iteration 100 of epoch 4 complete. Loss: 0.0006602153880521655; Accuracy: 1.0; Time taken (s): 81.97863554954529\n",
            "Iteration 200 of epoch 4 complete. Loss: 0.0006192042492330074; Accuracy: 1.0; Time taken (s): 81.26055359840393\n",
            "Epoch 4 complete! Development Accuracy: 0.9550000429153442; Development Loss: 0.21544588593339237\n",
            "Best development accuracy improved from 0.9516667127609253 to 0.9550000429153442, saving model...\n",
            "Iteration 0 of epoch 5 complete. Loss: 0.0003147255047224462; Accuracy: 1.0; Time taken (s): 46.457504749298096\n",
            "Iteration 100 of epoch 5 complete. Loss: 0.00028730451595038176; Accuracy: 1.0; Time taken (s): 81.73416113853455\n",
            "Iteration 200 of epoch 5 complete. Loss: 0.0005094847874715924; Accuracy: 1.0; Time taken (s): 81.34494972229004\n",
            "Epoch 5 complete! Development Accuracy: 0.9533333778381348; Development Loss: 0.22717678486418055\n",
            "Iteration 0 of epoch 6 complete. Loss: 0.00019690298358909786; Accuracy: 1.0; Time taken (s): 44.900763750076294\n",
            "Iteration 100 of epoch 6 complete. Loss: 0.0003073406405746937; Accuracy: 1.0; Time taken (s): 82.00613832473755\n",
            "Iteration 200 of epoch 6 complete. Loss: 0.0003865628968924284; Accuracy: 1.0; Time taken (s): 81.49886679649353\n",
            "Epoch 6 complete! Development Accuracy: 0.9533333778381348; Development Loss: 0.23562972381002814\n",
            "Iteration 0 of epoch 7 complete. Loss: 0.00020867655985057354; Accuracy: 1.0; Time taken (s): 44.85226273536682\n",
            "Iteration 100 of epoch 7 complete. Loss: 0.0002091221685986966; Accuracy: 1.0; Time taken (s): 81.93701696395874\n",
            "Iteration 200 of epoch 7 complete. Loss: 0.0003402806760277599; Accuracy: 1.0; Time taken (s): 81.34301114082336\n",
            "Epoch 7 complete! Development Accuracy: 0.9533333778381348; Development Loss: 0.24307909431867303\n",
            "Iteration 0 of epoch 8 complete. Loss: 0.000184253032784909; Accuracy: 1.0; Time taken (s): 45.03531527519226\n",
            "Iteration 100 of epoch 8 complete. Loss: 0.000189797836355865; Accuracy: 1.0; Time taken (s): 81.99681544303894\n",
            "Iteration 200 of epoch 8 complete. Loss: 0.0003171329153701663; Accuracy: 1.0; Time taken (s): 81.43053722381592\n",
            "Epoch 8 complete! Development Accuracy: 0.9533333778381348; Development Loss: 0.25001150771897906\n",
            "Iteration 0 of epoch 9 complete. Loss: 0.00014729442773386836; Accuracy: 1.0; Time taken (s): 44.8830988407135\n",
            "Iteration 100 of epoch 9 complete. Loss: 0.9549562931060791; Accuracy: 0.875; Time taken (s): 81.88214635848999\n",
            "Iteration 200 of epoch 9 complete. Loss: 0.001731201191432774; Accuracy: 1.0; Time taken (s): 81.52582359313965\n",
            "Epoch 9 complete! Development Accuracy: 0.9366666674613953; Development Loss: 0.2785096987323292\n",
            "Iteration 0 of epoch 10 complete. Loss: 0.0013789612567052245; Accuracy: 1.0; Time taken (s): 45.09610891342163\n",
            "Iteration 100 of epoch 10 complete. Loss: 0.0003920583694707602; Accuracy: 1.0; Time taken (s): 81.9920403957367\n",
            "Iteration 200 of epoch 10 complete. Loss: 0.0006297845393419266; Accuracy: 1.0; Time taken (s): 81.4962112903595\n",
            "Epoch 10 complete! Development Accuracy: 0.9383333325386047; Development Loss: 0.30085877219777707\n",
            "Iteration 0 of epoch 11 complete. Loss: 0.00037234925548546016; Accuracy: 1.0; Time taken (s): 44.93949007987976\n",
            "Iteration 100 of epoch 11 complete. Loss: 0.0002392371534369886; Accuracy: 1.0; Time taken (s): 81.75377535820007\n",
            "Iteration 200 of epoch 11 complete. Loss: 0.0008344318484887481; Accuracy: 1.0; Time taken (s): 81.24680304527283\n",
            "Epoch 11 complete! Development Accuracy: 0.9383333325386047; Development Loss: 0.2772250220105828\n",
            "Iteration 0 of epoch 12 complete. Loss: 0.00292198802344501; Accuracy: 1.0; Time taken (s): 45.00318765640259\n",
            "Iteration 100 of epoch 12 complete. Loss: 0.0003926546487491578; Accuracy: 1.0; Time taken (s): 82.17764449119568\n",
            "Iteration 200 of epoch 12 complete. Loss: 0.0007779672741889954; Accuracy: 1.0; Time taken (s): 81.45420098304749\n",
            "Epoch 12 complete! Development Accuracy: 0.9533333778381348; Development Loss: 0.23203450905993425\n",
            "Iteration 0 of epoch 13 complete. Loss: 0.0004872612771578133; Accuracy: 1.0; Time taken (s): 45.00091052055359\n",
            "Iteration 100 of epoch 13 complete. Loss: 0.00019664203864522278; Accuracy: 1.0; Time taken (s): 81.9985899925232\n",
            "Iteration 200 of epoch 13 complete. Loss: 0.00026001117657870054; Accuracy: 1.0; Time taken (s): 81.2293348312378\n",
            "Epoch 13 complete! Development Accuracy: 0.9583333730697632; Development Loss: 0.23535775030206424\n",
            "Best development accuracy improved from 0.9550000429153442 to 0.9583333730697632, saving model...\n",
            "Iteration 0 of epoch 14 complete. Loss: 0.0002553707454353571; Accuracy: 1.0; Time taken (s): 46.3174409866333\n",
            "Iteration 100 of epoch 14 complete. Loss: 0.00015716187772341073; Accuracy: 1.0; Time taken (s): 82.22084975242615\n",
            "Iteration 200 of epoch 14 complete. Loss: 0.0003230836009606719; Accuracy: 1.0; Time taken (s): 81.50350069999695\n",
            "Epoch 14 complete! Development Accuracy: 0.9616667032241821; Development Loss: 0.24132082209185077\n",
            "Best development accuracy improved from 0.9583333730697632 to 0.9616667032241821, saving model...\n",
            "Iteration 0 of epoch 15 complete. Loss: 0.00016329233767464757; Accuracy: 1.0; Time taken (s): 46.28920006752014\n",
            "Iteration 100 of epoch 15 complete. Loss: 0.00014434913464356214; Accuracy: 1.0; Time taken (s): 82.08098435401917\n",
            "Iteration 200 of epoch 15 complete. Loss: 0.00018643535440787673; Accuracy: 1.0; Time taken (s): 81.60952115058899\n",
            "Epoch 15 complete! Development Accuracy: 0.9616667032241821; Development Loss: 0.24984371496762225\n"
          ]
        }
      ],
      "source": [
        "num_epoch = 16\n",
        "\n",
        "#fine-tune the model\n",
        "train(net, criterion, opti, train_loader, dev_loader, num_epoch, gpu)"
      ]
    },
    {
      "cell_type": "markdown",
      "id": "0d8d521f",
      "metadata": {
        "id": "0d8d521f"
      },
      "source": [
        "# Test\n"
      ]
    },
    {
      "cell_type": "code",
      "execution_count": null,
      "id": "6772f10d",
      "metadata": {
        "id": "6772f10d"
      },
      "outputs": [],
      "source": [
        "f = open(f'./test_tweet_text.pckl','rb')\n",
        "test_data = pickle.load(f)\n",
        "f.close()"
      ]
    },
    {
      "cell_type": "code",
      "execution_count": null,
      "id": "ad480c5e",
      "metadata": {
        "id": "ad480c5e"
      },
      "outputs": [],
      "source": [
        "for i in range(len(test_data)):\n",
        "    for j in range(len(test_data[i])):\n",
        "        test_data[i][j] = clean_text(test_data[i][j]).lower()"
      ]
    },
    {
      "cell_type": "code",
      "execution_count": null,
      "id": "93d7ce1f",
      "metadata": {
        "id": "93d7ce1f"
      },
      "outputs": [],
      "source": [
        "test_merge_events=[]\n",
        "for event in test_data:\n",
        "    merge = ''\n",
        "    for tweet in event:\n",
        "        merge = merge + tweet\n",
        "    test_merge_events.append(merge)"
      ]
    },
    {
      "cell_type": "code",
      "execution_count": null,
      "id": "19f705c8",
      "metadata": {
        "id": "19f705c8",
        "outputId": "40e8ed8f-f20d-47c5-ec62-3e223543eb8a"
      },
      "outputs": [
        {
          "data": {
            "text/plain": [
              "(558, 1)"
            ]
          },
          "execution_count": 50,
          "metadata": {},
          "output_type": "execute_result"
        }
      ],
      "source": [
        "test_df = pd.DataFrame({'text':test_merge_events})"
      ]
    },
    {
      "cell_type": "code",
      "execution_count": null,
      "id": "1dc054c8",
      "metadata": {
        "id": "1dc054c8"
      },
      "outputs": [],
      "source": [
        "nan_value = float(\"NaN\")\n",
        "\n",
        "test_df.replace(\"\", nan_value, inplace=True)\n",
        "\n",
        "test_df.dropna(axis=0 ,inplace=True)"
      ]
    },
    {
      "cell_type": "code",
      "execution_count": null,
      "id": "5f2524f6",
      "metadata": {
        "id": "5f2524f6"
      },
      "outputs": [],
      "source": [
        "test_df.to_csv('test_bert_merge.tsv', sep='\\t',index=False)"
      ]
    },
    {
      "cell_type": "code",
      "execution_count": 12,
      "id": "WavPjN3aBrgc",
      "metadata": {
        "id": "WavPjN3aBrgc"
      },
      "outputs": [],
      "source": [
        "import torch\n",
        "from torch.utils.data import Dataset\n",
        "from transformers import BertTokenizer\n",
        "import pandas as pd\n",
        "\n",
        "class TestDataset(Dataset):\n",
        "\n",
        "    def __init__(self, filename, maxlen):\n",
        "\n",
        "        #Store the contents of the file in a pandas dataframe\n",
        "        self.df = pd.read_csv(filename, delimiter = '\\t')\n",
        "\n",
        "        #Initialize the BERT tokenizer\n",
        "        self.tokenizer = BertTokenizer.from_pretrained('bert-base-uncased')\n",
        "\n",
        "        self.maxlen = maxlen\n",
        "\n",
        "    def __len__(self):\n",
        "        return len(self.df)\n",
        "\n",
        "    def __getitem__(self, index):\n",
        "\n",
        "        #Selecting the sentence and label at the specified index in the data frame\n",
        "        sentence = self.df.loc[index, 'text']\n",
        "\n",
        "        #Preprocessing the text to be suitable for BERT\n",
        "        tokens = self.tokenizer.tokenize(sentence) #Tokenize the sentence\n",
        "        tokens = ['[CLS]'] + tokens + ['[SEP]'] #Insering the CLS and SEP token in the beginning and end of the sentence\n",
        "        if len(tokens) < self.maxlen:\n",
        "            tokens = tokens + ['[PAD]' for _ in range(self.maxlen - len(tokens))] #Padding sentences\n",
        "        else:\n",
        "            tokens = tokens[:self.maxlen-1] + ['[SEP]'] #Prunning the list to be of specified max length\n",
        "\n",
        "        tokens_ids = self.tokenizer.convert_tokens_to_ids(tokens) #Obtaining the indices of the tokens in the BERT Vocabulary\n",
        "        tokens_ids_tensor = torch.tensor(tokens_ids) #Converting the list to a pytorch tensor\n",
        "\n",
        "        #Obtaining the attention mask i.e a tensor containing 1s for no padded tokens and 0s for padded ones\n",
        "        attn_mask = (tokens_ids_tensor != 0).long()\n",
        "\n",
        "        return tokens_ids_tensor, attn_mask"
      ]
    },
    {
      "cell_type": "code",
      "execution_count": 13,
      "id": "c24SOTcYEnVz",
      "metadata": {
        "id": "c24SOTcYEnVz"
      },
      "outputs": [],
      "source": [
        "test_set = TestDataset(filename = 'test_bert_merge.tsv', maxlen = 512)\n",
        "\n",
        "#Creating intsances of training and development dataloaders\n",
        "test_loader = DataLoader(test_set,batch_size = 1, num_workers = 0)"
      ]
    },
    {
      "cell_type": "code",
      "execution_count": 14,
      "id": "i3oq_9ZcE6_p",
      "metadata": {
        "id": "i3oq_9ZcE6_p"
      },
      "outputs": [],
      "source": [
        "def predict(net, test_loader,weight_file):\n",
        "    # load weight\n",
        "    net.load_state_dict(torch.load(weight_file))\n",
        "    \n",
        "    predictions = []\n",
        "    \n",
        "    # Predict process\n",
        "    with torch.no_grad():\n",
        "        for seq, attn_masks in test_loader:\n",
        "            seq, attn_masks = seq.cuda(gpu), attn_masks.cuda(gpu)\n",
        "            logits = net(seq, attn_masks)\n",
        "            probs = torch.sigmoid(logits.unsqueeze(-1))\n",
        "            soft_probs = (probs > 0.5).long()\n",
        "            predictions.append(soft_probs.cpu().numpy().squeeze())\n",
        "    return predictions"
      ]
    },
    {
      "cell_type": "code",
      "execution_count": 28,
      "id": "gTOFhGeeGGli",
      "metadata": {
        "id": "gTOFhGeeGGli"
      },
      "outputs": [],
      "source": [
        "weight_file = \"sstcls_4.dat\"\n",
        "prediction = predict(net, test_loader,weight_file)"
      ]
    },
    {
      "cell_type": "code",
      "execution_count": 29,
      "id": "rBKsPeMBG2mU",
      "metadata": {
        "id": "rBKsPeMBG2mU"
      },
      "outputs": [],
      "source": [
        "df = pd.DataFrame({\"Id\": range(len(prediction)),\"Predicted\": prediction}) \n",
        "df.to_csv('bert_predict_merge.csv',index=False)"
      ]
    }
  ],
  "metadata": {
    "accelerator": "GPU",
    "colab": {
      "name": "BERT-Merged.ipynb",
      "provenance": []
    },
    "kernelspec": {
      "display_name": "Python 3 (ipykernel)",
      "language": "python",
      "name": "python3"
    },
    "language_info": {
      "codemirror_mode": {
        "name": "ipython",
        "version": 3
      },
      "file_extension": ".py",
      "mimetype": "text/x-python",
      "name": "python",
      "nbconvert_exporter": "python",
      "pygments_lexer": "ipython3",
      "version": "3.7.11"
    },
    "widgets": {
      "application/vnd.jupyter.widget-state+json": {
        "99ff15422a174d78aa6ae5434d513bd7": {
          "model_module": "@jupyter-widgets/controls",
          "model_name": "HBoxModel",
          "model_module_version": "1.5.0",
          "state": {
            "_dom_classes": [],
            "_model_module": "@jupyter-widgets/controls",
            "_model_module_version": "1.5.0",
            "_model_name": "HBoxModel",
            "_view_count": null,
            "_view_module": "@jupyter-widgets/controls",
            "_view_module_version": "1.5.0",
            "_view_name": "HBoxView",
            "box_style": "",
            "children": [
              "IPY_MODEL_f3ea36d4f277409b8b1319b4dba999c2",
              "IPY_MODEL_5ce719690ed84668addbae42389411bc",
              "IPY_MODEL_98d8ab8e0c924dc78565cd22c3ccefbf"
            ],
            "layout": "IPY_MODEL_332776df5680412eb93db1533cd6068c"
          }
        },
        "f3ea36d4f277409b8b1319b4dba999c2": {
          "model_module": "@jupyter-widgets/controls",
          "model_name": "HTMLModel",
          "model_module_version": "1.5.0",
          "state": {
            "_dom_classes": [],
            "_model_module": "@jupyter-widgets/controls",
            "_model_module_version": "1.5.0",
            "_model_name": "HTMLModel",
            "_view_count": null,
            "_view_module": "@jupyter-widgets/controls",
            "_view_module_version": "1.5.0",
            "_view_name": "HTMLView",
            "description": "",
            "description_tooltip": null,
            "layout": "IPY_MODEL_6a6a0256cf464330a976b445b7469971",
            "placeholder": "​",
            "style": "IPY_MODEL_5d5e438536134f6d8eaced9b042de218",
            "value": "Downloading: 100%"
          }
        },
        "5ce719690ed84668addbae42389411bc": {
          "model_module": "@jupyter-widgets/controls",
          "model_name": "FloatProgressModel",
          "model_module_version": "1.5.0",
          "state": {
            "_dom_classes": [],
            "_model_module": "@jupyter-widgets/controls",
            "_model_module_version": "1.5.0",
            "_model_name": "FloatProgressModel",
            "_view_count": null,
            "_view_module": "@jupyter-widgets/controls",
            "_view_module_version": "1.5.0",
            "_view_name": "ProgressView",
            "bar_style": "success",
            "description": "",
            "description_tooltip": null,
            "layout": "IPY_MODEL_75bfc1db024841ce8f0c40f2dd05003f",
            "max": 570,
            "min": 0,
            "orientation": "horizontal",
            "style": "IPY_MODEL_81f85d9085ea41cab2135c8475c89584",
            "value": 570
          }
        },
        "98d8ab8e0c924dc78565cd22c3ccefbf": {
          "model_module": "@jupyter-widgets/controls",
          "model_name": "HTMLModel",
          "model_module_version": "1.5.0",
          "state": {
            "_dom_classes": [],
            "_model_module": "@jupyter-widgets/controls",
            "_model_module_version": "1.5.0",
            "_model_name": "HTMLModel",
            "_view_count": null,
            "_view_module": "@jupyter-widgets/controls",
            "_view_module_version": "1.5.0",
            "_view_name": "HTMLView",
            "description": "",
            "description_tooltip": null,
            "layout": "IPY_MODEL_e053bfd06e6c4fd18ed3ed324fbbfc18",
            "placeholder": "​",
            "style": "IPY_MODEL_4987e24bd3824fa9933b75f6da6ae3cb",
            "value": " 570/570 [00:00&lt;00:00, 6.17kB/s]"
          }
        },
        "332776df5680412eb93db1533cd6068c": {
          "model_module": "@jupyter-widgets/base",
          "model_name": "LayoutModel",
          "model_module_version": "1.2.0",
          "state": {
            "_model_module": "@jupyter-widgets/base",
            "_model_module_version": "1.2.0",
            "_model_name": "LayoutModel",
            "_view_count": null,
            "_view_module": "@jupyter-widgets/base",
            "_view_module_version": "1.2.0",
            "_view_name": "LayoutView",
            "align_content": null,
            "align_items": null,
            "align_self": null,
            "border": null,
            "bottom": null,
            "display": null,
            "flex": null,
            "flex_flow": null,
            "grid_area": null,
            "grid_auto_columns": null,
            "grid_auto_flow": null,
            "grid_auto_rows": null,
            "grid_column": null,
            "grid_gap": null,
            "grid_row": null,
            "grid_template_areas": null,
            "grid_template_columns": null,
            "grid_template_rows": null,
            "height": null,
            "justify_content": null,
            "justify_items": null,
            "left": null,
            "margin": null,
            "max_height": null,
            "max_width": null,
            "min_height": null,
            "min_width": null,
            "object_fit": null,
            "object_position": null,
            "order": null,
            "overflow": null,
            "overflow_x": null,
            "overflow_y": null,
            "padding": null,
            "right": null,
            "top": null,
            "visibility": null,
            "width": null
          }
        },
        "6a6a0256cf464330a976b445b7469971": {
          "model_module": "@jupyter-widgets/base",
          "model_name": "LayoutModel",
          "model_module_version": "1.2.0",
          "state": {
            "_model_module": "@jupyter-widgets/base",
            "_model_module_version": "1.2.0",
            "_model_name": "LayoutModel",
            "_view_count": null,
            "_view_module": "@jupyter-widgets/base",
            "_view_module_version": "1.2.0",
            "_view_name": "LayoutView",
            "align_content": null,
            "align_items": null,
            "align_self": null,
            "border": null,
            "bottom": null,
            "display": null,
            "flex": null,
            "flex_flow": null,
            "grid_area": null,
            "grid_auto_columns": null,
            "grid_auto_flow": null,
            "grid_auto_rows": null,
            "grid_column": null,
            "grid_gap": null,
            "grid_row": null,
            "grid_template_areas": null,
            "grid_template_columns": null,
            "grid_template_rows": null,
            "height": null,
            "justify_content": null,
            "justify_items": null,
            "left": null,
            "margin": null,
            "max_height": null,
            "max_width": null,
            "min_height": null,
            "min_width": null,
            "object_fit": null,
            "object_position": null,
            "order": null,
            "overflow": null,
            "overflow_x": null,
            "overflow_y": null,
            "padding": null,
            "right": null,
            "top": null,
            "visibility": null,
            "width": null
          }
        },
        "5d5e438536134f6d8eaced9b042de218": {
          "model_module": "@jupyter-widgets/controls",
          "model_name": "DescriptionStyleModel",
          "model_module_version": "1.5.0",
          "state": {
            "_model_module": "@jupyter-widgets/controls",
            "_model_module_version": "1.5.0",
            "_model_name": "DescriptionStyleModel",
            "_view_count": null,
            "_view_module": "@jupyter-widgets/base",
            "_view_module_version": "1.2.0",
            "_view_name": "StyleView",
            "description_width": ""
          }
        },
        "75bfc1db024841ce8f0c40f2dd05003f": {
          "model_module": "@jupyter-widgets/base",
          "model_name": "LayoutModel",
          "model_module_version": "1.2.0",
          "state": {
            "_model_module": "@jupyter-widgets/base",
            "_model_module_version": "1.2.0",
            "_model_name": "LayoutModel",
            "_view_count": null,
            "_view_module": "@jupyter-widgets/base",
            "_view_module_version": "1.2.0",
            "_view_name": "LayoutView",
            "align_content": null,
            "align_items": null,
            "align_self": null,
            "border": null,
            "bottom": null,
            "display": null,
            "flex": null,
            "flex_flow": null,
            "grid_area": null,
            "grid_auto_columns": null,
            "grid_auto_flow": null,
            "grid_auto_rows": null,
            "grid_column": null,
            "grid_gap": null,
            "grid_row": null,
            "grid_template_areas": null,
            "grid_template_columns": null,
            "grid_template_rows": null,
            "height": null,
            "justify_content": null,
            "justify_items": null,
            "left": null,
            "margin": null,
            "max_height": null,
            "max_width": null,
            "min_height": null,
            "min_width": null,
            "object_fit": null,
            "object_position": null,
            "order": null,
            "overflow": null,
            "overflow_x": null,
            "overflow_y": null,
            "padding": null,
            "right": null,
            "top": null,
            "visibility": null,
            "width": null
          }
        },
        "81f85d9085ea41cab2135c8475c89584": {
          "model_module": "@jupyter-widgets/controls",
          "model_name": "ProgressStyleModel",
          "model_module_version": "1.5.0",
          "state": {
            "_model_module": "@jupyter-widgets/controls",
            "_model_module_version": "1.5.0",
            "_model_name": "ProgressStyleModel",
            "_view_count": null,
            "_view_module": "@jupyter-widgets/base",
            "_view_module_version": "1.2.0",
            "_view_name": "StyleView",
            "bar_color": null,
            "description_width": ""
          }
        },
        "e053bfd06e6c4fd18ed3ed324fbbfc18": {
          "model_module": "@jupyter-widgets/base",
          "model_name": "LayoutModel",
          "model_module_version": "1.2.0",
          "state": {
            "_model_module": "@jupyter-widgets/base",
            "_model_module_version": "1.2.0",
            "_model_name": "LayoutModel",
            "_view_count": null,
            "_view_module": "@jupyter-widgets/base",
            "_view_module_version": "1.2.0",
            "_view_name": "LayoutView",
            "align_content": null,
            "align_items": null,
            "align_self": null,
            "border": null,
            "bottom": null,
            "display": null,
            "flex": null,
            "flex_flow": null,
            "grid_area": null,
            "grid_auto_columns": null,
            "grid_auto_flow": null,
            "grid_auto_rows": null,
            "grid_column": null,
            "grid_gap": null,
            "grid_row": null,
            "grid_template_areas": null,
            "grid_template_columns": null,
            "grid_template_rows": null,
            "height": null,
            "justify_content": null,
            "justify_items": null,
            "left": null,
            "margin": null,
            "max_height": null,
            "max_width": null,
            "min_height": null,
            "min_width": null,
            "object_fit": null,
            "object_position": null,
            "order": null,
            "overflow": null,
            "overflow_x": null,
            "overflow_y": null,
            "padding": null,
            "right": null,
            "top": null,
            "visibility": null,
            "width": null
          }
        },
        "4987e24bd3824fa9933b75f6da6ae3cb": {
          "model_module": "@jupyter-widgets/controls",
          "model_name": "DescriptionStyleModel",
          "model_module_version": "1.5.0",
          "state": {
            "_model_module": "@jupyter-widgets/controls",
            "_model_module_version": "1.5.0",
            "_model_name": "DescriptionStyleModel",
            "_view_count": null,
            "_view_module": "@jupyter-widgets/base",
            "_view_module_version": "1.2.0",
            "_view_name": "StyleView",
            "description_width": ""
          }
        },
        "7d8b9eb3488348a28e6068e7c4be7225": {
          "model_module": "@jupyter-widgets/controls",
          "model_name": "HBoxModel",
          "model_module_version": "1.5.0",
          "state": {
            "_dom_classes": [],
            "_model_module": "@jupyter-widgets/controls",
            "_model_module_version": "1.5.0",
            "_model_name": "HBoxModel",
            "_view_count": null,
            "_view_module": "@jupyter-widgets/controls",
            "_view_module_version": "1.5.0",
            "_view_name": "HBoxView",
            "box_style": "",
            "children": [
              "IPY_MODEL_6e854c70c8b540afb5a9bc18ed01b2b2",
              "IPY_MODEL_9a67878aa3ad4d2ba32e3f894d448a02",
              "IPY_MODEL_d21f4421e3f0400baea35b0de5ba2351"
            ],
            "layout": "IPY_MODEL_a2d250af5b7049b682ce74966e213b90"
          }
        },
        "6e854c70c8b540afb5a9bc18ed01b2b2": {
          "model_module": "@jupyter-widgets/controls",
          "model_name": "HTMLModel",
          "model_module_version": "1.5.0",
          "state": {
            "_dom_classes": [],
            "_model_module": "@jupyter-widgets/controls",
            "_model_module_version": "1.5.0",
            "_model_name": "HTMLModel",
            "_view_count": null,
            "_view_module": "@jupyter-widgets/controls",
            "_view_module_version": "1.5.0",
            "_view_name": "HTMLView",
            "description": "",
            "description_tooltip": null,
            "layout": "IPY_MODEL_01651fa10dfb4b0c84a9f369c00c601a",
            "placeholder": "​",
            "style": "IPY_MODEL_8d5c58fd6a3e4e8690c6155ca4f481aa",
            "value": "Downloading: 100%"
          }
        },
        "9a67878aa3ad4d2ba32e3f894d448a02": {
          "model_module": "@jupyter-widgets/controls",
          "model_name": "FloatProgressModel",
          "model_module_version": "1.5.0",
          "state": {
            "_dom_classes": [],
            "_model_module": "@jupyter-widgets/controls",
            "_model_module_version": "1.5.0",
            "_model_name": "FloatProgressModel",
            "_view_count": null,
            "_view_module": "@jupyter-widgets/controls",
            "_view_module_version": "1.5.0",
            "_view_name": "ProgressView",
            "bar_style": "success",
            "description": "",
            "description_tooltip": null,
            "layout": "IPY_MODEL_317f4c0a1dc5442bb29ba94123b69fdc",
            "max": 440473133,
            "min": 0,
            "orientation": "horizontal",
            "style": "IPY_MODEL_b9d5281570c64f97b373f3d59fcdb68a",
            "value": 440473133
          }
        },
        "d21f4421e3f0400baea35b0de5ba2351": {
          "model_module": "@jupyter-widgets/controls",
          "model_name": "HTMLModel",
          "model_module_version": "1.5.0",
          "state": {
            "_dom_classes": [],
            "_model_module": "@jupyter-widgets/controls",
            "_model_module_version": "1.5.0",
            "_model_name": "HTMLModel",
            "_view_count": null,
            "_view_module": "@jupyter-widgets/controls",
            "_view_module_version": "1.5.0",
            "_view_name": "HTMLView",
            "description": "",
            "description_tooltip": null,
            "layout": "IPY_MODEL_dfa87ac25f624edcb300645b10047647",
            "placeholder": "​",
            "style": "IPY_MODEL_8de1d0bfa013430b951e3971ec4775dd",
            "value": " 420M/420M [00:13&lt;00:00, 62.9MB/s]"
          }
        },
        "a2d250af5b7049b682ce74966e213b90": {
          "model_module": "@jupyter-widgets/base",
          "model_name": "LayoutModel",
          "model_module_version": "1.2.0",
          "state": {
            "_model_module": "@jupyter-widgets/base",
            "_model_module_version": "1.2.0",
            "_model_name": "LayoutModel",
            "_view_count": null,
            "_view_module": "@jupyter-widgets/base",
            "_view_module_version": "1.2.0",
            "_view_name": "LayoutView",
            "align_content": null,
            "align_items": null,
            "align_self": null,
            "border": null,
            "bottom": null,
            "display": null,
            "flex": null,
            "flex_flow": null,
            "grid_area": null,
            "grid_auto_columns": null,
            "grid_auto_flow": null,
            "grid_auto_rows": null,
            "grid_column": null,
            "grid_gap": null,
            "grid_row": null,
            "grid_template_areas": null,
            "grid_template_columns": null,
            "grid_template_rows": null,
            "height": null,
            "justify_content": null,
            "justify_items": null,
            "left": null,
            "margin": null,
            "max_height": null,
            "max_width": null,
            "min_height": null,
            "min_width": null,
            "object_fit": null,
            "object_position": null,
            "order": null,
            "overflow": null,
            "overflow_x": null,
            "overflow_y": null,
            "padding": null,
            "right": null,
            "top": null,
            "visibility": null,
            "width": null
          }
        },
        "01651fa10dfb4b0c84a9f369c00c601a": {
          "model_module": "@jupyter-widgets/base",
          "model_name": "LayoutModel",
          "model_module_version": "1.2.0",
          "state": {
            "_model_module": "@jupyter-widgets/base",
            "_model_module_version": "1.2.0",
            "_model_name": "LayoutModel",
            "_view_count": null,
            "_view_module": "@jupyter-widgets/base",
            "_view_module_version": "1.2.0",
            "_view_name": "LayoutView",
            "align_content": null,
            "align_items": null,
            "align_self": null,
            "border": null,
            "bottom": null,
            "display": null,
            "flex": null,
            "flex_flow": null,
            "grid_area": null,
            "grid_auto_columns": null,
            "grid_auto_flow": null,
            "grid_auto_rows": null,
            "grid_column": null,
            "grid_gap": null,
            "grid_row": null,
            "grid_template_areas": null,
            "grid_template_columns": null,
            "grid_template_rows": null,
            "height": null,
            "justify_content": null,
            "justify_items": null,
            "left": null,
            "margin": null,
            "max_height": null,
            "max_width": null,
            "min_height": null,
            "min_width": null,
            "object_fit": null,
            "object_position": null,
            "order": null,
            "overflow": null,
            "overflow_x": null,
            "overflow_y": null,
            "padding": null,
            "right": null,
            "top": null,
            "visibility": null,
            "width": null
          }
        },
        "8d5c58fd6a3e4e8690c6155ca4f481aa": {
          "model_module": "@jupyter-widgets/controls",
          "model_name": "DescriptionStyleModel",
          "model_module_version": "1.5.0",
          "state": {
            "_model_module": "@jupyter-widgets/controls",
            "_model_module_version": "1.5.0",
            "_model_name": "DescriptionStyleModel",
            "_view_count": null,
            "_view_module": "@jupyter-widgets/base",
            "_view_module_version": "1.2.0",
            "_view_name": "StyleView",
            "description_width": ""
          }
        },
        "317f4c0a1dc5442bb29ba94123b69fdc": {
          "model_module": "@jupyter-widgets/base",
          "model_name": "LayoutModel",
          "model_module_version": "1.2.0",
          "state": {
            "_model_module": "@jupyter-widgets/base",
            "_model_module_version": "1.2.0",
            "_model_name": "LayoutModel",
            "_view_count": null,
            "_view_module": "@jupyter-widgets/base",
            "_view_module_version": "1.2.0",
            "_view_name": "LayoutView",
            "align_content": null,
            "align_items": null,
            "align_self": null,
            "border": null,
            "bottom": null,
            "display": null,
            "flex": null,
            "flex_flow": null,
            "grid_area": null,
            "grid_auto_columns": null,
            "grid_auto_flow": null,
            "grid_auto_rows": null,
            "grid_column": null,
            "grid_gap": null,
            "grid_row": null,
            "grid_template_areas": null,
            "grid_template_columns": null,
            "grid_template_rows": null,
            "height": null,
            "justify_content": null,
            "justify_items": null,
            "left": null,
            "margin": null,
            "max_height": null,
            "max_width": null,
            "min_height": null,
            "min_width": null,
            "object_fit": null,
            "object_position": null,
            "order": null,
            "overflow": null,
            "overflow_x": null,
            "overflow_y": null,
            "padding": null,
            "right": null,
            "top": null,
            "visibility": null,
            "width": null
          }
        },
        "b9d5281570c64f97b373f3d59fcdb68a": {
          "model_module": "@jupyter-widgets/controls",
          "model_name": "ProgressStyleModel",
          "model_module_version": "1.5.0",
          "state": {
            "_model_module": "@jupyter-widgets/controls",
            "_model_module_version": "1.5.0",
            "_model_name": "ProgressStyleModel",
            "_view_count": null,
            "_view_module": "@jupyter-widgets/base",
            "_view_module_version": "1.2.0",
            "_view_name": "StyleView",
            "bar_color": null,
            "description_width": ""
          }
        },
        "dfa87ac25f624edcb300645b10047647": {
          "model_module": "@jupyter-widgets/base",
          "model_name": "LayoutModel",
          "model_module_version": "1.2.0",
          "state": {
            "_model_module": "@jupyter-widgets/base",
            "_model_module_version": "1.2.0",
            "_model_name": "LayoutModel",
            "_view_count": null,
            "_view_module": "@jupyter-widgets/base",
            "_view_module_version": "1.2.0",
            "_view_name": "LayoutView",
            "align_content": null,
            "align_items": null,
            "align_self": null,
            "border": null,
            "bottom": null,
            "display": null,
            "flex": null,
            "flex_flow": null,
            "grid_area": null,
            "grid_auto_columns": null,
            "grid_auto_flow": null,
            "grid_auto_rows": null,
            "grid_column": null,
            "grid_gap": null,
            "grid_row": null,
            "grid_template_areas": null,
            "grid_template_columns": null,
            "grid_template_rows": null,
            "height": null,
            "justify_content": null,
            "justify_items": null,
            "left": null,
            "margin": null,
            "max_height": null,
            "max_width": null,
            "min_height": null,
            "min_width": null,
            "object_fit": null,
            "object_position": null,
            "order": null,
            "overflow": null,
            "overflow_x": null,
            "overflow_y": null,
            "padding": null,
            "right": null,
            "top": null,
            "visibility": null,
            "width": null
          }
        },
        "8de1d0bfa013430b951e3971ec4775dd": {
          "model_module": "@jupyter-widgets/controls",
          "model_name": "DescriptionStyleModel",
          "model_module_version": "1.5.0",
          "state": {
            "_model_module": "@jupyter-widgets/controls",
            "_model_module_version": "1.5.0",
            "_model_name": "DescriptionStyleModel",
            "_view_count": null,
            "_view_module": "@jupyter-widgets/base",
            "_view_module_version": "1.2.0",
            "_view_name": "StyleView",
            "description_width": ""
          }
        },
        "2a48e06f1312414ea3d61acacbafdda0": {
          "model_module": "@jupyter-widgets/controls",
          "model_name": "HBoxModel",
          "model_module_version": "1.5.0",
          "state": {
            "_dom_classes": [],
            "_model_module": "@jupyter-widgets/controls",
            "_model_module_version": "1.5.0",
            "_model_name": "HBoxModel",
            "_view_count": null,
            "_view_module": "@jupyter-widgets/controls",
            "_view_module_version": "1.5.0",
            "_view_name": "HBoxView",
            "box_style": "",
            "children": [
              "IPY_MODEL_2b0334e1d55e45a7b7cd367f98aeb7c8",
              "IPY_MODEL_a4e793631ccc43d2be06b7fe2cc77e15",
              "IPY_MODEL_3c1d051a26ae403fa923da8e35218dc8"
            ],
            "layout": "IPY_MODEL_65358503660749e29e39b41455c75854"
          }
        },
        "2b0334e1d55e45a7b7cd367f98aeb7c8": {
          "model_module": "@jupyter-widgets/controls",
          "model_name": "HTMLModel",
          "model_module_version": "1.5.0",
          "state": {
            "_dom_classes": [],
            "_model_module": "@jupyter-widgets/controls",
            "_model_module_version": "1.5.0",
            "_model_name": "HTMLModel",
            "_view_count": null,
            "_view_module": "@jupyter-widgets/controls",
            "_view_module_version": "1.5.0",
            "_view_name": "HTMLView",
            "description": "",
            "description_tooltip": null,
            "layout": "IPY_MODEL_ef2ee33653d24cd2bdfb7b551d20815a",
            "placeholder": "​",
            "style": "IPY_MODEL_d9e399a8b24b45e4998bf2983eb54839",
            "value": "Downloading: 100%"
          }
        },
        "a4e793631ccc43d2be06b7fe2cc77e15": {
          "model_module": "@jupyter-widgets/controls",
          "model_name": "FloatProgressModel",
          "model_module_version": "1.5.0",
          "state": {
            "_dom_classes": [],
            "_model_module": "@jupyter-widgets/controls",
            "_model_module_version": "1.5.0",
            "_model_name": "FloatProgressModel",
            "_view_count": null,
            "_view_module": "@jupyter-widgets/controls",
            "_view_module_version": "1.5.0",
            "_view_name": "ProgressView",
            "bar_style": "success",
            "description": "",
            "description_tooltip": null,
            "layout": "IPY_MODEL_c9778d426b3143e3ba9f0a84e2d36610",
            "max": 231508,
            "min": 0,
            "orientation": "horizontal",
            "style": "IPY_MODEL_b7dbb7e85fc341329246b492a5eae33e",
            "value": 231508
          }
        },
        "3c1d051a26ae403fa923da8e35218dc8": {
          "model_module": "@jupyter-widgets/controls",
          "model_name": "HTMLModel",
          "model_module_version": "1.5.0",
          "state": {
            "_dom_classes": [],
            "_model_module": "@jupyter-widgets/controls",
            "_model_module_version": "1.5.0",
            "_model_name": "HTMLModel",
            "_view_count": null,
            "_view_module": "@jupyter-widgets/controls",
            "_view_module_version": "1.5.0",
            "_view_name": "HTMLView",
            "description": "",
            "description_tooltip": null,
            "layout": "IPY_MODEL_fe5b0366ae0f4dc9b1c920636d53b3f4",
            "placeholder": "​",
            "style": "IPY_MODEL_eebbf467e62c431b81c16bfd63e98d4d",
            "value": " 226k/226k [00:00&lt;00:00, 703kB/s]"
          }
        },
        "65358503660749e29e39b41455c75854": {
          "model_module": "@jupyter-widgets/base",
          "model_name": "LayoutModel",
          "model_module_version": "1.2.0",
          "state": {
            "_model_module": "@jupyter-widgets/base",
            "_model_module_version": "1.2.0",
            "_model_name": "LayoutModel",
            "_view_count": null,
            "_view_module": "@jupyter-widgets/base",
            "_view_module_version": "1.2.0",
            "_view_name": "LayoutView",
            "align_content": null,
            "align_items": null,
            "align_self": null,
            "border": null,
            "bottom": null,
            "display": null,
            "flex": null,
            "flex_flow": null,
            "grid_area": null,
            "grid_auto_columns": null,
            "grid_auto_flow": null,
            "grid_auto_rows": null,
            "grid_column": null,
            "grid_gap": null,
            "grid_row": null,
            "grid_template_areas": null,
            "grid_template_columns": null,
            "grid_template_rows": null,
            "height": null,
            "justify_content": null,
            "justify_items": null,
            "left": null,
            "margin": null,
            "max_height": null,
            "max_width": null,
            "min_height": null,
            "min_width": null,
            "object_fit": null,
            "object_position": null,
            "order": null,
            "overflow": null,
            "overflow_x": null,
            "overflow_y": null,
            "padding": null,
            "right": null,
            "top": null,
            "visibility": null,
            "width": null
          }
        },
        "ef2ee33653d24cd2bdfb7b551d20815a": {
          "model_module": "@jupyter-widgets/base",
          "model_name": "LayoutModel",
          "model_module_version": "1.2.0",
          "state": {
            "_model_module": "@jupyter-widgets/base",
            "_model_module_version": "1.2.0",
            "_model_name": "LayoutModel",
            "_view_count": null,
            "_view_module": "@jupyter-widgets/base",
            "_view_module_version": "1.2.0",
            "_view_name": "LayoutView",
            "align_content": null,
            "align_items": null,
            "align_self": null,
            "border": null,
            "bottom": null,
            "display": null,
            "flex": null,
            "flex_flow": null,
            "grid_area": null,
            "grid_auto_columns": null,
            "grid_auto_flow": null,
            "grid_auto_rows": null,
            "grid_column": null,
            "grid_gap": null,
            "grid_row": null,
            "grid_template_areas": null,
            "grid_template_columns": null,
            "grid_template_rows": null,
            "height": null,
            "justify_content": null,
            "justify_items": null,
            "left": null,
            "margin": null,
            "max_height": null,
            "max_width": null,
            "min_height": null,
            "min_width": null,
            "object_fit": null,
            "object_position": null,
            "order": null,
            "overflow": null,
            "overflow_x": null,
            "overflow_y": null,
            "padding": null,
            "right": null,
            "top": null,
            "visibility": null,
            "width": null
          }
        },
        "d9e399a8b24b45e4998bf2983eb54839": {
          "model_module": "@jupyter-widgets/controls",
          "model_name": "DescriptionStyleModel",
          "model_module_version": "1.5.0",
          "state": {
            "_model_module": "@jupyter-widgets/controls",
            "_model_module_version": "1.5.0",
            "_model_name": "DescriptionStyleModel",
            "_view_count": null,
            "_view_module": "@jupyter-widgets/base",
            "_view_module_version": "1.2.0",
            "_view_name": "StyleView",
            "description_width": ""
          }
        },
        "c9778d426b3143e3ba9f0a84e2d36610": {
          "model_module": "@jupyter-widgets/base",
          "model_name": "LayoutModel",
          "model_module_version": "1.2.0",
          "state": {
            "_model_module": "@jupyter-widgets/base",
            "_model_module_version": "1.2.0",
            "_model_name": "LayoutModel",
            "_view_count": null,
            "_view_module": "@jupyter-widgets/base",
            "_view_module_version": "1.2.0",
            "_view_name": "LayoutView",
            "align_content": null,
            "align_items": null,
            "align_self": null,
            "border": null,
            "bottom": null,
            "display": null,
            "flex": null,
            "flex_flow": null,
            "grid_area": null,
            "grid_auto_columns": null,
            "grid_auto_flow": null,
            "grid_auto_rows": null,
            "grid_column": null,
            "grid_gap": null,
            "grid_row": null,
            "grid_template_areas": null,
            "grid_template_columns": null,
            "grid_template_rows": null,
            "height": null,
            "justify_content": null,
            "justify_items": null,
            "left": null,
            "margin": null,
            "max_height": null,
            "max_width": null,
            "min_height": null,
            "min_width": null,
            "object_fit": null,
            "object_position": null,
            "order": null,
            "overflow": null,
            "overflow_x": null,
            "overflow_y": null,
            "padding": null,
            "right": null,
            "top": null,
            "visibility": null,
            "width": null
          }
        },
        "b7dbb7e85fc341329246b492a5eae33e": {
          "model_module": "@jupyter-widgets/controls",
          "model_name": "ProgressStyleModel",
          "model_module_version": "1.5.0",
          "state": {
            "_model_module": "@jupyter-widgets/controls",
            "_model_module_version": "1.5.0",
            "_model_name": "ProgressStyleModel",
            "_view_count": null,
            "_view_module": "@jupyter-widgets/base",
            "_view_module_version": "1.2.0",
            "_view_name": "StyleView",
            "bar_color": null,
            "description_width": ""
          }
        },
        "fe5b0366ae0f4dc9b1c920636d53b3f4": {
          "model_module": "@jupyter-widgets/base",
          "model_name": "LayoutModel",
          "model_module_version": "1.2.0",
          "state": {
            "_model_module": "@jupyter-widgets/base",
            "_model_module_version": "1.2.0",
            "_model_name": "LayoutModel",
            "_view_count": null,
            "_view_module": "@jupyter-widgets/base",
            "_view_module_version": "1.2.0",
            "_view_name": "LayoutView",
            "align_content": null,
            "align_items": null,
            "align_self": null,
            "border": null,
            "bottom": null,
            "display": null,
            "flex": null,
            "flex_flow": null,
            "grid_area": null,
            "grid_auto_columns": null,
            "grid_auto_flow": null,
            "grid_auto_rows": null,
            "grid_column": null,
            "grid_gap": null,
            "grid_row": null,
            "grid_template_areas": null,
            "grid_template_columns": null,
            "grid_template_rows": null,
            "height": null,
            "justify_content": null,
            "justify_items": null,
            "left": null,
            "margin": null,
            "max_height": null,
            "max_width": null,
            "min_height": null,
            "min_width": null,
            "object_fit": null,
            "object_position": null,
            "order": null,
            "overflow": null,
            "overflow_x": null,
            "overflow_y": null,
            "padding": null,
            "right": null,
            "top": null,
            "visibility": null,
            "width": null
          }
        },
        "eebbf467e62c431b81c16bfd63e98d4d": {
          "model_module": "@jupyter-widgets/controls",
          "model_name": "DescriptionStyleModel",
          "model_module_version": "1.5.0",
          "state": {
            "_model_module": "@jupyter-widgets/controls",
            "_model_module_version": "1.5.0",
            "_model_name": "DescriptionStyleModel",
            "_view_count": null,
            "_view_module": "@jupyter-widgets/base",
            "_view_module_version": "1.2.0",
            "_view_name": "StyleView",
            "description_width": ""
          }
        },
        "a0c3a8b0d8334dc188a838810e6466ec": {
          "model_module": "@jupyter-widgets/controls",
          "model_name": "HBoxModel",
          "model_module_version": "1.5.0",
          "state": {
            "_dom_classes": [],
            "_model_module": "@jupyter-widgets/controls",
            "_model_module_version": "1.5.0",
            "_model_name": "HBoxModel",
            "_view_count": null,
            "_view_module": "@jupyter-widgets/controls",
            "_view_module_version": "1.5.0",
            "_view_name": "HBoxView",
            "box_style": "",
            "children": [
              "IPY_MODEL_3a8b3c67573445d086c2d487e36c0894",
              "IPY_MODEL_eb449725b5b5452ba5742843355ffd69",
              "IPY_MODEL_505805e9d91b438d9512ac94845761df"
            ],
            "layout": "IPY_MODEL_57d2908f3132438499cac4764062104b"
          }
        },
        "3a8b3c67573445d086c2d487e36c0894": {
          "model_module": "@jupyter-widgets/controls",
          "model_name": "HTMLModel",
          "model_module_version": "1.5.0",
          "state": {
            "_dom_classes": [],
            "_model_module": "@jupyter-widgets/controls",
            "_model_module_version": "1.5.0",
            "_model_name": "HTMLModel",
            "_view_count": null,
            "_view_module": "@jupyter-widgets/controls",
            "_view_module_version": "1.5.0",
            "_view_name": "HTMLView",
            "description": "",
            "description_tooltip": null,
            "layout": "IPY_MODEL_920203bda4804b458d9788d86b94b06a",
            "placeholder": "​",
            "style": "IPY_MODEL_b2fe8090050a4172b028fc6b0c6caee9",
            "value": "Downloading: 100%"
          }
        },
        "eb449725b5b5452ba5742843355ffd69": {
          "model_module": "@jupyter-widgets/controls",
          "model_name": "FloatProgressModel",
          "model_module_version": "1.5.0",
          "state": {
            "_dom_classes": [],
            "_model_module": "@jupyter-widgets/controls",
            "_model_module_version": "1.5.0",
            "_model_name": "FloatProgressModel",
            "_view_count": null,
            "_view_module": "@jupyter-widgets/controls",
            "_view_module_version": "1.5.0",
            "_view_name": "ProgressView",
            "bar_style": "success",
            "description": "",
            "description_tooltip": null,
            "layout": "IPY_MODEL_8eea7a4d33384cd3b8c2d1f4fd07d0b4",
            "max": 28,
            "min": 0,
            "orientation": "horizontal",
            "style": "IPY_MODEL_6d6eb563ed90452d8179cd099a23d11a",
            "value": 28
          }
        },
        "505805e9d91b438d9512ac94845761df": {
          "model_module": "@jupyter-widgets/controls",
          "model_name": "HTMLModel",
          "model_module_version": "1.5.0",
          "state": {
            "_dom_classes": [],
            "_model_module": "@jupyter-widgets/controls",
            "_model_module_version": "1.5.0",
            "_model_name": "HTMLModel",
            "_view_count": null,
            "_view_module": "@jupyter-widgets/controls",
            "_view_module_version": "1.5.0",
            "_view_name": "HTMLView",
            "description": "",
            "description_tooltip": null,
            "layout": "IPY_MODEL_51badc6ad234452fa9ac0d4aa1b4cb19",
            "placeholder": "​",
            "style": "IPY_MODEL_0773a55ecd3f4262bfe1897d17390aa2",
            "value": " 28.0/28.0 [00:00&lt;00:00, 401B/s]"
          }
        },
        "57d2908f3132438499cac4764062104b": {
          "model_module": "@jupyter-widgets/base",
          "model_name": "LayoutModel",
          "model_module_version": "1.2.0",
          "state": {
            "_model_module": "@jupyter-widgets/base",
            "_model_module_version": "1.2.0",
            "_model_name": "LayoutModel",
            "_view_count": null,
            "_view_module": "@jupyter-widgets/base",
            "_view_module_version": "1.2.0",
            "_view_name": "LayoutView",
            "align_content": null,
            "align_items": null,
            "align_self": null,
            "border": null,
            "bottom": null,
            "display": null,
            "flex": null,
            "flex_flow": null,
            "grid_area": null,
            "grid_auto_columns": null,
            "grid_auto_flow": null,
            "grid_auto_rows": null,
            "grid_column": null,
            "grid_gap": null,
            "grid_row": null,
            "grid_template_areas": null,
            "grid_template_columns": null,
            "grid_template_rows": null,
            "height": null,
            "justify_content": null,
            "justify_items": null,
            "left": null,
            "margin": null,
            "max_height": null,
            "max_width": null,
            "min_height": null,
            "min_width": null,
            "object_fit": null,
            "object_position": null,
            "order": null,
            "overflow": null,
            "overflow_x": null,
            "overflow_y": null,
            "padding": null,
            "right": null,
            "top": null,
            "visibility": null,
            "width": null
          }
        },
        "920203bda4804b458d9788d86b94b06a": {
          "model_module": "@jupyter-widgets/base",
          "model_name": "LayoutModel",
          "model_module_version": "1.2.0",
          "state": {
            "_model_module": "@jupyter-widgets/base",
            "_model_module_version": "1.2.0",
            "_model_name": "LayoutModel",
            "_view_count": null,
            "_view_module": "@jupyter-widgets/base",
            "_view_module_version": "1.2.0",
            "_view_name": "LayoutView",
            "align_content": null,
            "align_items": null,
            "align_self": null,
            "border": null,
            "bottom": null,
            "display": null,
            "flex": null,
            "flex_flow": null,
            "grid_area": null,
            "grid_auto_columns": null,
            "grid_auto_flow": null,
            "grid_auto_rows": null,
            "grid_column": null,
            "grid_gap": null,
            "grid_row": null,
            "grid_template_areas": null,
            "grid_template_columns": null,
            "grid_template_rows": null,
            "height": null,
            "justify_content": null,
            "justify_items": null,
            "left": null,
            "margin": null,
            "max_height": null,
            "max_width": null,
            "min_height": null,
            "min_width": null,
            "object_fit": null,
            "object_position": null,
            "order": null,
            "overflow": null,
            "overflow_x": null,
            "overflow_y": null,
            "padding": null,
            "right": null,
            "top": null,
            "visibility": null,
            "width": null
          }
        },
        "b2fe8090050a4172b028fc6b0c6caee9": {
          "model_module": "@jupyter-widgets/controls",
          "model_name": "DescriptionStyleModel",
          "model_module_version": "1.5.0",
          "state": {
            "_model_module": "@jupyter-widgets/controls",
            "_model_module_version": "1.5.0",
            "_model_name": "DescriptionStyleModel",
            "_view_count": null,
            "_view_module": "@jupyter-widgets/base",
            "_view_module_version": "1.2.0",
            "_view_name": "StyleView",
            "description_width": ""
          }
        },
        "8eea7a4d33384cd3b8c2d1f4fd07d0b4": {
          "model_module": "@jupyter-widgets/base",
          "model_name": "LayoutModel",
          "model_module_version": "1.2.0",
          "state": {
            "_model_module": "@jupyter-widgets/base",
            "_model_module_version": "1.2.0",
            "_model_name": "LayoutModel",
            "_view_count": null,
            "_view_module": "@jupyter-widgets/base",
            "_view_module_version": "1.2.0",
            "_view_name": "LayoutView",
            "align_content": null,
            "align_items": null,
            "align_self": null,
            "border": null,
            "bottom": null,
            "display": null,
            "flex": null,
            "flex_flow": null,
            "grid_area": null,
            "grid_auto_columns": null,
            "grid_auto_flow": null,
            "grid_auto_rows": null,
            "grid_column": null,
            "grid_gap": null,
            "grid_row": null,
            "grid_template_areas": null,
            "grid_template_columns": null,
            "grid_template_rows": null,
            "height": null,
            "justify_content": null,
            "justify_items": null,
            "left": null,
            "margin": null,
            "max_height": null,
            "max_width": null,
            "min_height": null,
            "min_width": null,
            "object_fit": null,
            "object_position": null,
            "order": null,
            "overflow": null,
            "overflow_x": null,
            "overflow_y": null,
            "padding": null,
            "right": null,
            "top": null,
            "visibility": null,
            "width": null
          }
        },
        "6d6eb563ed90452d8179cd099a23d11a": {
          "model_module": "@jupyter-widgets/controls",
          "model_name": "ProgressStyleModel",
          "model_module_version": "1.5.0",
          "state": {
            "_model_module": "@jupyter-widgets/controls",
            "_model_module_version": "1.5.0",
            "_model_name": "ProgressStyleModel",
            "_view_count": null,
            "_view_module": "@jupyter-widgets/base",
            "_view_module_version": "1.2.0",
            "_view_name": "StyleView",
            "bar_color": null,
            "description_width": ""
          }
        },
        "51badc6ad234452fa9ac0d4aa1b4cb19": {
          "model_module": "@jupyter-widgets/base",
          "model_name": "LayoutModel",
          "model_module_version": "1.2.0",
          "state": {
            "_model_module": "@jupyter-widgets/base",
            "_model_module_version": "1.2.0",
            "_model_name": "LayoutModel",
            "_view_count": null,
            "_view_module": "@jupyter-widgets/base",
            "_view_module_version": "1.2.0",
            "_view_name": "LayoutView",
            "align_content": null,
            "align_items": null,
            "align_self": null,
            "border": null,
            "bottom": null,
            "display": null,
            "flex": null,
            "flex_flow": null,
            "grid_area": null,
            "grid_auto_columns": null,
            "grid_auto_flow": null,
            "grid_auto_rows": null,
            "grid_column": null,
            "grid_gap": null,
            "grid_row": null,
            "grid_template_areas": null,
            "grid_template_columns": null,
            "grid_template_rows": null,
            "height": null,
            "justify_content": null,
            "justify_items": null,
            "left": null,
            "margin": null,
            "max_height": null,
            "max_width": null,
            "min_height": null,
            "min_width": null,
            "object_fit": null,
            "object_position": null,
            "order": null,
            "overflow": null,
            "overflow_x": null,
            "overflow_y": null,
            "padding": null,
            "right": null,
            "top": null,
            "visibility": null,
            "width": null
          }
        },
        "0773a55ecd3f4262bfe1897d17390aa2": {
          "model_module": "@jupyter-widgets/controls",
          "model_name": "DescriptionStyleModel",
          "model_module_version": "1.5.0",
          "state": {
            "_model_module": "@jupyter-widgets/controls",
            "_model_module_version": "1.5.0",
            "_model_name": "DescriptionStyleModel",
            "_view_count": null,
            "_view_module": "@jupyter-widgets/base",
            "_view_module_version": "1.2.0",
            "_view_name": "StyleView",
            "description_width": ""
          }
        }
      }
    }
  },
  "nbformat": 4,
  "nbformat_minor": 5
}