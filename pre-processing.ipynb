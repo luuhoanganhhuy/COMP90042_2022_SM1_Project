{
 "cells": [
  {
   "cell_type": "code",
   "execution_count": 1,
   "id": "9a35d77f",
   "metadata": {},
   "outputs": [],
   "source": [
    "import tweepy\n",
    "import configparser\n",
    "import pandas as pd\n",
    "import numpy as np\n",
    "import re\n",
    "import matplotlib.pyplot as plt\n",
    "import pickle\n",
    "import nltk\n",
    "import string\n",
    "import collections\n",
    "from sklearn.feature_extraction.text import TfidfVectorizer\n",
    "from sklearn.naive_bayes import MultinomialNB\n",
    "from sklearn.linear_model import LogisticRegression\n",
    "from sklearn.metrics import accuracy_score\n",
    "from sklearn.feature_extraction import DictVectorizer"
   ]
  },
  {
   "cell_type": "code",
   "execution_count": 2,
   "id": "27f974c5",
   "metadata": {},
   "outputs": [],
   "source": [
    "# read data \n",
    "train_data_file = open('project-data/train.data.txt', 'r')\n",
    "train_lines = train_data_file.readlines()\n",
    "train_events =[]\n",
    "# Strips the newline character\n",
    "for line in train_lines:\n",
    "    train_events.append(list(map(int,line.strip('\\n').split(','))))\n",
    "    \n",
    "train_label_file = open('project-data/train.label.txt', 'r')\n",
    "train_labels = train_label_file.readlines()\n",
    "train_labels = [label.strip('\\n') for label in train_labels]\n",
    "\n",
    "\n",
    "dev_data_file = open('project-data/dev.data.txt', 'r')\n",
    "dev_lines = dev_data_file.readlines()\n",
    "dev_events =[]\n",
    "# Strips the newline character\n",
    "for line in dev_lines:\n",
    "    dev_events.append(list(map(int,line.strip('\\n').split(','))))\n",
    "    \n",
    "dev_label_file = open('project-data/dev.label.txt', 'r')\n",
    "dev_labels = dev_label_file.readlines()\n",
    "dev_labels = [label.strip('\\n') for label in dev_labels]"
   ]
  },
  {
   "cell_type": "code",
   "execution_count": 3,
   "id": "3e4e3125",
   "metadata": {},
   "outputs": [],
   "source": [
    "# config to access tweeter API\n",
    "config = configparser.ConfigParser()\n",
    "config.read('config.ini')\n",
    "\n",
    "consumer_key = config['twitter']['consumer_key']\n",
    "consumer_secret = config['twitter']['consumer_secret']\n",
    "\n",
    "access_token = config['twitter']['access_token']\n",
    "access_token_secret = config['twitter']['access_token_secret']"
   ]
  },
  {
   "cell_type": "code",
   "execution_count": 4,
   "id": "305b8c4b",
   "metadata": {},
   "outputs": [],
   "source": [
    "# authentication\n",
    "client = tweepy.Client(consumer_key=consumer_key, consumer_secret=consumer_secret,\n",
    "                                   access_token=access_token, access_token_secret=access_token_secret,wait_on_rate_limit=True)"
   ]
  },
  {
   "cell_type": "code",
   "execution_count": 5,
   "id": "fdd867de",
   "metadata": {},
   "outputs": [],
   "source": [
    "# get_tweets only return 100 results, handle the case when there is more than 100\n",
    "def lookup_tweets(tweet_IDs, client):\n",
    "    full_tweets = []\n",
    "    tweet_count = len(tweet_IDs)\n",
    "    for i in range(int((tweet_count / 100) + 1)):\n",
    "        # Catch the last group if it is less than 100 tweets\n",
    "        end_loc = min((i + 1) * 100, tweet_count)\n",
    "        if tweet_IDs[i * 100:end_loc]:\n",
    "            tweets = client.get_tweets(tweet_IDs[i * 100:end_loc],user_auth=True).data\n",
    "            if tweets:\n",
    "                full_tweets.extend(tweets)\n",
    "    return full_tweets\n",
    "    "
   ]
  },
  {
   "cell_type": "code",
   "execution_count": 6,
   "id": "bc875eec",
   "metadata": {},
   "outputs": [
    {
     "name": "stderr",
     "output_type": "stream",
     "text": [
      "Rate limit exceeded. Sleeping for 657 seconds.\n",
      "Rate limit exceeded. Sleeping for 661 seconds.\n"
     ]
    }
   ],
   "source": [
    "# get the text of all events\n",
    "train_events_text=[]\n",
    "for event in train_events:\n",
    "    results = lookup_tweets(event, client)\n",
    "    train_event_text=[tweet.text for tweet in results]\n",
    "    train_events_text.append(train_event_text)"
   ]
  },
  {
   "cell_type": "code",
   "execution_count": null,
   "id": "aa941502",
   "metadata": {},
   "outputs": [],
   "source": [
    "# save data to pickle file\n",
    "f = open(f'./tweet_text.pckl','wb')\n",
    "pickle.dump(train_events_text,f)\n",
    "f.close()"
   ]
  },
  {
   "cell_type": "code",
   "execution_count": null,
   "id": "434a7276",
   "metadata": {},
   "outputs": [],
   "source": [
    "# get the text of all events\n",
    "dev_events_text=[]\n",
    "for event in dev_events:\n",
    "    results = lookup_tweets(event, client)\n",
    "    dev_event_text=[tweet.text for tweet in results]\n",
    "    dev_events_text.append(dev_event_text)"
   ]
  },
  {
   "cell_type": "code",
   "execution_count": 171,
   "id": "140e26d0",
   "metadata": {},
   "outputs": [],
   "source": [
    "# save data to pickle file\n",
    "f = open(f'./dev_tweet_text.pckl','wb')\n",
    "pickle.dump(dev_events_text,f)\n",
    "f.close()"
   ]
  },
  {
   "cell_type": "code",
   "execution_count": 13,
   "id": "ce426aaf",
   "metadata": {},
   "outputs": [],
   "source": [
    "# read data \n",
    "test_data_file = open('project-data/test.data.txt', 'r')\n",
    "test_lines = test_data_file.readlines()\n",
    "test_events =[]\n",
    "# Strips the newline character\n",
    "for line in test_lines:\n",
    "    test_events.append(list(map(int,line.strip('\\n').split(','))))"
   ]
  },
  {
   "cell_type": "code",
   "execution_count": null,
   "id": "e1762c40",
   "metadata": {},
   "outputs": [],
   "source": [
    "test_data=[]\n",
    "for event in test_events:\n",
    "    tweet_list=[]\n",
    "    for tweet in event: \n",
    "        f = open('project-data/tweet-objects/'+str(tweet)+'.json')\n",
    "        data = json.load(f)\n",
    "        tweet_list.append(data['text'])\n",
    "    test_data.append(tweet_list)\n",
    "    "
   ]
  },
  {
   "cell_type": "code",
   "execution_count": null,
   "id": "773583a4",
   "metadata": {},
   "outputs": [],
   "source": [
    "# save data to pickle file\n",
    "f = open(f'./test_tweet_text.pckl','wb')\n",
    "pickle.dump(test_data,f)\n",
    "f.close()"
   ]
  }
 ],
 "metadata": {
  "kernelspec": {
   "display_name": "Python 3 (ipykernel)",
   "language": "python",
   "name": "python3"
  },
  "language_info": {
   "codemirror_mode": {
    "name": "ipython",
    "version": 3
   },
   "file_extension": ".py",
   "mimetype": "text/x-python",
   "name": "python",
   "nbconvert_exporter": "python",
   "pygments_lexer": "ipython3",
   "version": "3.7.11"
  }
 },
 "nbformat": 4,
 "nbformat_minor": 5
}
